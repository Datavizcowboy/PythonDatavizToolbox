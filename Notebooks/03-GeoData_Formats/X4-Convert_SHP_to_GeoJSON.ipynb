{
 "cells": [
  {
   "cell_type": "markdown",
   "id": "83bf0dab",
   "metadata": {},
   "source": [
    "# Convert SHP to GeoJSON"
   ]
  },
  {
   "cell_type": "markdown",
   "id": "c6e3fa45",
   "metadata": {},
   "source": [
    "We first load useful libraries"
   ]
  },
  {
   "cell_type": "code",
   "execution_count": 2,
   "id": "a771c323",
   "metadata": {},
   "outputs": [],
   "source": [
    "import shapefile\n",
    "from json import dumps\n",
    "import warnings\n",
    "warnings.filterwarnings(\"ignore\")"
   ]
  },
  {
   "cell_type": "markdown",
   "id": "65607889",
   "metadata": {},
   "source": [
    "We specify the data path"
   ]
  },
  {
   "cell_type": "code",
   "execution_count": 3,
   "id": "808dd48c",
   "metadata": {},
   "outputs": [],
   "source": [
    "reader = shapefile.Reader(r'../../DATA/Fire_Perimeter.shp')   "
   ]
  },
  {
   "cell_type": "markdown",
   "id": "09d63c6c",
   "metadata": {},
   "source": [
    "We create the array where the coordinates will be stored"
   ]
  },
  {
   "cell_type": "code",
   "execution_count": 4,
   "id": "3ac1e0cc",
   "metadata": {},
   "outputs": [],
   "source": [
    "fields = reader.fields[1:]\n",
    "field_names = [field[0] for field in fields]\n",
    "buffer = [] "
   ]
  },
  {
   "cell_type": "markdown",
   "id": "2f700b62",
   "metadata": {},
   "source": [
    "We create the json structure with the features and geometries"
   ]
  },
  {
   "cell_type": "code",
   "execution_count": 5,
   "id": "f5a840de",
   "metadata": {},
   "outputs": [],
   "source": [
    "for sr in reader.shapeRecords():\n",
    "       atr = dict(zip(field_names, sr.record))\n",
    "       geom = sr.shape.__geo_interface__\n",
    "       buffer.append(dict(type=\"Feature\", \\\n",
    "        geometry=geom, properties=atr)) "
   ]
  },
  {
   "cell_type": "markdown",
   "id": "425d521d",
   "metadata": {},
   "source": [
    "We save the output as a geojson file"
   ]
  },
  {
   "cell_type": "code",
   "execution_count": 6,
   "id": "e26beb59",
   "metadata": {},
   "outputs": [],
   "source": [
    "geojson = open(\"../../OUTPUT/Fire_Perimeter.json\", \"w\")\n",
    "geojson.write(dumps({\"type\": \"FeatureCollection\",\"features\": buffer},indent=2) + \"\\n\")\n",
    "geojson.close()"
   ]
  }
 ],
 "metadata": {
  "kernelspec": {
   "display_name": "Python 3 (ipykernel)",
   "language": "python",
   "name": "python3"
  },
  "language_info": {
   "codemirror_mode": {
    "name": "ipython",
    "version": 3
   },
   "file_extension": ".py",
   "mimetype": "text/x-python",
   "name": "python",
   "nbconvert_exporter": "python",
   "pygments_lexer": "ipython3",
   "version": "3.10.4"
  }
 },
 "nbformat": 4,
 "nbformat_minor": 5
}
