{
 "cells": [
  {
   "cell_type": "markdown",
   "id": "83bf0dab",
   "metadata": {},
   "source": [
    "# Read an SHP file and convert it into GeoJSON format"
   ]
  },
  {
   "cell_type": "markdown",
   "id": "e0ab3328",
   "metadata": {},
   "source": [
    "In this notebook we read an SHP file, we store the geometries into an array and we create a dictionary to store the geometries as a GeoJSON file"
   ]
  },
  {
   "cell_type": "markdown",
   "id": "c6e3fa45",
   "metadata": {},
   "source": [
    "We first load useful libraries"
   ]
  },
  {
   "cell_type": "code",
   "execution_count": 1,
   "id": "a771c323",
   "metadata": {},
   "outputs": [],
   "source": [
    "import shapefile\n",
    "from json import dumps\n",
    "import warnings\n",
    "warnings.filterwarnings(\"ignore\")"
   ]
  },
  {
   "cell_type": "markdown",
   "id": "65607889",
   "metadata": {},
   "source": [
    "We specify the data path"
   ]
  },
  {
   "cell_type": "code",
   "execution_count": 3,
   "id": "808dd48c",
   "metadata": {},
   "outputs": [
    {
     "data": {
      "text/plain": [
       "<shapefile.Reader at 0x10d14a620>"
      ]
     },
     "execution_count": 3,
     "metadata": {},
     "output_type": "execute_result"
    }
   ],
   "source": [
    "reader = shapefile.Reader(r'../../DATA/Fire_Perimeter.shp')   "
   ]
  },
  {
   "cell_type": "markdown",
   "id": "09d63c6c",
   "metadata": {},
   "source": [
    "We identify first the indices of the geometries "
   ]
  },
  {
   "cell_type": "code",
   "execution_count": 6,
   "id": "3ac1e0cc",
   "metadata": {},
   "outputs": [
    {
     "data": {
      "text/plain": [
       "[['id', 'N', 10, 0]]"
      ]
     },
     "execution_count": 6,
     "metadata": {},
     "output_type": "execute_result"
    }
   ],
   "source": [
    "fields = reader.fields[1:]\n",
    "field_names = [field[0] for field in fields]"
   ]
  },
  {
   "cell_type": "code",
   "execution_count": null,
   "id": "17464ac7",
   "metadata": {},
   "outputs": [],
   "source": []
  },
  {
   "cell_type": "code",
   "execution_count": null,
   "id": "46ae1be6",
   "metadata": {},
   "outputs": [],
   "source": []
  },
  {
   "cell_type": "markdown",
   "id": "71cacc5d",
   "metadata": {},
   "source": [
    "We create an empty array to store the geometries"
   ]
  },
  {
   "cell_type": "code",
   "execution_count": null,
   "id": "949d1bcf",
   "metadata": {},
   "outputs": [],
   "source": [
    "buffer = [] "
   ]
  },
  {
   "cell_type": "markdown",
   "id": "2f700b62",
   "metadata": {},
   "source": [
    "We create the json structure with the features and geometries"
   ]
  },
  {
   "cell_type": "code",
   "execution_count": 5,
   "id": "f5a840de",
   "metadata": {},
   "outputs": [],
   "source": [
    "for sr in reader.shapeRecords():\n",
    "       atr = dict(zip(field_names, sr.record))\n",
    "       geom = sr.shape.__geo_interface__\n",
    "       buffer.append(dict(type=\"Feature\", \\\n",
    "        geometry=geom, properties=atr)) "
   ]
  },
  {
   "cell_type": "markdown",
   "id": "425d521d",
   "metadata": {},
   "source": [
    "We save the output as a geojson file"
   ]
  },
  {
   "cell_type": "code",
   "execution_count": 6,
   "id": "e26beb59",
   "metadata": {},
   "outputs": [],
   "source": [
    "geojson = open(\"../../OUTPUT/Fire_Perimeter.json\", \"w\")\n",
    "geojson.write(dumps({\"type\": \"FeatureCollection\",\"features\": buffer},indent=2) + \"\\n\")\n",
    "geojson.close()"
   ]
  }
 ],
 "metadata": {
  "kernelspec": {
   "display_name": "Python 3 (ipykernel)",
   "language": "python",
   "name": "python3"
  },
  "language_info": {
   "codemirror_mode": {
    "name": "ipython",
    "version": 3
   },
   "file_extension": ".py",
   "mimetype": "text/x-python",
   "name": "python",
   "nbconvert_exporter": "python",
   "pygments_lexer": "ipython3",
   "version": "3.10.4"
  }
 },
 "nbformat": 4,
 "nbformat_minor": 5
}
