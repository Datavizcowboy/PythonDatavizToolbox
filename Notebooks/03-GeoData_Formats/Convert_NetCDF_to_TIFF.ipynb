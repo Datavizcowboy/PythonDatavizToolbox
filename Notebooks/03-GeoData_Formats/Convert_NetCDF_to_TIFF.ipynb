{
 "cells": [
  {
   "cell_type": "markdown",
   "id": "83bf0dab",
   "metadata": {},
   "source": [
    "# Convert NetCDF to TIFF"
   ]
  },
  {
   "cell_type": "markdown",
   "id": "c6e3fa45",
   "metadata": {},
   "source": [
    "We first load useful libraries"
   ]
  },
  {
   "cell_type": "code",
   "execution_count": 10,
   "id": "a771c323",
   "metadata": {},
   "outputs": [],
   "source": [
    "import xarray as xr \n",
    "import rioxarray as rio"
   ]
  },
  {
   "cell_type": "markdown",
   "id": "65607889",
   "metadata": {},
   "source": [
    "We specify the data path"
   ]
  },
  {
   "cell_type": "code",
   "execution_count": 11,
   "id": "808dd48c",
   "metadata": {},
   "outputs": [],
   "source": [
    "nc_file = xr.open_dataset('../DATA/Wind_rt_cdf_final_30y.nc')"
   ]
  },
  {
   "cell_type": "markdown",
   "id": "09d63c6c",
   "metadata": {},
   "source": [
    "We extract the varaible of interest"
   ]
  },
  {
   "cell_type": "code",
   "execution_count": 12,
   "id": "ab936f18",
   "metadata": {},
   "outputs": [],
   "source": [
    "variable = nc_file['Probability_ex']"
   ]
  },
  {
   "cell_type": "markdown",
   "id": "c73ce7e0",
   "metadata": {},
   "source": [
    "We now assign x and y dimensions based on the existing ones in the .nc file"
   ]
  },
  {
   "cell_type": "code",
   "execution_count": 13,
   "id": "3eb4a158",
   "metadata": {},
   "outputs": [],
   "source": [
    "variable = variable.rio.set_spatial_dims(x_dim='west_east', y_dim='south_north')"
   ]
  },
  {
   "cell_type": "markdown",
   "id": "d29d5464",
   "metadata": {},
   "source": [
    "We create the .TIFF file "
   ]
  },
  {
   "cell_type": "code",
   "execution_count": 14,
   "id": "44f95bb3",
   "metadata": {},
   "outputs": [],
   "source": [
    "variable.rio.to_raster(r\"../DATA/Wind_rt_cdf_final_30y.tiff\")"
   ]
  }
 ],
 "metadata": {
  "kernelspec": {
   "display_name": "Python 3 (ipykernel)",
   "language": "python",
   "name": "python3"
  },
  "language_info": {
   "codemirror_mode": {
    "name": "ipython",
    "version": 3
   },
   "file_extension": ".py",
   "mimetype": "text/x-python",
   "name": "python",
   "nbconvert_exporter": "python",
   "pygments_lexer": "ipython3",
   "version": "3.10.4"
  }
 },
 "nbformat": 4,
 "nbformat_minor": 5
}
