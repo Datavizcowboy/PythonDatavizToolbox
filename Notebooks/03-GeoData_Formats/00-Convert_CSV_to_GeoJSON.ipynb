{
 "cells": [
  {
   "cell_type": "markdown",
   "id": "83bf0dab",
   "metadata": {},
   "source": [
    "# Read a CSV file and convert it into GeoJSON format"
   ]
  },
  {
   "cell_type": "markdown",
   "id": "8aaa0e83",
   "metadata": {},
   "source": [
    "In this notebook we transform a simple CSV with coordinates into a multipolygon in GeoJSON format using the json and geojson libraries. "
   ]
  },
  {
   "cell_type": "markdown",
   "id": "c6e3fa45",
   "metadata": {},
   "source": [
    "We first load useful libraries"
   ]
  },
  {
   "cell_type": "code",
   "execution_count": 3,
   "id": "a771c323",
   "metadata": {},
   "outputs": [],
   "source": [
    "import csv, json\n",
    "from geojson import Feature, FeatureCollection, Point, MultiPolygon"
   ]
  },
  {
   "cell_type": "markdown",
   "id": "65607889",
   "metadata": {},
   "source": [
    "We specify the data path"
   ]
  },
  {
   "cell_type": "code",
   "execution_count": 6,
   "id": "808dd48c",
   "metadata": {},
   "outputs": [],
   "source": [
    "data_path = '../../DATA/vcz01_ash_conc_ce02fl000-550dt202303100900vt202303101500it100952_t006_1.csv'"
   ]
  },
  {
   "cell_type": "markdown",
   "id": "09d63c6c",
   "metadata": {},
   "source": [
    "We create the array with the lat/lon pairs, and associate each pair of values in the CSV file to variables called latitude and longitude intuitively. In each entry we skip the 'N' or 'W' by reading from the first character onwards. "
   ]
  },
  {
   "cell_type": "code",
   "execution_count": 7,
   "id": "3ac1e0cc",
   "metadata": {},
   "outputs": [],
   "source": [
    "data=[]\n",
    "\n",
    "with open(data_path, newline='') as csvfile:\n",
    "    reader = csv.reader(csvfile, delimiter=',')\n",
    "    for latitude, longitude in reader:\n",
    "        lati = float(latitude[1:])/10000\n",
    "        loni = float(longitude[1:])/10000\n",
    "        latitude, longitude = map(float, (lati, loni))\n",
    "        data.append([(-1)*longitude,latitude]) "
   ]
  },
  {
   "cell_type": "markdown",
   "id": "e33edfc0",
   "metadata": {},
   "source": [
    "We check the content of the output, where we obtain pairs of latitude and longitude. "
   ]
  },
  {
   "cell_type": "code",
   "execution_count": 12,
   "id": "c3e7d276",
   "metadata": {},
   "outputs": [
    {
     "data": {
      "text/plain": [
       "[[-20.2603, 63.15],\n",
       " [-19.0906, 64.0618],\n",
       " [-7.3246, 62.1153],\n",
       " [-8.0347, 60.1607],\n",
       " [-20.2603, 63.15]]"
      ]
     },
     "execution_count": 12,
     "metadata": {},
     "output_type": "execute_result"
    }
   ],
   "source": [
    "data"
   ]
  },
  {
   "cell_type": "markdown",
   "id": "2f700b62",
   "metadata": {},
   "source": [
    "We create the json structure with the features and geometries, with room for some properties. "
   ]
  },
  {
   "cell_type": "code",
   "execution_count": 14,
   "id": "f5a840de",
   "metadata": {},
   "outputs": [],
   "source": [
    "features = []\n",
    "features.append(\n",
    "    Feature(\n",
    "        geometry = MultiPolygon([[data]]),\n",
    "        properties = {\n",
    "            'property': 0,\n",
    "            'category': 0\n",
    "        }\n",
    "    )\n",
    ")"
   ]
  },
  {
   "cell_type": "markdown",
   "id": "fda961ff",
   "metadata": {},
   "source": [
    "The JSON structure with the multipolygon inside is now created"
   ]
  },
  {
   "cell_type": "code",
   "execution_count": 15,
   "id": "66ed65bd",
   "metadata": {},
   "outputs": [
    {
     "data": {
      "text/plain": [
       "[{\"geometry\": {\"coordinates\": [[[[-20.2603, 63.15], [-19.0906, 64.0618], [-7.3246, 62.1153], [-8.0347, 60.1607], [-20.2603, 63.15]]]], \"type\": \"MultiPolygon\"}, \"properties\": {\"category\": 0, \"property\": 0}, \"type\": \"Feature\"}]"
      ]
     },
     "execution_count": 15,
     "metadata": {},
     "output_type": "execute_result"
    }
   ],
   "source": [
    "features"
   ]
  },
  {
   "cell_type": "markdown",
   "id": "425d521d",
   "metadata": {},
   "source": [
    "We create now a collection of features using the JSON output"
   ]
  },
  {
   "cell_type": "code",
   "execution_count": 16,
   "id": "e26beb59",
   "metadata": {},
   "outputs": [],
   "source": [
    "collection = FeatureCollection(features)"
   ]
  },
  {
   "cell_type": "markdown",
   "id": "97e0e8d7",
   "metadata": {},
   "source": [
    "Having now the GeoJSON structure"
   ]
  },
  {
   "cell_type": "code",
   "execution_count": 17,
   "id": "c48f317a",
   "metadata": {},
   "outputs": [
    {
     "data": {
      "text/plain": [
       "{\"features\": [{\"geometry\": {\"coordinates\": [[[[-20.2603, 63.15], [-19.0906, 64.0618], [-7.3246, 62.1153], [-8.0347, 60.1607], [-20.2603, 63.15]]]], \"type\": \"MultiPolygon\"}, \"properties\": {\"category\": 0, \"property\": 0}, \"type\": \"Feature\"}], \"type\": \"FeatureCollection\"}"
      ]
     },
     "execution_count": 17,
     "metadata": {},
     "output_type": "execute_result"
    }
   ],
   "source": [
    "collection"
   ]
  },
  {
   "cell_type": "markdown",
   "id": "1bc1a0b6",
   "metadata": {},
   "source": [
    "We save this collection as GeoJSON in the output folder"
   ]
  },
  {
   "cell_type": "code",
   "execution_count": 18,
   "id": "1db7d4b3",
   "metadata": {},
   "outputs": [],
   "source": [
    "with open(\"../../OUTPUT/volcano_multipolygon.json\", \"w\") as f:\n",
    "    f.write('%s' % collection)"
   ]
  }
 ],
 "metadata": {
  "kernelspec": {
   "display_name": "Python 3 (ipykernel)",
   "language": "python",
   "name": "python3"
  },
  "language_info": {
   "codemirror_mode": {
    "name": "ipython",
    "version": 3
   },
   "file_extension": ".py",
   "mimetype": "text/x-python",
   "name": "python",
   "nbconvert_exporter": "python",
   "pygments_lexer": "ipython3",
   "version": "3.10.4"
  }
 },
 "nbformat": 4,
 "nbformat_minor": 5
}
