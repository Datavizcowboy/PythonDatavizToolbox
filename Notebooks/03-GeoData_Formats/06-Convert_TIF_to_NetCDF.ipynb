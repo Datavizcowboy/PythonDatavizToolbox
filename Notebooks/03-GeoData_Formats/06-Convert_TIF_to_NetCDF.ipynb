{
 "cells": [
  {
   "cell_type": "markdown",
   "id": "83bf0dab",
   "metadata": {},
   "source": [
    "# Read a TIF file and convert it into NetCDF format"
   ]
  },
  {
   "cell_type": "markdown",
   "id": "e7e6ab51",
   "metadata": {},
   "source": [
    "In this notebook we first read a TIF file, we flip the data upside down, we create a meshgrid with the latitude and longitude provided by the TIF file and we ultimately store all the data into a NetCDF file. "
   ]
  },
  {
   "cell_type": "markdown",
   "id": "c6e3fa45",
   "metadata": {},
   "source": [
    "We first load useful libraries"
   ]
  },
  {
   "cell_type": "code",
   "execution_count": 2,
   "id": "a771c323",
   "metadata": {},
   "outputs": [],
   "source": [
    "import numpy as np\n",
    "import rasterio\n",
    "from netCDF4 import Dataset\n",
    "import warnings\n",
    "warnings.filterwarnings(\"ignore\")"
   ]
  },
  {
   "cell_type": "markdown",
   "id": "65607889",
   "metadata": {},
   "source": [
    "We specify the data path"
   ]
  },
  {
   "cell_type": "code",
   "execution_count": 4,
   "id": "808dd48c",
   "metadata": {},
   "outputs": [],
   "source": [
    "dat = rasterio.open(r\"../../DATA/chile_esa_cci.tif\")\n",
    "data = dat.read()[0]"
   ]
  },
  {
   "cell_type": "markdown",
   "id": "db2e9be9",
   "metadata": {},
   "source": [
    "We check the content of the data variable, where we obtain a matrix with the dimensions of the latitude and longitude"
   ]
  },
  {
   "cell_type": "code",
   "execution_count": 6,
   "id": "4aa380bc",
   "metadata": {},
   "outputs": [
    {
     "data": {
      "text/plain": [
       "array([[210, 210, 210, ..., 120, 120, 120],\n",
       "       [210, 210, 210, ..., 120, 120,  30],\n",
       "       [210, 210, 210, ..., 120,  30,  30],\n",
       "       ...,\n",
       "       [210, 210, 210, ..., 120, 100, 100],\n",
       "       [210, 210, 210, ..., 100, 120, 100],\n",
       "       [210, 210, 210, ..., 100, 100, 100]], dtype=uint8)"
      ]
     },
     "execution_count": 6,
     "metadata": {},
     "output_type": "execute_result"
    }
   ],
   "source": [
    "data"
   ]
  },
  {
   "cell_type": "markdown",
   "id": "2f700b62",
   "metadata": {},
   "source": [
    "We flip the map upside down to correct default ordering"
   ]
  },
  {
   "cell_type": "code",
   "execution_count": 7,
   "id": "f5a840de",
   "metadata": {},
   "outputs": [],
   "source": [
    "data = np.flipud(data)  "
   ]
  },
  {
   "cell_type": "markdown",
   "id": "f9e4cc35",
   "metadata": {},
   "source": [
    "We now define a mesh grid using the boundaries of the input data and the same spacing as the native latitude and longitude coordinates"
   ]
  },
  {
   "cell_type": "code",
   "execution_count": 9,
   "id": "695b8747",
   "metadata": {},
   "outputs": [
    {
     "data": {
      "text/plain": [
       "[-74.06944444444444,\n",
       " -71.06666666666666,\n",
       " -38.70555555555556,\n",
       " -35.70277777777778]"
      ]
     },
     "execution_count": 9,
     "metadata": {},
     "output_type": "execute_result"
    }
   ],
   "source": [
    "boundaries=[dat.bounds.left,dat.bounds.right,dat.bounds.bottom,dat.bounds.top]\n",
    "boundaries"
   ]
  },
  {
   "cell_type": "markdown",
   "id": "6992b5f5",
   "metadata": {},
   "source": [
    "We use the .meshgrid( ) from the Numpy package to create the new grid of coordinates"
   ]
  },
  {
   "cell_type": "code",
   "execution_count": 10,
   "id": "68ccf071",
   "metadata": {},
   "outputs": [],
   "source": [
    "loni = np.linspace(dat.bounds.left, dat.bounds.right,len(data[0]))\n",
    "lati = np.linspace(dat.bounds.bottom, dat.bounds.top,len(data))\n",
    "lons, lats = np.meshgrid(loni,lati)"
   ]
  },
  {
   "cell_type": "markdown",
   "id": "425d521d",
   "metadata": {},
   "source": [
    "We build the NetCDF file with the meshgrid we have created and the data into generic var, lat and lon variables. "
   ]
  },
  {
   "cell_type": "code",
   "execution_count": 11,
   "id": "b13b1860",
   "metadata": {},
   "outputs": [
    {
     "ename": "NameError",
     "evalue": "name 'myvar' is not defined",
     "output_type": "error",
     "traceback": [
      "\u001b[0;31m---------------------------------------------------------------------------\u001b[0m",
      "\u001b[0;31mNameError\u001b[0m                                 Traceback (most recent call last)",
      "\u001b[0;32m/var/folders/5k/mjzbrl8j1773drpygwd3n0mm0000gn/T/ipykernel_31998/218351620.py\u001b[0m in \u001b[0;36m<cell line: 10>\u001b[0;34m()\u001b[0m\n\u001b[1;32m      8\u001b[0m \u001b[0mlonvar\u001b[0m \u001b[0;34m=\u001b[0m \u001b[0moutput\u001b[0m\u001b[0;34m.\u001b[0m\u001b[0mcreateVariable\u001b[0m\u001b[0;34m(\u001b[0m\u001b[0;34m'lon'\u001b[0m\u001b[0;34m,\u001b[0m\u001b[0;34m'float32'\u001b[0m\u001b[0;34m,\u001b[0m\u001b[0;34m(\u001b[0m\u001b[0;34m'lon'\u001b[0m\u001b[0;34m)\u001b[0m\u001b[0;34m)\u001b[0m\u001b[0;34m;\u001b[0m\u001b[0mlonvar\u001b[0m\u001b[0;34m[\u001b[0m\u001b[0;34m:\u001b[0m\u001b[0;34m]\u001b[0m \u001b[0;34m=\u001b[0m \u001b[0mlon\u001b[0m\u001b[0;34m;\u001b[0m\u001b[0;34m\u001b[0m\u001b[0;34m\u001b[0m\u001b[0m\n\u001b[1;32m      9\u001b[0m \u001b[0mlatvar\u001b[0m \u001b[0;34m=\u001b[0m \u001b[0moutput\u001b[0m\u001b[0;34m.\u001b[0m\u001b[0mcreateVariable\u001b[0m\u001b[0;34m(\u001b[0m\u001b[0;34m'lat'\u001b[0m\u001b[0;34m,\u001b[0m\u001b[0;34m'float32'\u001b[0m\u001b[0;34m,\u001b[0m\u001b[0;34m(\u001b[0m\u001b[0;34m'lat'\u001b[0m\u001b[0;34m)\u001b[0m\u001b[0;34m)\u001b[0m\u001b[0;34m;\u001b[0m\u001b[0mlatvar\u001b[0m\u001b[0;34m[\u001b[0m\u001b[0;34m:\u001b[0m\u001b[0;34m]\u001b[0m \u001b[0;34m=\u001b[0m \u001b[0mlat\u001b[0m\u001b[0;34m;\u001b[0m\u001b[0;34m\u001b[0m\u001b[0;34m\u001b[0m\u001b[0m\n\u001b[0;32m---> 10\u001b[0;31m \u001b[0mvar\u001b[0m \u001b[0;34m=\u001b[0m \u001b[0moutput\u001b[0m\u001b[0;34m.\u001b[0m\u001b[0mcreateVariable\u001b[0m\u001b[0;34m(\u001b[0m\u001b[0;34m'var'\u001b[0m\u001b[0;34m,\u001b[0m\u001b[0;34m'float32'\u001b[0m\u001b[0;34m,\u001b[0m\u001b[0;34m(\u001b[0m\u001b[0;34m'lat'\u001b[0m\u001b[0;34m,\u001b[0m\u001b[0;34m'lon'\u001b[0m\u001b[0;34m)\u001b[0m\u001b[0;34m)\u001b[0m\u001b[0;34m;\u001b[0m\u001b[0mvar\u001b[0m\u001b[0;34m.\u001b[0m\u001b[0msetncattr\u001b[0m\u001b[0;34m(\u001b[0m\u001b[0;34m'units'\u001b[0m\u001b[0;34m,\u001b[0m\u001b[0;34m'type'\u001b[0m\u001b[0;34m)\u001b[0m\u001b[0;34m;\u001b[0m\u001b[0mmyvar\u001b[0m\u001b[0;34m[\u001b[0m\u001b[0;34m:\u001b[0m\u001b[0;34m]\u001b[0m \u001b[0;34m=\u001b[0m \u001b[0mdataout\u001b[0m\u001b[0;34m;\u001b[0m\u001b[0;34m\u001b[0m\u001b[0;34m\u001b[0m\u001b[0m\n\u001b[0m\u001b[1;32m     11\u001b[0m \u001b[0moutput\u001b[0m\u001b[0;34m.\u001b[0m\u001b[0mclose\u001b[0m\u001b[0;34m(\u001b[0m\u001b[0;34m)\u001b[0m\u001b[0;34m;\u001b[0m\u001b[0;34m\u001b[0m\u001b[0;34m\u001b[0m\u001b[0m\n",
      "\u001b[0;31mNameError\u001b[0m: name 'myvar' is not defined"
     ]
    }
   ],
   "source": [
    "ny, nx = (len(lats), len(lons[0]))\n",
    "lon = loni\n",
    "lat = lati\n",
    "dataout = data\n",
    "output = Dataset('../../OUTPUT/chile_esa_cci.nc','w','NETCDF3'); \n",
    "output.createDimension('lon',nx);\n",
    "output.createDimension('lat',ny);\n",
    "lonvar = output.createVariable('lon','float32',('lon'));lonvar[:] = lon;\n",
    "latvar = output.createVariable('lat','float32',('lat'));latvar[:] = lat;\n",
    "var = output.createVariable('var','float32',('lat','lon'));var.setncattr('units','type');myvar[:] = dataout;\n",
    "output.close();"
   ]
  },
  {
   "cell_type": "code",
   "execution_count": null,
   "id": "c2e85412",
   "metadata": {},
   "outputs": [],
   "source": []
  }
 ],
 "metadata": {
  "kernelspec": {
   "display_name": "Python 3 (ipykernel)",
   "language": "python",
   "name": "python3"
  },
  "language_info": {
   "codemirror_mode": {
    "name": "ipython",
    "version": 3
   },
   "file_extension": ".py",
   "mimetype": "text/x-python",
   "name": "python",
   "nbconvert_exporter": "python",
   "pygments_lexer": "ipython3",
   "version": "3.10.4"
  }
 },
 "nbformat": 4,
 "nbformat_minor": 5
}
