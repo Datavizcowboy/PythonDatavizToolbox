{
 "cells": [
  {
   "cell_type": "markdown",
   "id": "83bf0dab",
   "metadata": {},
   "source": [
    "# Read a NetCDF file and convert it into DAT format"
   ]
  },
  {
   "cell_type": "markdown",
   "id": "69d54e33",
   "metadata": {},
   "source": [
    "In this notebook we read a NetCDF file with worldwide wind speed data and we convert it into DAT format. "
   ]
  },
  {
   "cell_type": "markdown",
   "id": "c6e3fa45",
   "metadata": {},
   "source": [
    "We first load useful libraries"
   ]
  },
  {
   "cell_type": "code",
   "execution_count": 2,
   "id": "a771c323",
   "metadata": {},
   "outputs": [],
   "source": [
    "import pandas as pd\n",
    "import numpy as np\n",
    "import netCDF4\n",
    "import warnings\n",
    "warnings.filterwarnings(\"ignore\")"
   ]
  },
  {
   "cell_type": "markdown",
   "id": "65607889",
   "metadata": {},
   "source": [
    "We open the file as NetCDF format"
   ]
  },
  {
   "cell_type": "code",
   "execution_count": 3,
   "id": "808dd48c",
   "metadata": {},
   "outputs": [],
   "source": [
    "data = netCDF4.Dataset('../../DATA/wind.nc')"
   ]
  },
  {
   "cell_type": "markdown",
   "id": "09d63c6c",
   "metadata": {},
   "source": [
    "We extract the coordinates and the variables to be included into the DAT file"
   ]
  },
  {
   "cell_type": "code",
   "execution_count": 4,
   "id": "3ac1e0cc",
   "metadata": {},
   "outputs": [],
   "source": [
    "lons = data.variables['FNOCXN79_64'][:]\n",
    "lats = data.variables['FNOCY'][:]\n",
    "unwd = data.variables['UWND'][0,:,:]"
   ]
  },
  {
   "cell_type": "markdown",
   "id": "21404463",
   "metadata": {},
   "source": [
    "We create empty arrays to store the coordinates and the variable"
   ]
  },
  {
   "cell_type": "code",
   "execution_count": 6,
   "id": "185a87eb",
   "metadata": {},
   "outputs": [],
   "source": [
    "lati = []\n",
    "loni = []\n",
    "wind = []"
   ]
  },
  {
   "cell_type": "markdown",
   "id": "34a7d0ec",
   "metadata": {},
   "source": [
    "We assign the values to the arrays iterating along the coordinates length."
   ]
  },
  {
   "cell_type": "code",
   "execution_count": 7,
   "id": "2b23ccc2",
   "metadata": {},
   "outputs": [],
   "source": [
    "for j in range(0,len(unwd)):\n",
    "    for i in range(0,len(unwd[0])):\n",
    "        lati.append(float(lats[j]))\n",
    "        loni.append(float(lons[i]))\n",
    "        wind.append(float(unwd[j,i]))"
   ]
  },
  {
   "cell_type": "markdown",
   "id": "d1e3249f",
   "metadata": {},
   "source": [
    "We store the arrays in a pandas dataframe"
   ]
  },
  {
   "cell_type": "code",
   "execution_count": 8,
   "id": "64e53047",
   "metadata": {},
   "outputs": [
    {
     "data": {
      "text/html": [
       "<div>\n",
       "<style scoped>\n",
       "    .dataframe tbody tr th:only-of-type {\n",
       "        vertical-align: middle;\n",
       "    }\n",
       "\n",
       "    .dataframe tbody tr th {\n",
       "        vertical-align: top;\n",
       "    }\n",
       "\n",
       "    .dataframe thead th {\n",
       "        text-align: right;\n",
       "    }\n",
       "</style>\n",
       "<table border=\"1\" class=\"dataframe\">\n",
       "  <thead>\n",
       "    <tr style=\"text-align: right;\">\n",
       "      <th></th>\n",
       "      <th>lat</th>\n",
       "      <th>lon</th>\n",
       "      <th>wind</th>\n",
       "    </tr>\n",
       "  </thead>\n",
       "  <tbody>\n",
       "    <tr>\n",
       "      <th>0</th>\n",
       "      <td>-90.0</td>\n",
       "      <td>-180.0</td>\n",
       "      <td>-1.478853</td>\n",
       "    </tr>\n",
       "    <tr>\n",
       "      <th>1</th>\n",
       "      <td>-90.0</td>\n",
       "      <td>-177.5</td>\n",
       "      <td>-1.485287</td>\n",
       "    </tr>\n",
       "    <tr>\n",
       "      <th>2</th>\n",
       "      <td>-90.0</td>\n",
       "      <td>-175.0</td>\n",
       "      <td>-1.491434</td>\n",
       "    </tr>\n",
       "    <tr>\n",
       "      <th>3</th>\n",
       "      <td>-90.0</td>\n",
       "      <td>-172.5</td>\n",
       "      <td>-1.497459</td>\n",
       "    </tr>\n",
       "    <tr>\n",
       "      <th>4</th>\n",
       "      <td>-90.0</td>\n",
       "      <td>-170.0</td>\n",
       "      <td>-1.504180</td>\n",
       "    </tr>\n",
       "    <tr>\n",
       "      <th>...</th>\n",
       "      <td>...</td>\n",
       "      <td>...</td>\n",
       "      <td>...</td>\n",
       "    </tr>\n",
       "    <tr>\n",
       "      <th>10507</th>\n",
       "      <td>90.0</td>\n",
       "      <td>167.5</td>\n",
       "      <td>-3.969016</td>\n",
       "    </tr>\n",
       "    <tr>\n",
       "      <th>10508</th>\n",
       "      <td>90.0</td>\n",
       "      <td>170.0</td>\n",
       "      <td>-3.969016</td>\n",
       "    </tr>\n",
       "    <tr>\n",
       "      <th>10509</th>\n",
       "      <td>90.0</td>\n",
       "      <td>172.5</td>\n",
       "      <td>-3.969016</td>\n",
       "    </tr>\n",
       "    <tr>\n",
       "      <th>10510</th>\n",
       "      <td>90.0</td>\n",
       "      <td>175.0</td>\n",
       "      <td>-3.969016</td>\n",
       "    </tr>\n",
       "    <tr>\n",
       "      <th>10511</th>\n",
       "      <td>90.0</td>\n",
       "      <td>177.5</td>\n",
       "      <td>-3.969016</td>\n",
       "    </tr>\n",
       "  </tbody>\n",
       "</table>\n",
       "<p>10512 rows × 3 columns</p>\n",
       "</div>"
      ],
      "text/plain": [
       "        lat    lon      wind\n",
       "0     -90.0 -180.0 -1.478853\n",
       "1     -90.0 -177.5 -1.485287\n",
       "2     -90.0 -175.0 -1.491434\n",
       "3     -90.0 -172.5 -1.497459\n",
       "4     -90.0 -170.0 -1.504180\n",
       "...     ...    ...       ...\n",
       "10507  90.0  167.5 -3.969016\n",
       "10508  90.0  170.0 -3.969016\n",
       "10509  90.0  172.5 -3.969016\n",
       "10510  90.0  175.0 -3.969016\n",
       "10511  90.0  177.5 -3.969016\n",
       "\n",
       "[10512 rows x 3 columns]"
      ]
     },
     "execution_count": 8,
     "metadata": {},
     "output_type": "execute_result"
    }
   ],
   "source": [
    "panda = pd.DataFrame({\"lat\":lati[:],\"lon\":loni[:],\"wind\":wind[:]})\n",
    "panda"
   ]
  },
  {
   "cell_type": "markdown",
   "id": "4a735bb9",
   "metadata": {},
   "source": [
    "There are two ways in which we can store the wind data into a DAT file. The first one using the values of the pandas dataframe"
   ]
  },
  {
   "cell_type": "code",
   "execution_count": 14,
   "id": "5102316c",
   "metadata": {},
   "outputs": [],
   "source": [
    "np.savetxt(r'../../OUTPUT/wind.dat', panda.values, fmt='%d')"
   ]
  },
  {
   "cell_type": "markdown",
   "id": "dd7792b6",
   "metadata": {},
   "source": [
    "The second one using the array containing the wind values and the .tobytes( ) function"
   ]
  },
  {
   "cell_type": "code",
   "execution_count": 18,
   "id": "a30b64bf",
   "metadata": {},
   "outputs": [],
   "source": [
    "wind_array = np.array(wind)\n",
    "wind_float = wind_array.astype(np.float32).tobytes()\n",
    "np.save('../../OUTPUT/wind_float.dat', wind_float)"
   ]
  }
 ],
 "metadata": {
  "kernelspec": {
   "display_name": "Python 3 (ipykernel)",
   "language": "python",
   "name": "python3"
  },
  "language_info": {
   "codemirror_mode": {
    "name": "ipython",
    "version": 3
   },
   "file_extension": ".py",
   "mimetype": "text/x-python",
   "name": "python",
   "nbconvert_exporter": "python",
   "pygments_lexer": "ipython3",
   "version": "3.10.4"
  }
 },
 "nbformat": 4,
 "nbformat_minor": 5
}
