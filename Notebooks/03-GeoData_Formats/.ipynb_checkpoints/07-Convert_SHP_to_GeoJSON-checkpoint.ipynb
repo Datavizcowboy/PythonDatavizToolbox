{
 "cells": [
  {
   "cell_type": "markdown",
   "id": "83bf0dab",
   "metadata": {},
   "source": [
    "# Read an SHP file and convert it into GeoJSON format"
   ]
  },
  {
   "cell_type": "markdown",
   "id": "15cba3ec",
   "metadata": {},
   "source": [
    "In this notebook we read an SHP file, we store the geometries into an array and we create a dictionary to store the geometries as a GeoJSON file"
   ]
  },
  {
   "cell_type": "markdown",
   "id": "c6e3fa45",
   "metadata": {},
   "source": [
    "We first load useful libraries"
   ]
  },
  {
   "cell_type": "code",
   "execution_count": 11,
   "id": "a771c323",
   "metadata": {},
   "outputs": [],
   "source": [
    "import shapefile\n",
    "from json import dumps\n",
    "import warnings\n",
    "warnings.filterwarnings(\"ignore\")"
   ]
  },
  {
   "cell_type": "markdown",
   "id": "65607889",
   "metadata": {},
   "source": [
    "We specify the data path"
   ]
  },
  {
   "cell_type": "code",
   "execution_count": 12,
   "id": "808dd48c",
   "metadata": {},
   "outputs": [],
   "source": [
    "reader = shapefile.Reader(r'../../DATA/Fire_Perimeter.shp')   "
   ]
  },
  {
   "cell_type": "markdown",
   "id": "09d63c6c",
   "metadata": {},
   "source": [
    "We identify first the indices of the geometries "
   ]
  },
  {
   "cell_type": "code",
   "execution_count": 13,
   "id": "3ac1e0cc",
   "metadata": {},
   "outputs": [],
   "source": [
    "fields = reader.fields[1:]\n",
    "field_names = [field[0] for field in fields]"
   ]
  },
  {
   "cell_type": "markdown",
   "id": "b75d0e29",
   "metadata": {},
   "source": [
    "We obtain the indices as "
   ]
  },
  {
   "cell_type": "code",
   "execution_count": 14,
   "id": "f42389e8",
   "metadata": {},
   "outputs": [
    {
     "data": {
      "text/plain": [
       "[['id', 'N', 10, 0]]"
      ]
     },
     "execution_count": 14,
     "metadata": {},
     "output_type": "execute_result"
    }
   ],
   "source": [
    "fields"
   ]
  },
  {
   "cell_type": "markdown",
   "id": "03fdb17a",
   "metadata": {},
   "source": [
    "We create an empty array to store the geometries"
   ]
  },
  {
   "cell_type": "code",
   "execution_count": 15,
   "id": "9b0a0689",
   "metadata": {},
   "outputs": [],
   "source": [
    "buffer = [] "
   ]
  },
  {
   "cell_type": "markdown",
   "id": "2f700b62",
   "metadata": {},
   "source": [
    "We create the json structure with the features and geometries"
   ]
  },
  {
   "cell_type": "code",
   "execution_count": 16,
   "id": "f5a840de",
   "metadata": {},
   "outputs": [],
   "source": [
    "for sr in reader.shapeRecords():\n",
    "       atr = dict(zip(field_names, sr.record))\n",
    "       geom = sr.shape.__geo_interface__\n",
    "       buffer.append(dict(type=\"Feature\", \\\n",
    "        geometry=geom, properties=atr)) "
   ]
  },
  {
   "cell_type": "markdown",
   "id": "425d521d",
   "metadata": {},
   "source": [
    "We save the output as a geojson file"
   ]
  },
  {
   "cell_type": "code",
   "execution_count": 6,
   "id": "e26beb59",
   "metadata": {},
   "outputs": [],
   "source": [
    "geojson = open(\"../../OUTPUT/Fire_Perimeter.json\", \"w\")\n",
    "geojson.write(dumps({\"type\": \"FeatureCollection\",\"features\": buffer},indent=2) + \"\\n\")\n",
    "geojson.close()"
   ]
  }
 ],
 "metadata": {
  "kernelspec": {
   "display_name": "Python 3 (ipykernel)",
   "language": "python",
   "name": "python3"
  },
  "language_info": {
   "codemirror_mode": {
    "name": "ipython",
    "version": 3
   },
   "file_extension": ".py",
   "mimetype": "text/x-python",
   "name": "python",
   "nbconvert_exporter": "python",
   "pygments_lexer": "ipython3",
   "version": "3.10.4"
  }
 },
 "nbformat": 4,
 "nbformat_minor": 5
}
