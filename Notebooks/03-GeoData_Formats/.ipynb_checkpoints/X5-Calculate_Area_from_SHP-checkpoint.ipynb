{
 "cells": [
  {
   "cell_type": "markdown",
   "id": "83bf0dab",
   "metadata": {},
   "source": [
    "# Calculate Area from SHP"
   ]
  },
  {
   "cell_type": "markdown",
   "id": "c6e3fa45",
   "metadata": {},
   "source": [
    "We first load useful libraries"
   ]
  },
  {
   "cell_type": "code",
   "execution_count": 7,
   "id": "a771c323",
   "metadata": {},
   "outputs": [],
   "source": [
    "import geopandas as gpd\n",
    "import warnings\n",
    "warnings.filterwarnings(\"ignore\")"
   ]
  },
  {
   "cell_type": "markdown",
   "id": "65607889",
   "metadata": {},
   "source": [
    "We create an array to store all the areas from the polygons"
   ]
  },
  {
   "cell_type": "code",
   "execution_count": 8,
   "id": "808dd48c",
   "metadata": {},
   "outputs": [],
   "source": [
    "areas = []"
   ]
  },
  {
   "cell_type": "markdown",
   "id": "09d63c6c",
   "metadata": {},
   "source": [
    "We now read the SHP file"
   ]
  },
  {
   "cell_type": "code",
   "execution_count": 9,
   "id": "3ac1e0cc",
   "metadata": {},
   "outputs": [],
   "source": [
    "reader = r'../DATA/Final Flood Extent 5y.shp' \n",
    "data = gpd.read_file(reader)\n",
    "selection = data[:]"
   ]
  },
  {
   "cell_type": "markdown",
   "id": "21404463",
   "metadata": {},
   "source": [
    "We iterate over the polygons and extract the area"
   ]
  },
  {
   "cell_type": "code",
   "execution_count": 10,
   "id": "185a87eb",
   "metadata": {},
   "outputs": [],
   "source": [
    "for index, row in selection.iterrows():\n",
    "    poly_area = row['geometry'].area\n",
    "    areas.append(poly_area)"
   ]
  },
  {
   "cell_type": "markdown",
   "id": "34a7d0ec",
   "metadata": {},
   "source": [
    "We now sum all the elements in the areas array"
   ]
  },
  {
   "cell_type": "code",
   "execution_count": 13,
   "id": "2b23ccc2",
   "metadata": {},
   "outputs": [
    {
     "data": {
      "text/plain": [
       "7829686.638821732"
      ]
     },
     "execution_count": 13,
     "metadata": {},
     "output_type": "execute_result"
    }
   ],
   "source": [
    "sum(areas)"
   ]
  }
 ],
 "metadata": {
  "kernelspec": {
   "display_name": "Python 3 (ipykernel)",
   "language": "python",
   "name": "python3"
  },
  "language_info": {
   "codemirror_mode": {
    "name": "ipython",
    "version": 3
   },
   "file_extension": ".py",
   "mimetype": "text/x-python",
   "name": "python",
   "nbconvert_exporter": "python",
   "pygments_lexer": "ipython3",
   "version": "3.10.4"
  }
 },
 "nbformat": 4,
 "nbformat_minor": 5
}
