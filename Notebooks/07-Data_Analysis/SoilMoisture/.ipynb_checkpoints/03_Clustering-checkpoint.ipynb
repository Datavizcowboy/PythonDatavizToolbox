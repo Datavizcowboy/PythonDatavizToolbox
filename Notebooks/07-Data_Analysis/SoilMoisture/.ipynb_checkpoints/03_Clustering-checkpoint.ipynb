{
 "cells": [
  {
   "cell_type": "markdown",
   "metadata": {},
   "source": [
    "# Multiple Linear Regression on the Soil Moisture Dataset"
   ]
  },
  {
   "cell_type": "markdown",
   "metadata": {},
   "source": [
    "Soil Moisture Dataset"
   ]
  },
  {
   "cell_type": "markdown",
   "metadata": {},
   "source": [
    "Libraries we need are imported first"
   ]
  },
  {
   "cell_type": "code",
   "execution_count": 27,
   "metadata": {},
   "outputs": [],
   "source": [
    "import numpy as np\n",
    "import pandas as pd\n",
    "import matplotlib.pyplot as pl\n",
    "import xarray as xr\n",
    "from scipy.interpolate import griddata\n",
    "from scipy import interpolate\n",
    "import statsmodels.api as sm"
   ]
  },
  {
   "cell_type": "markdown",
   "metadata": {},
   "source": [
    "Data used in this exercise is stored in the DATA folder"
   ]
  },
  {
   "cell_type": "code",
   "execution_count": 30,
   "metadata": {},
   "outputs": [],
   "source": [
    "thefile = '../../../DATA/TPdata_199301'"
   ]
  },
  {
   "cell_type": "markdown",
   "metadata": {},
   "source": [
    "The dataframe is created using the .read_csv function of Pandas"
   ]
  },
  {
   "cell_type": "code",
   "execution_count": 33,
   "metadata": {},
   "outputs": [],
   "source": [
    "data = pd.read_csv(thefile, sep='\\t', header=None)"
   ]
  },
  {
   "cell_type": "markdown",
   "metadata": {},
   "source": [
    "The original CSV file is structured as a dataframe with the corresponding categories"
   ]
  },
  {
   "cell_type": "code",
   "execution_count": 36,
   "metadata": {},
   "outputs": [],
   "source": [
    "data.columns = [\"cellNr\", \"latitude\", \"longitude\", \"backscatter\",\"emissivity_v\",\"emissivity_h\",\"ts_amplitude\",\"ndvi\",\"lmd_soilWetness\"]"
   ]
  },
  {
   "cell_type": "code",
   "execution_count": 38,
   "metadata": {},
   "outputs": [],
   "source": [
    "data = data.replace('   NaN',pd.NA)"
   ]
  },
  {
   "cell_type": "code",
   "execution_count": 40,
   "metadata": {},
   "outputs": [],
   "source": [
    "data['backscatter'] = pd.to_numeric(data['backscatter'])\n",
    "data['emissivity_v'] = pd.to_numeric(data['emissivity_v'])\n",
    "data['emissivity_h'] = pd.to_numeric(data['emissivity_h'])\n",
    "data['ts_amplitude'] = pd.to_numeric(data['ts_amplitude'])\n",
    "data['ndvi'] = pd.to_numeric(data['ndvi'])\n",
    "data['lmd_soilWetness'] = pd.to_numeric(data['lmd_soilWetness'])"
   ]
  },
  {
   "cell_type": "code",
   "execution_count": 42,
   "metadata": {},
   "outputs": [],
   "source": [
    "data = data.dropna()"
   ]
  },
  {
   "cell_type": "markdown",
   "metadata": {},
   "source": [
    "## Multiple Linear Regression"
   ]
  },
  {
   "cell_type": "code",
   "execution_count": 45,
   "metadata": {},
   "outputs": [
    {
     "data": {
      "text/html": [
       "<table class=\"simpletable\">\n",
       "<caption>OLS Regression Results</caption>\n",
       "<tr>\n",
       "  <th>Dep. Variable:</th>     <td>lmd_soilWetness</td> <th>  R-squared:         </th>  <td>   0.508</td> \n",
       "</tr>\n",
       "<tr>\n",
       "  <th>Model:</th>                   <td>OLS</td>       <th>  Adj. R-squared:    </th>  <td>   0.508</td> \n",
       "</tr>\n",
       "<tr>\n",
       "  <th>Method:</th>             <td>Least Squares</td>  <th>  F-statistic:       </th>  <td>   9211.</td> \n",
       "</tr>\n",
       "<tr>\n",
       "  <th>Date:</th>             <td>Tue, 15 Jul 2025</td> <th>  Prob (F-statistic):</th>   <td>  0.00</td>  \n",
       "</tr>\n",
       "<tr>\n",
       "  <th>Time:</th>                 <td>12:28:27</td>     <th>  Log-Likelihood:    </th>  <td>  17245.</td> \n",
       "</tr>\n",
       "<tr>\n",
       "  <th>No. Observations:</th>      <td> 44531</td>      <th>  AIC:               </th> <td>-3.448e+04</td>\n",
       "</tr>\n",
       "<tr>\n",
       "  <th>Df Residuals:</th>          <td> 44525</td>      <th>  BIC:               </th> <td>-3.442e+04</td>\n",
       "</tr>\n",
       "<tr>\n",
       "  <th>Df Model:</th>              <td>     5</td>      <th>                     </th>      <td> </td>    \n",
       "</tr>\n",
       "<tr>\n",
       "  <th>Covariance Type:</th>      <td>nonrobust</td>    <th>                     </th>      <td> </td>    \n",
       "</tr>\n",
       "</table>\n",
       "<table class=\"simpletable\">\n",
       "<tr>\n",
       "        <td></td>          <th>coef</th>     <th>std err</th>      <th>t</th>      <th>P>|t|</th>  <th>[0.025</th>    <th>0.975]</th>  \n",
       "</tr>\n",
       "<tr>\n",
       "  <th>const</th>        <td>    0.8653</td> <td>    0.058</td> <td>   15.013</td> <td> 0.000</td> <td>    0.752</td> <td>    0.978</td>\n",
       "</tr>\n",
       "<tr>\n",
       "  <th>backscatter</th>  <td>    0.0074</td> <td>    0.001</td> <td>   13.743</td> <td> 0.000</td> <td>    0.006</td> <td>    0.008</td>\n",
       "</tr>\n",
       "<tr>\n",
       "  <th>emissivity_v</th> <td>    0.1046</td> <td>    0.084</td> <td>    1.243</td> <td> 0.214</td> <td>   -0.060</td> <td>    0.270</td>\n",
       "</tr>\n",
       "<tr>\n",
       "  <th>emissivity_h</th> <td>   -0.2269</td> <td>    0.043</td> <td>   -5.334</td> <td> 0.000</td> <td>   -0.310</td> <td>   -0.144</td>\n",
       "</tr>\n",
       "<tr>\n",
       "  <th>ts_amplitude</th> <td>   -0.0106</td> <td>    0.000</td> <td>  -99.962</td> <td> 0.000</td> <td>   -0.011</td> <td>   -0.010</td>\n",
       "</tr>\n",
       "<tr>\n",
       "  <th>ndvi</th>         <td>    0.2148</td> <td>    0.007</td> <td>   28.885</td> <td> 0.000</td> <td>    0.200</td> <td>    0.229</td>\n",
       "</tr>\n",
       "</table>\n",
       "<table class=\"simpletable\">\n",
       "<tr>\n",
       "  <th>Omnibus:</th>       <td>982.824</td> <th>  Durbin-Watson:     </th> <td>   0.334</td> \n",
       "</tr>\n",
       "<tr>\n",
       "  <th>Prob(Omnibus):</th> <td> 0.000</td>  <th>  Jarque-Bera (JB):  </th> <td> 769.979</td> \n",
       "</tr>\n",
       "<tr>\n",
       "  <th>Skew:</th>          <td>-0.240</td>  <th>  Prob(JB):          </th> <td>6.33e-168</td>\n",
       "</tr>\n",
       "<tr>\n",
       "  <th>Kurtosis:</th>      <td> 2.571</td>  <th>  Cond. No.          </th> <td>3.83e+03</td> \n",
       "</tr>\n",
       "</table><br/><br/>Notes:<br/>[1] Standard Errors assume that the covariance matrix of the errors is correctly specified.<br/>[2] The condition number is large, 3.83e+03. This might indicate that there are<br/>strong multicollinearity or other numerical problems."
      ],
      "text/latex": [
       "\\begin{center}\n",
       "\\begin{tabular}{lclc}\n",
       "\\toprule\n",
       "\\textbf{Dep. Variable:}    & lmd\\_soilWetness & \\textbf{  R-squared:         } &     0.508   \\\\\n",
       "\\textbf{Model:}            &       OLS        & \\textbf{  Adj. R-squared:    } &     0.508   \\\\\n",
       "\\textbf{Method:}           &  Least Squares   & \\textbf{  F-statistic:       } &     9211.   \\\\\n",
       "\\textbf{Date:}             & Tue, 15 Jul 2025 & \\textbf{  Prob (F-statistic):} &     0.00    \\\\\n",
       "\\textbf{Time:}             &     12:28:27     & \\textbf{  Log-Likelihood:    } &    17245.   \\\\\n",
       "\\textbf{No. Observations:} &       44531      & \\textbf{  AIC:               } & -3.448e+04  \\\\\n",
       "\\textbf{Df Residuals:}     &       44525      & \\textbf{  BIC:               } & -3.442e+04  \\\\\n",
       "\\textbf{Df Model:}         &           5      & \\textbf{                     } &             \\\\\n",
       "\\textbf{Covariance Type:}  &    nonrobust     & \\textbf{                     } &             \\\\\n",
       "\\bottomrule\n",
       "\\end{tabular}\n",
       "\\begin{tabular}{lcccccc}\n",
       "                       & \\textbf{coef} & \\textbf{std err} & \\textbf{t} & \\textbf{P$> |$t$|$} & \\textbf{[0.025} & \\textbf{0.975]}  \\\\\n",
       "\\midrule\n",
       "\\textbf{const}         &       0.8653  &        0.058     &    15.013  &         0.000        &        0.752    &        0.978     \\\\\n",
       "\\textbf{backscatter}   &       0.0074  &        0.001     &    13.743  &         0.000        &        0.006    &        0.008     \\\\\n",
       "\\textbf{emissivity\\_v} &       0.1046  &        0.084     &     1.243  &         0.214        &       -0.060    &        0.270     \\\\\n",
       "\\textbf{emissivity\\_h} &      -0.2269  &        0.043     &    -5.334  &         0.000        &       -0.310    &       -0.144     \\\\\n",
       "\\textbf{ts\\_amplitude} &      -0.0106  &        0.000     &   -99.962  &         0.000        &       -0.011    &       -0.010     \\\\\n",
       "\\textbf{ndvi}          &       0.2148  &        0.007     &    28.885  &         0.000        &        0.200    &        0.229     \\\\\n",
       "\\bottomrule\n",
       "\\end{tabular}\n",
       "\\begin{tabular}{lclc}\n",
       "\\textbf{Omnibus:}       & 982.824 & \\textbf{  Durbin-Watson:     } &     0.334  \\\\\n",
       "\\textbf{Prob(Omnibus):} &   0.000 & \\textbf{  Jarque-Bera (JB):  } &   769.979  \\\\\n",
       "\\textbf{Skew:}          &  -0.240 & \\textbf{  Prob(JB):          } & 6.33e-168  \\\\\n",
       "\\textbf{Kurtosis:}      &   2.571 & \\textbf{  Cond. No.          } &  3.83e+03  \\\\\n",
       "\\bottomrule\n",
       "\\end{tabular}\n",
       "%\\caption{OLS Regression Results}\n",
       "\\end{center}\n",
       "\n",
       "Notes: \\newline\n",
       " [1] Standard Errors assume that the covariance matrix of the errors is correctly specified. \\newline\n",
       " [2] The condition number is large, 3.83e+03. This might indicate that there are \\newline\n",
       " strong multicollinearity or other numerical problems."
      ],
      "text/plain": [
       "<class 'statsmodels.iolib.summary.Summary'>\n",
       "\"\"\"\n",
       "                            OLS Regression Results                            \n",
       "==============================================================================\n",
       "Dep. Variable:        lmd_soilWetness   R-squared:                       0.508\n",
       "Model:                            OLS   Adj. R-squared:                  0.508\n",
       "Method:                 Least Squares   F-statistic:                     9211.\n",
       "Date:                Tue, 15 Jul 2025   Prob (F-statistic):               0.00\n",
       "Time:                        12:28:27   Log-Likelihood:                 17245.\n",
       "No. Observations:               44531   AIC:                        -3.448e+04\n",
       "Df Residuals:                   44525   BIC:                        -3.442e+04\n",
       "Df Model:                           5                                         \n",
       "Covariance Type:            nonrobust                                         \n",
       "================================================================================\n",
       "                   coef    std err          t      P>|t|      [0.025      0.975]\n",
       "--------------------------------------------------------------------------------\n",
       "const            0.8653      0.058     15.013      0.000       0.752       0.978\n",
       "backscatter      0.0074      0.001     13.743      0.000       0.006       0.008\n",
       "emissivity_v     0.1046      0.084      1.243      0.214      -0.060       0.270\n",
       "emissivity_h    -0.2269      0.043     -5.334      0.000      -0.310      -0.144\n",
       "ts_amplitude    -0.0106      0.000    -99.962      0.000      -0.011      -0.010\n",
       "ndvi             0.2148      0.007     28.885      0.000       0.200       0.229\n",
       "==============================================================================\n",
       "Omnibus:                      982.824   Durbin-Watson:                   0.334\n",
       "Prob(Omnibus):                  0.000   Jarque-Bera (JB):              769.979\n",
       "Skew:                          -0.240   Prob(JB):                    6.33e-168\n",
       "Kurtosis:                       2.571   Cond. No.                     3.83e+03\n",
       "==============================================================================\n",
       "\n",
       "Notes:\n",
       "[1] Standard Errors assume that the covariance matrix of the errors is correctly specified.\n",
       "[2] The condition number is large, 3.83e+03. This might indicate that there are\n",
       "strong multicollinearity or other numerical problems.\n",
       "\"\"\""
      ]
     },
     "execution_count": 45,
     "metadata": {},
     "output_type": "execute_result"
    }
   ],
   "source": [
    "X = data[[\"backscatter\",\"emissivity_v\",\"emissivity_h\",\"ts_amplitude\",\"ndvi\"]] \n",
    "y = data['lmd_soilWetness'] \n",
    "X = sm.add_constant(X) \n",
    "est = sm.OLS(y, X).fit() \n",
    "est.summary()"
   ]
  },
  {
   "cell_type": "markdown",
   "metadata": {},
   "source": [
    "## Polynomial"
   ]
  },
  {
   "cell_type": "code",
   "execution_count": null,
   "metadata": {},
   "outputs": [],
   "source": []
  },
  {
   "cell_type": "markdown",
   "metadata": {},
   "source": [
    "## Interaction Terms"
   ]
  },
  {
   "cell_type": "code",
   "execution_count": null,
   "metadata": {},
   "outputs": [],
   "source": []
  }
 ],
 "metadata": {
  "kernelspec": {
   "display_name": "Python [conda env:base] *",
   "language": "python",
   "name": "conda-base-py"
  },
  "language_info": {
   "codemirror_mode": {
    "name": "ipython",
    "version": 3
   },
   "file_extension": ".py",
   "mimetype": "text/x-python",
   "name": "python",
   "nbconvert_exporter": "python",
   "pygments_lexer": "ipython3",
   "version": "3.12.7"
  }
 },
 "nbformat": 4,
 "nbformat_minor": 4
}
