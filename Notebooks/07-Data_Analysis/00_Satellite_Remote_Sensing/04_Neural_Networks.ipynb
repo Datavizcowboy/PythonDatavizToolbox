{
 "cells": [
  {
   "cell_type": "markdown",
   "metadata": {},
   "source": [
    "# Neural Networks retrieval on the Satellite Observations Dataset"
   ]
  },
  {
   "cell_type": "markdown",
   "metadata": {},
   "source": [
    "In this final step we develop a model to estimate soil moisture using neural networks"
   ]
  },
  {
   "cell_type": "markdown",
   "metadata": {},
   "source": [
    "Libraries we need are imported first"
   ]
  },
  {
   "cell_type": "code",
   "execution_count": 1,
   "metadata": {},
   "outputs": [],
   "source": [
    "import numpy as np\n",
    "import pandas as pd\n",
    "import matplotlib.pyplot as pl\n",
    "import xarray as xr\n",
    "from scipy.interpolate import griddata\n",
    "from scipy import interpolate\n",
    "import statsmodels.api as sm\n",
    "\n",
    "import torch\n",
    "from torch import nn, optim\n",
    "from torch.optim import SGD\n",
    "\n",
    "# from torch.optim import RMSprop\n",
    "# from torch.utils.data import TensorDataset\n",
    "# from torchmetrics import (MeanAbsoluteError, R2Score)\n",
    "# # from torchinfo import summary\n",
    "# from torchvision.io import read_image\n",
    "# from pytorch_lightning import Trainer\n",
    "# from pytorch_lightning.loggers import CSVLogger"
   ]
  },
  {
   "cell_type": "markdown",
   "metadata": {},
   "source": [
    "Data used in this exercise is stored in the DATA folder"
   ]
  },
  {
   "cell_type": "code",
   "execution_count": 3,
   "metadata": {},
   "outputs": [
    {
     "name": "stderr",
     "output_type": "stream",
     "text": [
      "/var/folders/42/4grwdj956wxfq8phsmjtnjdm0000gn/T/ipykernel_23941/14476055.py:7: SettingWithCopyWarning: \n",
      "A value is trying to be set on a copy of a slice from a DataFrame.\n",
      "Try using .loc[row_indexer,col_indexer] = value instead\n",
      "\n",
      "See the caveats in the documentation: https://pandas.pydata.org/pandas-docs/stable/user_guide/indexing.html#returning-a-view-versus-a-copy\n",
      "  data['backscatter'] = pd.to_numeric(data['backscatter'])\n",
      "/var/folders/42/4grwdj956wxfq8phsmjtnjdm0000gn/T/ipykernel_23941/14476055.py:8: SettingWithCopyWarning: \n",
      "A value is trying to be set on a copy of a slice from a DataFrame.\n",
      "Try using .loc[row_indexer,col_indexer] = value instead\n",
      "\n",
      "See the caveats in the documentation: https://pandas.pydata.org/pandas-docs/stable/user_guide/indexing.html#returning-a-view-versus-a-copy\n",
      "  data['emissivity_v'] = pd.to_numeric(data['emissivity_v'])\n",
      "/var/folders/42/4grwdj956wxfq8phsmjtnjdm0000gn/T/ipykernel_23941/14476055.py:9: SettingWithCopyWarning: \n",
      "A value is trying to be set on a copy of a slice from a DataFrame.\n",
      "Try using .loc[row_indexer,col_indexer] = value instead\n",
      "\n",
      "See the caveats in the documentation: https://pandas.pydata.org/pandas-docs/stable/user_guide/indexing.html#returning-a-view-versus-a-copy\n",
      "  data['emissivity_h'] = pd.to_numeric(data['emissivity_h'])\n",
      "/var/folders/42/4grwdj956wxfq8phsmjtnjdm0000gn/T/ipykernel_23941/14476055.py:10: SettingWithCopyWarning: \n",
      "A value is trying to be set on a copy of a slice from a DataFrame.\n",
      "Try using .loc[row_indexer,col_indexer] = value instead\n",
      "\n",
      "See the caveats in the documentation: https://pandas.pydata.org/pandas-docs/stable/user_guide/indexing.html#returning-a-view-versus-a-copy\n",
      "  data['ts_amplitude'] = pd.to_numeric(data['ts_amplitude'])\n",
      "/var/folders/42/4grwdj956wxfq8phsmjtnjdm0000gn/T/ipykernel_23941/14476055.py:11: SettingWithCopyWarning: \n",
      "A value is trying to be set on a copy of a slice from a DataFrame.\n",
      "Try using .loc[row_indexer,col_indexer] = value instead\n",
      "\n",
      "See the caveats in the documentation: https://pandas.pydata.org/pandas-docs/stable/user_guide/indexing.html#returning-a-view-versus-a-copy\n",
      "  data['ndvi'] = pd.to_numeric(data['ndvi'])\n",
      "/var/folders/42/4grwdj956wxfq8phsmjtnjdm0000gn/T/ipykernel_23941/14476055.py:12: SettingWithCopyWarning: \n",
      "A value is trying to be set on a copy of a slice from a DataFrame.\n",
      "Try using .loc[row_indexer,col_indexer] = value instead\n",
      "\n",
      "See the caveats in the documentation: https://pandas.pydata.org/pandas-docs/stable/user_guide/indexing.html#returning-a-view-versus-a-copy\n",
      "  data['lmd_soilWetness'] = pd.to_numeric(data['lmd_soilWetness'])\n"
     ]
    }
   ],
   "source": [
    "thefile = '../../../DATA/TPdata_199301'\n",
    "orig_data = pd.read_csv(thefile, sep='\\t', header=None)\n",
    "orig_data.columns = [\"cellNr\", \"latitude\", \"longitude\", \"backscatter\",\"emissivity_v\",\"emissivity_h\",\"ts_amplitude\",\"ndvi\",\"lmd_soilWetness\"]\n",
    "orig_data = orig_data.replace('   NaN',pd.NA)\n",
    "data = orig_data.iloc[::5,:]\n",
    "test_data = orig_data.iloc[1::5,:]\n",
    "data['backscatter'] = pd.to_numeric(data['backscatter'])\n",
    "data['emissivity_v'] = pd.to_numeric(data['emissivity_v'])\n",
    "data['emissivity_h'] = pd.to_numeric(data['emissivity_h'])\n",
    "data['ts_amplitude'] = pd.to_numeric(data['ts_amplitude'])\n",
    "data['ndvi'] = pd.to_numeric(data['ndvi'])\n",
    "data['lmd_soilWetness'] = pd.to_numeric(data['lmd_soilWetness'])\n",
    "data = data.dropna()\n",
    "test_data = test_data.dropna()\n",
    "data = data.iloc[0:len(test_data),:]"
   ]
  },
  {
   "cell_type": "code",
   "execution_count": 4,
   "metadata": {},
   "outputs": [
    {
     "data": {
      "text/plain": [
       "8895"
      ]
     },
     "execution_count": 4,
     "metadata": {},
     "output_type": "execute_result"
    }
   ],
   "source": [
    "len(data)"
   ]
  },
  {
   "cell_type": "code",
   "execution_count": 8,
   "metadata": {},
   "outputs": [
    {
     "data": {
      "text/plain": [
       "8895"
      ]
     },
     "execution_count": 8,
     "metadata": {},
     "output_type": "execute_result"
    }
   ],
   "source": [
    "len(test_data)"
   ]
  },
  {
   "cell_type": "code",
   "execution_count": 10,
   "metadata": {},
   "outputs": [],
   "source": [
    "thres = len(data)"
   ]
  },
  {
   "cell_type": "code",
   "execution_count": 12,
   "metadata": {},
   "outputs": [],
   "source": [
    "back = data['backscatter'].values[0:thres]\n",
    "lats = data['latitude'].values[0:thres]\n",
    "lons = data['longitude'].values[0:thres]\n",
    "emissivity_v = data['emissivity_v'].values[0:thres]\n",
    "emissivity_h = data['emissivity_h'].values[0:thres]\n",
    "ts_amplitude = data['ts_amplitude'].values[0:thres]\n",
    "ndvi = data['ndvi'].values[0:thres]\n",
    "lmd_soilWetness = data['lmd_soilWetness'].values[0:thres]"
   ]
  },
  {
   "cell_type": "markdown",
   "metadata": {},
   "source": [
    "## Neural Network"
   ]
  },
  {
   "cell_type": "code",
   "execution_count": 15,
   "metadata": {},
   "outputs": [],
   "source": [
    "class SimpleNN(nn.Module):\n",
    "    def __init__(self):\n",
    "        super(SimpleNN, self).__init__()\n",
    "        self.fc1 = nn.Linear(5,thres)  \n",
    "        # self.tanh = nn.Tanh()  \n",
    "        self.fc2 = nn.Linear(thres,1)  \n",
    "\n",
    "    def forward(self, x):\n",
    "        x = torch.relu(self.fc1(x))  \n",
    "        x = self.fc2(x)               \n",
    "        return x"
   ]
  },
  {
   "cell_type": "code",
   "execution_count": 17,
   "metadata": {},
   "outputs": [],
   "source": [
    "alles = np.stack((back,emissivity_v,emissivity_h,ts_amplitude,ndvi),axis=1)\n",
    "# alles = np.stack((back,ts_amplitude,ndvi),axis=1)\n",
    "# alles = np.stack((ts_amplitude),axis=1)"
   ]
  },
  {
   "cell_type": "code",
   "execution_count": 19,
   "metadata": {},
   "outputs": [],
   "source": [
    "X_train = torch.tensor(alles).to(torch.float32)\n",
    "y_train = torch.tensor(lmd_soilWetness).to(torch.float32)"
   ]
  },
  {
   "cell_type": "code",
   "execution_count": 21,
   "metadata": {},
   "outputs": [
    {
     "data": {
      "text/plain": [
       "torch.Size([8895])"
      ]
     },
     "execution_count": 21,
     "metadata": {},
     "output_type": "execute_result"
    }
   ],
   "source": [
    "# y_train = y_train[...,None]\n",
    "y_train.size()"
   ]
  },
  {
   "cell_type": "code",
   "execution_count": 23,
   "metadata": {},
   "outputs": [
    {
     "data": {
      "text/plain": [
       "tensor([[-11.7482,   0.8083,   0.6605,  22.8432,   0.4072],\n",
       "        [-11.6666,   0.8497,   0.7343,  24.4724,   0.1540],\n",
       "        [-15.3758,   0.9881,   0.9418,  33.5860,   0.2251],\n",
       "        ...,\n",
       "        [-11.0103,   0.9789,   0.9658,  11.9511,   0.4320],\n",
       "        [-11.0627,   0.9737,   0.9556,  10.9862,   0.4364],\n",
       "        [-15.8875,   0.9960,   0.9439,  23.0279,   0.1905]])"
      ]
     },
     "execution_count": 23,
     "metadata": {},
     "output_type": "execute_result"
    }
   ],
   "source": [
    "X_train"
   ]
  },
  {
   "cell_type": "code",
   "execution_count": 25,
   "metadata": {},
   "outputs": [
    {
     "data": {
      "text/plain": [
       "tensor([0.4771, 0.5946, 0.2152,  ..., 0.8250, 0.7062, 0.1987])"
      ]
     },
     "execution_count": 25,
     "metadata": {},
     "output_type": "execute_result"
    }
   ],
   "source": [
    "y_train"
   ]
  },
  {
   "cell_type": "code",
   "execution_count": 27,
   "metadata": {},
   "outputs": [],
   "source": [
    "model = SimpleNN()  \n",
    "criterion = nn.MSELoss()  \n",
    "optimizer = optim.SGD(model.parameters(), lr=0.1)"
   ]
  },
  {
   "cell_type": "code",
   "execution_count": 29,
   "metadata": {},
   "outputs": [
    {
     "name": "stderr",
     "output_type": "stream",
     "text": [
      "/opt/anaconda3/lib/python3.12/site-packages/torch/nn/modules/loss.py:608: UserWarning: Using a target size (torch.Size([8895])) that is different to the input size (torch.Size([8895, 1])). This will likely lead to incorrect results due to broadcasting. Please ensure they have the same size.\n",
      "  return F.mse_loss(input, target, reduction=self.reduction)\n"
     ]
    },
    {
     "name": "stdout",
     "output_type": "stream",
     "text": [
      "Epoch [10/100], Loss: 222627676160.0000\n",
      "Epoch [20/100], Loss: 2566721536.0000\n",
      "Epoch [30/100], Loss: 29592278.0000\n",
      "Epoch [40/100], Loss: 341175.6250\n",
      "Epoch [50/100], Loss: 3933.5405\n",
      "Epoch [60/100], Loss: 45.4053\n",
      "Epoch [70/100], Loss: 0.5781\n",
      "Epoch [80/100], Loss: 0.0613\n",
      "Epoch [90/100], Loss: 0.0554\n",
      "Epoch [100/100], Loss: 0.0553\n"
     ]
    }
   ],
   "source": [
    "for epoch in range(100):  \n",
    "    model.train() \n",
    "\n",
    "    # Forward pass\n",
    "    outputs = model(X_train)\n",
    "    loss = criterion(outputs, y_train)  \n",
    "    \n",
    "    # Backward pass and optimize\n",
    "    optimizer.zero_grad()  \n",
    "    loss.backward()  \n",
    "    optimizer.step()  \n",
    "\n",
    "    if (epoch + 1) % 10 == 0:  \n",
    "        print(f'Epoch [{epoch + 1}/100], Loss: {loss.item():.4f}')"
   ]
  },
  {
   "cell_type": "markdown",
   "metadata": {},
   "source": [
    "## Performance of the Neural Network"
   ]
  },
  {
   "cell_type": "code",
   "execution_count": 32,
   "metadata": {},
   "outputs": [],
   "source": [
    "test_data['backscatter'] = pd.to_numeric(test_data['backscatter'])\n",
    "test_data['emissivity_v'] = pd.to_numeric(test_data['emissivity_v'])\n",
    "test_data['emissivity_h'] = pd.to_numeric(test_data['emissivity_h'])\n",
    "test_data['ts_amplitude'] = pd.to_numeric(test_data['ts_amplitude'])\n",
    "test_data['ndvi'] = pd.to_numeric(test_data['ndvi'])\n",
    "test_data['lmd_soilWetness'] = pd.to_numeric(test_data['lmd_soilWetness'])"
   ]
  },
  {
   "cell_type": "code",
   "execution_count": 34,
   "metadata": {},
   "outputs": [],
   "source": [
    "test_back = test_data['backscatter'].values[0:thres]\n",
    "test_lats = test_data['latitude'].values[0:thres]\n",
    "test_lons = test_data['longitude'].values[0:thres]\n",
    "test_emissivity_v = test_data['emissivity_v'].values[0:thres]\n",
    "test_emissivity_h = test_data['emissivity_h'].values[0:thres]\n",
    "test_ts_amplitude = test_data['ts_amplitude'].values[0:thres]\n",
    "test_ndvi = test_data['ndvi'].values[0:thres]\n",
    "test_lmd_soilWetness = test_data['lmd_soilWetness'].values[0:thres]"
   ]
  },
  {
   "cell_type": "code",
   "execution_count": 36,
   "metadata": {},
   "outputs": [],
   "source": [
    "test_alles = np.stack((test_back,test_emissivity_v,test_emissivity_h,test_ts_amplitude,test_ndvi),axis=1)"
   ]
  },
  {
   "cell_type": "code",
   "execution_count": 38,
   "metadata": {},
   "outputs": [
    {
     "name": "stdout",
     "output_type": "stream",
     "text": [
      "Predictions:\n",
      "tensor([[0.4962],\n",
      "        [0.4962],\n",
      "        [0.4962],\n",
      "        ...,\n",
      "        [0.4962],\n",
      "        [0.4962],\n",
      "        [0.4962]])\n"
     ]
    }
   ],
   "source": [
    "model.eval()  \n",
    "with torch.no_grad(): \n",
    "    testing_data = torch.tensor(test_alles).to(torch.float32)\n",
    "    predictions = model(testing_data) \n",
    "    print(f'Predictions:\\n{predictions}')"
   ]
  },
  {
   "cell_type": "code",
   "execution_count": 40,
   "metadata": {},
   "outputs": [
    {
     "data": {
      "text/plain": [
       "8895"
      ]
     },
     "execution_count": 40,
     "metadata": {},
     "output_type": "execute_result"
    }
   ],
   "source": [
    "len(predictions)"
   ]
  },
  {
   "cell_type": "code",
   "execution_count": 42,
   "metadata": {},
   "outputs": [],
   "source": [
    "output = predictions.detach().cpu().numpy()"
   ]
  },
  {
   "cell_type": "code",
   "execution_count": 44,
   "metadata": {},
   "outputs": [
    {
     "data": {
      "text/plain": [
       "array([[0.49616045],\n",
       "       [0.49616045],\n",
       "       [0.49616045],\n",
       "       ...,\n",
       "       [0.49616045],\n",
       "       [0.49616045],\n",
       "       [0.49616045]], dtype=float32)"
      ]
     },
     "execution_count": 44,
     "metadata": {},
     "output_type": "execute_result"
    }
   ],
   "source": [
    "output"
   ]
  },
  {
   "cell_type": "code",
   "execution_count": 46,
   "metadata": {},
   "outputs": [
    {
     "data": {
      "text/plain": [
       "0.5013174"
      ]
     },
     "execution_count": 46,
     "metadata": {},
     "output_type": "execute_result"
    }
   ],
   "source": [
    "np.mean(output)"
   ]
  },
  {
   "cell_type": "code",
   "execution_count": 48,
   "metadata": {},
   "outputs": [],
   "source": [
    "test_data['NN']=output"
   ]
  },
  {
   "cell_type": "code",
   "execution_count": 137,
   "metadata": {},
   "outputs": [
    {
     "data": {
      "text/html": [
       "<div>\n",
       "<style scoped>\n",
       "    .dataframe tbody tr th:only-of-type {\n",
       "        vertical-align: middle;\n",
       "    }\n",
       "\n",
       "    .dataframe tbody tr th {\n",
       "        vertical-align: top;\n",
       "    }\n",
       "\n",
       "    .dataframe thead th {\n",
       "        text-align: right;\n",
       "    }\n",
       "</style>\n",
       "<table border=\"1\" class=\"dataframe\">\n",
       "  <thead>\n",
       "    <tr style=\"text-align: right;\">\n",
       "      <th></th>\n",
       "      <th>cellNr</th>\n",
       "      <th>latitude</th>\n",
       "      <th>longitude</th>\n",
       "      <th>backscatter</th>\n",
       "      <th>emissivity_v</th>\n",
       "      <th>emissivity_h</th>\n",
       "      <th>ts_amplitude</th>\n",
       "      <th>ndvi</th>\n",
       "      <th>lmd_soilWetness</th>\n",
       "      <th>NN</th>\n",
       "    </tr>\n",
       "  </thead>\n",
       "  <tbody>\n",
       "    <tr>\n",
       "      <th>74276</th>\n",
       "      <td>74277.0</td>\n",
       "      <td>-50.875</td>\n",
       "      <td>-73.0693</td>\n",
       "      <td>-11.4033</td>\n",
       "      <td>0.9364</td>\n",
       "      <td>0.8869</td>\n",
       "      <td>30.1807</td>\n",
       "      <td>0.3415</td>\n",
       "      <td>0.5781</td>\n",
       "      <td>0.496302</td>\n",
       "    </tr>\n",
       "    <tr>\n",
       "      <th>74281</th>\n",
       "      <td>74282.0</td>\n",
       "      <td>-50.875</td>\n",
       "      <td>-71.0891</td>\n",
       "      <td>-14.6431</td>\n",
       "      <td>0.9981</td>\n",
       "      <td>0.9542</td>\n",
       "      <td>32.4869</td>\n",
       "      <td>0.2000</td>\n",
       "      <td>0.2076</td>\n",
       "      <td>0.496302</td>\n",
       "    </tr>\n",
       "    <tr>\n",
       "      <th>76111</th>\n",
       "      <td>76112.0</td>\n",
       "      <td>-50.375</td>\n",
       "      <td>-71.1765</td>\n",
       "      <td>-14.3510</td>\n",
       "      <td>0.9829</td>\n",
       "      <td>0.9368</td>\n",
       "      <td>37.5393</td>\n",
       "      <td>0.1720</td>\n",
       "      <td>0.2062</td>\n",
       "      <td>0.496302</td>\n",
       "    </tr>\n",
       "    <tr>\n",
       "      <th>77956</th>\n",
       "      <td>77957.0</td>\n",
       "      <td>-49.875</td>\n",
       "      <td>-72.7371</td>\n",
       "      <td>-13.7268</td>\n",
       "      <td>0.8999</td>\n",
       "      <td>0.8123</td>\n",
       "      <td>35.4797</td>\n",
       "      <td>0.1320</td>\n",
       "      <td>0.4314</td>\n",
       "      <td>0.496302</td>\n",
       "    </tr>\n",
       "    <tr>\n",
       "      <th>79831</th>\n",
       "      <td>79832.0</td>\n",
       "      <td>-49.375</td>\n",
       "      <td>-70.4264</td>\n",
       "      <td>-14.4097</td>\n",
       "      <td>0.9796</td>\n",
       "      <td>0.9214</td>\n",
       "      <td>42.6025</td>\n",
       "      <td>0.1312</td>\n",
       "      <td>0.2093</td>\n",
       "      <td>0.496302</td>\n",
       "    </tr>\n",
       "    <tr>\n",
       "      <th>...</th>\n",
       "      <td>...</td>\n",
       "      <td>...</td>\n",
       "      <td>...</td>\n",
       "      <td>...</td>\n",
       "      <td>...</td>\n",
       "      <td>...</td>\n",
       "      <td>...</td>\n",
       "      <td>...</td>\n",
       "      <td>...</td>\n",
       "      <td>...</td>\n",
       "    </tr>\n",
       "    <tr>\n",
       "      <th>589236</th>\n",
       "      <td>589237.0</td>\n",
       "      <td>51.875</td>\n",
       "      <td>9.5163</td>\n",
       "      <td>-8.9858</td>\n",
       "      <td>0.9642</td>\n",
       "      <td>0.9250</td>\n",
       "      <td>6.8976</td>\n",
       "      <td>0.1731</td>\n",
       "      <td>0.8494</td>\n",
       "      <td>0.496302</td>\n",
       "    </tr>\n",
       "    <tr>\n",
       "      <th>590096</th>\n",
       "      <td>590097.0</td>\n",
       "      <td>51.875</td>\n",
       "      <td>-2.2272</td>\n",
       "      <td>-8.9367</td>\n",
       "      <td>0.9529</td>\n",
       "      <td>0.9077</td>\n",
       "      <td>5.4218</td>\n",
       "      <td>0.4087</td>\n",
       "      <td>0.8407</td>\n",
       "      <td>0.496302</td>\n",
       "    </tr>\n",
       "    <tr>\n",
       "      <th>591006</th>\n",
       "      <td>591007.0</td>\n",
       "      <td>52.375</td>\n",
       "      <td>8.3959</td>\n",
       "      <td>-9.7867</td>\n",
       "      <td>0.9619</td>\n",
       "      <td>0.9122</td>\n",
       "      <td>12.1349</td>\n",
       "      <td>0.1273</td>\n",
       "      <td>0.6934</td>\n",
       "      <td>0.496302</td>\n",
       "    </tr>\n",
       "    <tr>\n",
       "      <th>593601</th>\n",
       "      <td>593602.0</td>\n",
       "      <td>52.875</td>\n",
       "      <td>-2.6928</td>\n",
       "      <td>-9.3162</td>\n",
       "      <td>0.9663</td>\n",
       "      <td>0.9267</td>\n",
       "      <td>4.3450</td>\n",
       "      <td>0.4691</td>\n",
       "      <td>0.8262</td>\n",
       "      <td>0.496302</td>\n",
       "    </tr>\n",
       "    <tr>\n",
       "      <th>596851</th>\n",
       "      <td>596852.0</td>\n",
       "      <td>53.875</td>\n",
       "      <td>-77.3852</td>\n",
       "      <td>-12.0922</td>\n",
       "      <td>0.9724</td>\n",
       "      <td>0.8851</td>\n",
       "      <td>7.1683</td>\n",
       "      <td>0.0133</td>\n",
       "      <td>0.6129</td>\n",
       "      <td>0.496302</td>\n",
       "    </tr>\n",
       "  </tbody>\n",
       "</table>\n",
       "<p>8895 rows × 10 columns</p>\n",
       "</div>"
      ],
      "text/plain": [
       "          cellNr  latitude  longitude  backscatter  emissivity_v  \\\n",
       "74276    74277.0   -50.875   -73.0693     -11.4033        0.9364   \n",
       "74281    74282.0   -50.875   -71.0891     -14.6431        0.9981   \n",
       "76111    76112.0   -50.375   -71.1765     -14.3510        0.9829   \n",
       "77956    77957.0   -49.875   -72.7371     -13.7268        0.8999   \n",
       "79831    79832.0   -49.375   -70.4264     -14.4097        0.9796   \n",
       "...          ...       ...        ...          ...           ...   \n",
       "589236  589237.0    51.875     9.5163      -8.9858        0.9642   \n",
       "590096  590097.0    51.875    -2.2272      -8.9367        0.9529   \n",
       "591006  591007.0    52.375     8.3959      -9.7867        0.9619   \n",
       "593601  593602.0    52.875    -2.6928      -9.3162        0.9663   \n",
       "596851  596852.0    53.875   -77.3852     -12.0922        0.9724   \n",
       "\n",
       "        emissivity_h  ts_amplitude    ndvi  lmd_soilWetness        NN  \n",
       "74276         0.8869       30.1807  0.3415           0.5781  0.496302  \n",
       "74281         0.9542       32.4869  0.2000           0.2076  0.496302  \n",
       "76111         0.9368       37.5393  0.1720           0.2062  0.496302  \n",
       "77956         0.8123       35.4797  0.1320           0.4314  0.496302  \n",
       "79831         0.9214       42.6025  0.1312           0.2093  0.496302  \n",
       "...              ...           ...     ...              ...       ...  \n",
       "589236        0.9250        6.8976  0.1731           0.8494  0.496302  \n",
       "590096        0.9077        5.4218  0.4087           0.8407  0.496302  \n",
       "591006        0.9122       12.1349  0.1273           0.6934  0.496302  \n",
       "593601        0.9267        4.3450  0.4691           0.8262  0.496302  \n",
       "596851        0.8851        7.1683  0.0133           0.6129  0.496302  \n",
       "\n",
       "[8895 rows x 10 columns]"
      ]
     },
     "execution_count": 137,
     "metadata": {},
     "output_type": "execute_result"
    }
   ],
   "source": [
    "test_data"
   ]
  },
  {
   "cell_type": "code",
   "execution_count": 139,
   "metadata": {},
   "outputs": [],
   "source": [
    "# lats = test_data['latitude'].values[0:thres]\n",
    "# lons = test_data['longitude'].values[0:thres]\n",
    "# Yi = np.linspace(np.min(lats.data),float(np.max(lats.data)),180)\n",
    "# Xi = np.linspace(np.min(lons.data),float(np.max(lons.data)),360)\n",
    "# X, Y = np.meshgrid(Xi,Yi)\n",
    "# points = list(zip(lons, lats))\n",
    "# test_SM = griddata(points, output, (X, Y), method='nearest')"
   ]
  },
  {
   "cell_type": "code",
   "execution_count": 141,
   "metadata": {},
   "outputs": [
    {
     "data": {
      "text/plain": [
       "(-90.0, 90.0)"
      ]
     },
     "execution_count": 141,
     "metadata": {},
     "output_type": "execute_result"
    },
    {
     "data": {
      "image/png": "[encoded data removed]",
      "text/plain": [
       "<Figure size 1000x500 with 2 Axes>"
      ]
     },
     "metadata": {},
     "output_type": "display_data"
    }
   ],
   "source": [
    "fig,ax = pl.subplots(figsize=(10, 5))\n",
    "mesh = ax.scatter(test_data['longitude'],test_data['latitude'],c=test_data['NN'],s=1, cmap='terrain_r', vmin=0, vmax=1);\n",
    "cbar = pl.colorbar(mesh, ax=ax, shrink=.5, pad=.02, aspect=10)\n",
    "ax.set_ylim(-90,90)"
   ]
  },
  {
   "cell_type": "code",
   "execution_count": null,
   "metadata": {},
   "outputs": [],
   "source": []
  }
 ],
 "metadata": {
  "kernelspec": {
   "display_name": "Python [conda env:base] *",
   "language": "python",
   "name": "conda-base-py"
  },
  "language_info": {
   "codemirror_mode": {
    "name": "ipython",
    "version": 3
   },
   "file_extension": ".py",
   "mimetype": "text/x-python",
   "name": "python",
   "nbconvert_exporter": "python",
   "pygments_lexer": "ipython3",
   "version": "3.12.7"
  }
 },
 "nbformat": 4,
 "nbformat_minor": 4
}
