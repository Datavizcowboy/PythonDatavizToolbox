{
 "cells": [
  {
   "cell_type": "markdown",
   "metadata": {},
   "source": [
    "# Neural Networks retrieval on the Satellite Observations Dataset"
   ]
  },
  {
   "cell_type": "markdown",
   "metadata": {},
   "source": [
    "In this final step we develop a model to estimate soil moisture using neural networks"
   ]
  },
  {
   "cell_type": "markdown",
   "metadata": {},
   "source": [
    "Libraries we need are imported first"
   ]
  },
  {
   "cell_type": "code",
   "execution_count": 1,
   "metadata": {},
   "outputs": [],
   "source": [
    "import numpy as np\n",
    "import pandas as pd\n",
    "import matplotlib.pyplot as pl\n",
    "import xarray as xr\n",
    "from scipy.interpolate import griddata\n",
    "from scipy import interpolate\n",
    "import statsmodels.api as sm\n",
    "\n",
    "import torch\n",
    "from torch import nn, optim\n",
    "from torch.optim import SGD\n",
    "\n",
    "# from torch.optim import RMSprop\n",
    "# from torch.utils.data import TensorDataset\n",
    "# from torchmetrics import (MeanAbsoluteError, R2Score)\n",
    "# # from torchinfo import summary\n",
    "# from torchvision.io import read_image\n",
    "# from pytorch_lightning import Trainer\n",
    "# from pytorch_lightning.loggers import CSVLogger"
   ]
  },
  {
   "cell_type": "markdown",
   "metadata": {},
   "source": [
    "Data used in this exercise is stored in the DATA folder"
   ]
  },
  {
   "cell_type": "code",
   "execution_count": 4,
   "metadata": {},
   "outputs": [
    {
     "name": "stderr",
     "output_type": "stream",
     "text": [
      "/var/folders/42/4grwdj956wxfq8phsmjtnjdm0000gn/T/ipykernel_9933/4154394782.py:7: SettingWithCopyWarning: \n",
      "A value is trying to be set on a copy of a slice from a DataFrame.\n",
      "Try using .loc[row_indexer,col_indexer] = value instead\n",
      "\n",
      "See the caveats in the documentation: https://pandas.pydata.org/pandas-docs/stable/user_guide/indexing.html#returning-a-view-versus-a-copy\n",
      "  data['backscatter'] = pd.to_numeric(data['backscatter'])\n",
      "/var/folders/42/4grwdj956wxfq8phsmjtnjdm0000gn/T/ipykernel_9933/4154394782.py:8: SettingWithCopyWarning: \n",
      "A value is trying to be set on a copy of a slice from a DataFrame.\n",
      "Try using .loc[row_indexer,col_indexer] = value instead\n",
      "\n",
      "See the caveats in the documentation: https://pandas.pydata.org/pandas-docs/stable/user_guide/indexing.html#returning-a-view-versus-a-copy\n",
      "  data['emissivity_v'] = pd.to_numeric(data['emissivity_v'])\n",
      "/var/folders/42/4grwdj956wxfq8phsmjtnjdm0000gn/T/ipykernel_9933/4154394782.py:9: SettingWithCopyWarning: \n",
      "A value is trying to be set on a copy of a slice from a DataFrame.\n",
      "Try using .loc[row_indexer,col_indexer] = value instead\n",
      "\n",
      "See the caveats in the documentation: https://pandas.pydata.org/pandas-docs/stable/user_guide/indexing.html#returning-a-view-versus-a-copy\n",
      "  data['emissivity_h'] = pd.to_numeric(data['emissivity_h'])\n",
      "/var/folders/42/4grwdj956wxfq8phsmjtnjdm0000gn/T/ipykernel_9933/4154394782.py:10: SettingWithCopyWarning: \n",
      "A value is trying to be set on a copy of a slice from a DataFrame.\n",
      "Try using .loc[row_indexer,col_indexer] = value instead\n",
      "\n",
      "See the caveats in the documentation: https://pandas.pydata.org/pandas-docs/stable/user_guide/indexing.html#returning-a-view-versus-a-copy\n",
      "  data['ts_amplitude'] = pd.to_numeric(data['ts_amplitude'])\n",
      "/var/folders/42/4grwdj956wxfq8phsmjtnjdm0000gn/T/ipykernel_9933/4154394782.py:11: SettingWithCopyWarning: \n",
      "A value is trying to be set on a copy of a slice from a DataFrame.\n",
      "Try using .loc[row_indexer,col_indexer] = value instead\n",
      "\n",
      "See the caveats in the documentation: https://pandas.pydata.org/pandas-docs/stable/user_guide/indexing.html#returning-a-view-versus-a-copy\n",
      "  data['ndvi'] = pd.to_numeric(data['ndvi'])\n",
      "/var/folders/42/4grwdj956wxfq8phsmjtnjdm0000gn/T/ipykernel_9933/4154394782.py:12: SettingWithCopyWarning: \n",
      "A value is trying to be set on a copy of a slice from a DataFrame.\n",
      "Try using .loc[row_indexer,col_indexer] = value instead\n",
      "\n",
      "See the caveats in the documentation: https://pandas.pydata.org/pandas-docs/stable/user_guide/indexing.html#returning-a-view-versus-a-copy\n",
      "  data['lmd_soilWetness'] = pd.to_numeric(data['lmd_soilWetness'])\n"
     ]
    }
   ],
   "source": [
    "thefile = '../../../DATA/TPdata_199301'\n",
    "orig_data = pd.read_csv(thefile, sep='\\t', header=None)\n",
    "orig_data.columns = [\"cellNr\", \"latitude\", \"longitude\", \"backscatter\",\"emissivity_v\",\"emissivity_h\",\"ts_amplitude\",\"ndvi\",\"lmd_soilWetness\"]\n",
    "orig_data = orig_data.replace('   NaN',pd.NA)\n",
    "data = orig_data.iloc[::5,:]\n",
    "test_data = orig_data.iloc[1::5]\n",
    "data['backscatter'] = pd.to_numeric(data['backscatter'])\n",
    "data['emissivity_v'] = pd.to_numeric(data['emissivity_v'])\n",
    "data['emissivity_h'] = pd.to_numeric(data['emissivity_h'])\n",
    "data['ts_amplitude'] = pd.to_numeric(data['ts_amplitude'])\n",
    "data['ndvi'] = pd.to_numeric(data['ndvi'])\n",
    "data['lmd_soilWetness'] = pd.to_numeric(data['lmd_soilWetness'])\n",
    "data = data.dropna()\n",
    "test_data = test_data.dropna()\n",
    "data = data.iloc[0:len(test_data)]"
   ]
  },
  {
   "cell_type": "code",
   "execution_count": 6,
   "metadata": {},
   "outputs": [
    {
     "data": {
      "text/plain": [
       "8895"
      ]
     },
     "execution_count": 6,
     "metadata": {},
     "output_type": "execute_result"
    }
   ],
   "source": [
    "len(data)"
   ]
  },
  {
   "cell_type": "code",
   "execution_count": 8,
   "metadata": {},
   "outputs": [
    {
     "data": {
      "text/plain": [
       "8895"
      ]
     },
     "execution_count": 8,
     "metadata": {},
     "output_type": "execute_result"
    }
   ],
   "source": [
    "len(test_data)"
   ]
  },
  {
   "cell_type": "code",
   "execution_count": 10,
   "metadata": {},
   "outputs": [],
   "source": [
    "thres = len(data)"
   ]
  },
  {
   "cell_type": "code",
   "execution_count": 12,
   "metadata": {},
   "outputs": [],
   "source": [
    "back = data['backscatter'].values[0:thres]\n",
    "lats = data['latitude'].values[0:thres]\n",
    "lons = data['longitude'].values[0:thres]\n",
    "emissivity_v = data['emissivity_v'].values[0:thres]\n",
    "emissivity_h = data['emissivity_h'].values[0:thres]\n",
    "ts_amplitude = data['ts_amplitude'].values[0:thres]\n",
    "ndvi = data['ndvi'].values[0:thres]\n",
    "lmd_soilWetness = data['lmd_soilWetness'].values[0:thres]"
   ]
  },
  {
   "cell_type": "markdown",
   "metadata": {},
   "source": [
    "## Neural Network"
   ]
  },
  {
   "cell_type": "code",
   "execution_count": 15,
   "metadata": {},
   "outputs": [],
   "source": [
    "class SimpleNN(nn.Module):\n",
    "    def __init__(self):\n",
    "        super(SimpleNN, self).__init__()\n",
    "        self.fc1 = nn.Linear(5,thres)  \n",
    "        self.fc2 = nn.Linear(thres,1)  \n",
    "\n",
    "    def forward(self, x):\n",
    "        x = torch.relu(self.fc1(x))  \n",
    "        x = self.fc2(x)               \n",
    "        return x"
   ]
  },
  {
   "cell_type": "code",
   "execution_count": 17,
   "metadata": {},
   "outputs": [
    {
     "ename": "AxisError",
     "evalue": "axis 1 is out of bounds for array of dimension 1",
     "output_type": "error",
     "traceback": [
      "\u001b[0;31m---------------------------------------------------------------------------\u001b[0m",
      "\u001b[0;31mAxisError\u001b[0m                                 Traceback (most recent call last)",
      "Cell \u001b[0;32mIn[17], line 3\u001b[0m\n\u001b[1;32m      1\u001b[0m \u001b[38;5;66;03m# alles = np.stack((back,emissivity_v,emissivity_h,ts_amplitude,ndvi),axis=1)\u001b[39;00m\n\u001b[1;32m      2\u001b[0m \u001b[38;5;66;03m# alles = np.stack((back,ts_amplitude,ndvi),axis=1)\u001b[39;00m\n\u001b[0;32m----> 3\u001b[0m alles \u001b[38;5;241m=\u001b[39m np\u001b[38;5;241m.\u001b[39mstack((ts_amplitude),axis\u001b[38;5;241m=\u001b[39m\u001b[38;5;241m1\u001b[39m)\n",
      "File \u001b[0;32m/opt/anaconda3/lib/python3.12/site-packages/numpy/core/shape_base.py:452\u001b[0m, in \u001b[0;36mstack\u001b[0;34m(arrays, axis, out, dtype, casting)\u001b[0m\n\u001b[1;32m    449\u001b[0m     \u001b[38;5;28;01mraise\u001b[39;00m \u001b[38;5;167;01mValueError\u001b[39;00m(\u001b[38;5;124m'\u001b[39m\u001b[38;5;124mall input arrays must have the same shape\u001b[39m\u001b[38;5;124m'\u001b[39m)\n\u001b[1;32m    451\u001b[0m result_ndim \u001b[38;5;241m=\u001b[39m arrays[\u001b[38;5;241m0\u001b[39m]\u001b[38;5;241m.\u001b[39mndim \u001b[38;5;241m+\u001b[39m \u001b[38;5;241m1\u001b[39m\n\u001b[0;32m--> 452\u001b[0m axis \u001b[38;5;241m=\u001b[39m normalize_axis_index(axis, result_ndim)\n\u001b[1;32m    454\u001b[0m sl \u001b[38;5;241m=\u001b[39m (\u001b[38;5;28mslice\u001b[39m(\u001b[38;5;28;01mNone\u001b[39;00m),) \u001b[38;5;241m*\u001b[39m axis \u001b[38;5;241m+\u001b[39m (_nx\u001b[38;5;241m.\u001b[39mnewaxis,)\n\u001b[1;32m    455\u001b[0m expanded_arrays \u001b[38;5;241m=\u001b[39m [arr[sl] \u001b[38;5;28;01mfor\u001b[39;00m arr \u001b[38;5;129;01min\u001b[39;00m arrays]\n",
      "\u001b[0;31mAxisError\u001b[0m: axis 1 is out of bounds for array of dimension 1"
     ]
    }
   ],
   "source": [
    "alles = np.stack((back,emissivity_v,emissivity_h,ts_amplitude,ndvi),axis=1)\n",
    "# alles = np.stack((back,ts_amplitude,ndvi),axis=1)\n",
    "# alles = np.stack((ts_amplitude),axis=1)"
   ]
  },
  {
   "cell_type": "code",
   "execution_count": 19,
   "metadata": {},
   "outputs": [],
   "source": [
    "X_train = torch.tensor(alles).to(torch.float32)\n",
    "y_train = torch.tensor(lmd_soilWetness).to(torch.float32)"
   ]
  },
  {
   "cell_type": "code",
   "execution_count": 21,
   "metadata": {},
   "outputs": [
    {
     "data": {
      "text/plain": [
       "torch.Size([8895, 1])"
      ]
     },
     "execution_count": 21,
     "metadata": {},
     "output_type": "execute_result"
    }
   ],
   "source": [
    "y_train = y_train[...,None]\n",
    "y_train.size()"
   ]
  },
  {
   "cell_type": "code",
   "execution_count": 23,
   "metadata": {},
   "outputs": [
    {
     "ename": "ValueError",
     "evalue": "optimizer got an empty parameter list",
     "output_type": "error",
     "traceback": [
      "\u001b[0;31m---------------------------------------------------------------------------\u001b[0m",
      "\u001b[0;31mValueError\u001b[0m                                Traceback (most recent call last)",
      "Cell \u001b[0;32mIn[23], line 3\u001b[0m\n\u001b[1;32m      1\u001b[0m model \u001b[38;5;241m=\u001b[39m SimpleNN()  \n\u001b[1;32m      2\u001b[0m criterion \u001b[38;5;241m=\u001b[39m nn\u001b[38;5;241m.\u001b[39mMSELoss()  \n\u001b[0;32m----> 3\u001b[0m optimizer \u001b[38;5;241m=\u001b[39m optim\u001b[38;5;241m.\u001b[39mSGD(model\u001b[38;5;241m.\u001b[39mparameters(), lr\u001b[38;5;241m=\u001b[39m\u001b[38;5;241m0.1\u001b[39m)\n",
      "File \u001b[0;32m/opt/anaconda3/lib/python3.12/site-packages/torch/optim/sgd.py:61\u001b[0m, in \u001b[0;36mSGD.__init__\u001b[0;34m(self, params, lr, momentum, dampening, weight_decay, nesterov, maximize, foreach, differentiable, fused)\u001b[0m\n\u001b[1;32m     59\u001b[0m \u001b[38;5;28;01mif\u001b[39;00m nesterov \u001b[38;5;129;01mand\u001b[39;00m (momentum \u001b[38;5;241m<\u001b[39m\u001b[38;5;241m=\u001b[39m \u001b[38;5;241m0\u001b[39m \u001b[38;5;129;01mor\u001b[39;00m dampening \u001b[38;5;241m!=\u001b[39m \u001b[38;5;241m0\u001b[39m):\n\u001b[1;32m     60\u001b[0m     \u001b[38;5;28;01mraise\u001b[39;00m \u001b[38;5;167;01mValueError\u001b[39;00m(\u001b[38;5;124m\"\u001b[39m\u001b[38;5;124mNesterov momentum requires a momentum and zero dampening\u001b[39m\u001b[38;5;124m\"\u001b[39m)\n\u001b[0;32m---> 61\u001b[0m \u001b[38;5;28msuper\u001b[39m()\u001b[38;5;241m.\u001b[39m\u001b[38;5;21m__init__\u001b[39m(params, defaults)\n\u001b[1;32m     63\u001b[0m \u001b[38;5;28;01mif\u001b[39;00m fused:\n\u001b[1;32m     64\u001b[0m     \u001b[38;5;28mself\u001b[39m\u001b[38;5;241m.\u001b[39m_step_supports_amp_scaling \u001b[38;5;241m=\u001b[39m \u001b[38;5;28;01mTrue\u001b[39;00m\n",
      "File \u001b[0;32m/opt/anaconda3/lib/python3.12/site-packages/torch/optim/optimizer.py:366\u001b[0m, in \u001b[0;36mOptimizer.__init__\u001b[0;34m(self, params, defaults)\u001b[0m\n\u001b[1;32m    364\u001b[0m param_groups \u001b[38;5;241m=\u001b[39m \u001b[38;5;28mlist\u001b[39m(params)\n\u001b[1;32m    365\u001b[0m \u001b[38;5;28;01mif\u001b[39;00m \u001b[38;5;28mlen\u001b[39m(param_groups) \u001b[38;5;241m==\u001b[39m \u001b[38;5;241m0\u001b[39m:\n\u001b[0;32m--> 366\u001b[0m     \u001b[38;5;28;01mraise\u001b[39;00m \u001b[38;5;167;01mValueError\u001b[39;00m(\u001b[38;5;124m\"\u001b[39m\u001b[38;5;124moptimizer got an empty parameter list\u001b[39m\u001b[38;5;124m\"\u001b[39m)\n\u001b[1;32m    367\u001b[0m \u001b[38;5;28;01mif\u001b[39;00m \u001b[38;5;129;01mnot\u001b[39;00m \u001b[38;5;28misinstance\u001b[39m(param_groups[\u001b[38;5;241m0\u001b[39m], \u001b[38;5;28mdict\u001b[39m):\n\u001b[1;32m    368\u001b[0m     param_groups \u001b[38;5;241m=\u001b[39m [{\u001b[38;5;124m\"\u001b[39m\u001b[38;5;124mparams\u001b[39m\u001b[38;5;124m\"\u001b[39m: param_groups}]\n",
      "\u001b[0;31mValueError\u001b[0m: optimizer got an empty parameter list"
     ]
    }
   ],
   "source": [
    "model = SimpleNN()  \n",
    "criterion = nn.MSELoss()  \n",
    "optimizer = optim.SGD(model.parameters(), lr=0.1)"
   ]
  },
  {
   "cell_type": "code",
   "execution_count": 25,
   "metadata": {},
   "outputs": [
    {
     "name": "stderr",
     "output_type": "stream",
     "text": [
      "/opt/anaconda3/lib/python3.12/site-packages/torch/nn/modules/loss.py:608: UserWarning: Using a target size (torch.Size([8895, 1])) that is different to the input size (torch.Size([8895, 2])). This will likely lead to incorrect results due to broadcasting. Please ensure they have the same size.\n",
      "  return F.mse_loss(input, target, reduction=self.reduction)\n"
     ]
    },
    {
     "ename": "NameError",
     "evalue": "name 'optimizer' is not defined",
     "output_type": "error",
     "traceback": [
      "\u001b[0;31m---------------------------------------------------------------------------\u001b[0m",
      "\u001b[0;31mNameError\u001b[0m                                 Traceback (most recent call last)",
      "Cell \u001b[0;32mIn[25], line 9\u001b[0m\n\u001b[1;32m      6\u001b[0m loss \u001b[38;5;241m=\u001b[39m criterion(outputs, y_train)  \n\u001b[1;32m      8\u001b[0m \u001b[38;5;66;03m# Backward pass and optimize\u001b[39;00m\n\u001b[0;32m----> 9\u001b[0m optimizer\u001b[38;5;241m.\u001b[39mzero_grad()  \n\u001b[1;32m     10\u001b[0m loss\u001b[38;5;241m.\u001b[39mbackward()  \n\u001b[1;32m     11\u001b[0m optimizer\u001b[38;5;241m.\u001b[39mstep()  \n",
      "\u001b[0;31mNameError\u001b[0m: name 'optimizer' is not defined"
     ]
    }
   ],
   "source": [
    "for epoch in range(100):  \n",
    "    model.train() \n",
    "\n",
    "    # Forward pass\n",
    "    outputs = model(X_train)\n",
    "    loss = criterion(outputs, y_train)  \n",
    "    \n",
    "    # Backward pass and optimize\n",
    "    optimizer.zero_grad()  \n",
    "    loss.backward()  \n",
    "    optimizer.step()  \n",
    "\n",
    "    if (epoch + 1) % 10 == 0:  \n",
    "        print(f'Epoch [{epoch + 1}/100], Loss: {loss.item():.4f}')"
   ]
  },
  {
   "cell_type": "markdown",
   "metadata": {},
   "source": [
    "## Performance of the Neural Network"
   ]
  },
  {
   "cell_type": "code",
   "execution_count": 75,
   "metadata": {},
   "outputs": [],
   "source": [
    "test_data['backscatter'] = pd.to_numeric(test_data['backscatter'])\n",
    "test_data['emissivity_v'] = pd.to_numeric(test_data['emissivity_v'])\n",
    "test_data['emissivity_h'] = pd.to_numeric(test_data['emissivity_h'])\n",
    "test_data['ts_amplitude'] = pd.to_numeric(test_data['ts_amplitude'])\n",
    "test_data['ndvi'] = pd.to_numeric(test_data['ndvi'])\n",
    "test_data['lmd_soilWetness'] = pd.to_numeric(test_data['lmd_soilWetness'])"
   ]
  },
  {
   "cell_type": "code",
   "execution_count": 77,
   "metadata": {},
   "outputs": [],
   "source": [
    "test_back = test_data['backscatter'].values[0:thres]\n",
    "test_lats = test_data['latitude'].values[0:thres]\n",
    "test_lons = test_data['longitude'].values[0:thres]\n",
    "test_emissivity_v = test_data['emissivity_v'].values[0:thres]\n",
    "test_emissivity_h = test_data['emissivity_h'].values[0:thres]\n",
    "test_ts_amplitude = test_data['ts_amplitude'].values[0:thres]\n",
    "test_ndvi = test_data['ndvi'].values[0:thres]\n",
    "test_lmd_soilWetness = test_data['lmd_soilWetness'].values[0:thres]"
   ]
  },
  {
   "cell_type": "code",
   "execution_count": 79,
   "metadata": {},
   "outputs": [],
   "source": [
    "test_alles = np.stack((test_ts_amplitude),axis=1)"
   ]
  },
  {
   "cell_type": "code",
   "execution_count": 81,
   "metadata": {},
   "outputs": [
    {
     "name": "stdout",
     "output_type": "stream",
     "text": [
      "Predictions:\n",
      "tensor([[0.4953],\n",
      "        [0.4953],\n",
      "        [0.4953],\n",
      "        ...,\n",
      "        [0.4953],\n",
      "        [0.4957],\n",
      "        [0.4972]])\n"
     ]
    }
   ],
   "source": [
    "model.eval()  \n",
    "with torch.no_grad(): \n",
    "    testing_data = torch.tensor(test_alles).to(torch.float32)\n",
    "    predictions = model(testing_data) \n",
    "    print(f'Predictions:\\n{predictions}')"
   ]
  },
  {
   "cell_type": "code",
   "execution_count": 83,
   "metadata": {},
   "outputs": [
    {
     "data": {
      "text/plain": [
       "14826"
      ]
     },
     "execution_count": 83,
     "metadata": {},
     "output_type": "execute_result"
    }
   ],
   "source": [
    "len(predictions)"
   ]
  },
  {
   "cell_type": "code",
   "execution_count": 85,
   "metadata": {},
   "outputs": [],
   "source": [
    "output = predictions.detach().cpu().numpy()"
   ]
  },
  {
   "cell_type": "code",
   "execution_count": 87,
   "metadata": {},
   "outputs": [
    {
     "data": {
      "text/plain": [
       "array([[0.49528915],\n",
       "       [0.49528915],\n",
       "       [0.49528915],\n",
       "       ...,\n",
       "       [0.49528915],\n",
       "       [0.49566406],\n",
       "       [0.4971537 ]], dtype=float32)"
      ]
     },
     "execution_count": 87,
     "metadata": {},
     "output_type": "execute_result"
    }
   ],
   "source": [
    "output"
   ]
  },
  {
   "cell_type": "code",
   "execution_count": 89,
   "metadata": {},
   "outputs": [
    {
     "data": {
      "text/plain": [
       "0.49524286"
      ]
     },
     "execution_count": 89,
     "metadata": {},
     "output_type": "execute_result"
    }
   ],
   "source": [
    "np.mean(output)"
   ]
  },
  {
   "cell_type": "code",
   "execution_count": 91,
   "metadata": {},
   "outputs": [],
   "source": [
    "test_data['NN']=output"
   ]
  },
  {
   "cell_type": "code",
   "execution_count": 93,
   "metadata": {},
   "outputs": [
    {
     "data": {
      "text/html": [
       "<div>\n",
       "<style scoped>\n",
       "    .dataframe tbody tr th:only-of-type {\n",
       "        vertical-align: middle;\n",
       "    }\n",
       "\n",
       "    .dataframe tbody tr th {\n",
       "        vertical-align: top;\n",
       "    }\n",
       "\n",
       "    .dataframe thead th {\n",
       "        text-align: right;\n",
       "    }\n",
       "</style>\n",
       "<table border=\"1\" class=\"dataframe\">\n",
       "  <thead>\n",
       "    <tr style=\"text-align: right;\">\n",
       "      <th></th>\n",
       "      <th>cellNr</th>\n",
       "      <th>latitude</th>\n",
       "      <th>longitude</th>\n",
       "      <th>backscatter</th>\n",
       "      <th>emissivity_v</th>\n",
       "      <th>emissivity_h</th>\n",
       "      <th>ts_amplitude</th>\n",
       "      <th>ndvi</th>\n",
       "      <th>lmd_soilWetness</th>\n",
       "      <th>NN</th>\n",
       "    </tr>\n",
       "  </thead>\n",
       "  <tbody>\n",
       "    <tr>\n",
       "      <th>63715</th>\n",
       "      <td>63716.0</td>\n",
       "      <td>-53.875</td>\n",
       "      <td>-71.0247</td>\n",
       "      <td>-11.7482</td>\n",
       "      <td>0.8083</td>\n",
       "      <td>0.6605</td>\n",
       "      <td>22.8432</td>\n",
       "      <td>0.4072</td>\n",
       "      <td>0.4771</td>\n",
       "      <td>0.495289</td>\n",
       "    </tr>\n",
       "    <tr>\n",
       "      <th>65425</th>\n",
       "      <td>65426.0</td>\n",
       "      <td>-53.375</td>\n",
       "      <td>-71.4552</td>\n",
       "      <td>-11.6666</td>\n",
       "      <td>0.8497</td>\n",
       "      <td>0.7343</td>\n",
       "      <td>24.4724</td>\n",
       "      <td>0.1540</td>\n",
       "      <td>0.5946</td>\n",
       "      <td>0.495289</td>\n",
       "    </tr>\n",
       "    <tr>\n",
       "      <th>68908</th>\n",
       "      <td>68909.0</td>\n",
       "      <td>-52.375</td>\n",
       "      <td>-71.0580</td>\n",
       "      <td>-16.3849</td>\n",
       "      <td>0.9428</td>\n",
       "      <td>0.8842</td>\n",
       "      <td>39.3991</td>\n",
       "      <td>0.4233</td>\n",
       "      <td>0.4172</td>\n",
       "      <td>0.495289</td>\n",
       "    </tr>\n",
       "    <tr>\n",
       "      <th>70678</th>\n",
       "      <td>70679.0</td>\n",
       "      <td>-51.875</td>\n",
       "      <td>-71.4736</td>\n",
       "      <td>-17.0347</td>\n",
       "      <td>0.9955</td>\n",
       "      <td>0.9738</td>\n",
       "      <td>40.4082</td>\n",
       "      <td>0.2735</td>\n",
       "      <td>0.4525</td>\n",
       "      <td>0.495289</td>\n",
       "    </tr>\n",
       "    <tr>\n",
       "      <th>72469</th>\n",
       "      <td>72470.0</td>\n",
       "      <td>-51.375</td>\n",
       "      <td>-71.4794</td>\n",
       "      <td>-16.3452</td>\n",
       "      <td>0.9985</td>\n",
       "      <td>0.9626</td>\n",
       "      <td>38.2378</td>\n",
       "      <td>0.2382</td>\n",
       "      <td>0.3102</td>\n",
       "      <td>0.495289</td>\n",
       "    </tr>\n",
       "    <tr>\n",
       "      <th>...</th>\n",
       "      <td>...</td>\n",
       "      <td>...</td>\n",
       "      <td>...</td>\n",
       "      <td>...</td>\n",
       "      <td>...</td>\n",
       "      <td>...</td>\n",
       "      <td>...</td>\n",
       "      <td>...</td>\n",
       "      <td>...</td>\n",
       "      <td>...</td>\n",
       "    </tr>\n",
       "    <tr>\n",
       "      <th>591007</th>\n",
       "      <td>591008.0</td>\n",
       "      <td>52.375</td>\n",
       "      <td>8.8055</td>\n",
       "      <td>-9.3221</td>\n",
       "      <td>0.9626</td>\n",
       "      <td>0.9141</td>\n",
       "      <td>7.6106</td>\n",
       "      <td>0.1091</td>\n",
       "      <td>0.8527</td>\n",
       "      <td>0.495289</td>\n",
       "    </tr>\n",
       "    <tr>\n",
       "      <th>593602</th>\n",
       "      <td>593603.0</td>\n",
       "      <td>52.875</td>\n",
       "      <td>-2.2785</td>\n",
       "      <td>-8.8360</td>\n",
       "      <td>0.9654</td>\n",
       "      <td>0.9240</td>\n",
       "      <td>5.0904</td>\n",
       "      <td>0.4647</td>\n",
       "      <td>0.8322</td>\n",
       "      <td>0.495289</td>\n",
       "    </tr>\n",
       "    <tr>\n",
       "      <th>596164</th>\n",
       "      <td>596165.0</td>\n",
       "      <td>53.625</td>\n",
       "      <td>-8.6417</td>\n",
       "      <td>-10.2316</td>\n",
       "      <td>0.9603</td>\n",
       "      <td>0.9229</td>\n",
       "      <td>2.4066</td>\n",
       "      <td>0.6167</td>\n",
       "      <td>0.8831</td>\n",
       "      <td>0.495289</td>\n",
       "    </tr>\n",
       "    <tr>\n",
       "      <th>596851</th>\n",
       "      <td>596852.0</td>\n",
       "      <td>53.875</td>\n",
       "      <td>-77.3852</td>\n",
       "      <td>-12.0922</td>\n",
       "      <td>0.9724</td>\n",
       "      <td>0.8851</td>\n",
       "      <td>7.1683</td>\n",
       "      <td>0.0133</td>\n",
       "      <td>0.6129</td>\n",
       "      <td>0.495664</td>\n",
       "    </tr>\n",
       "    <tr>\n",
       "      <th>597727</th>\n",
       "      <td>597728.0</td>\n",
       "      <td>54.125</td>\n",
       "      <td>-64.1943</td>\n",
       "      <td>-11.1028</td>\n",
       "      <td>0.9802</td>\n",
       "      <td>0.8938</td>\n",
       "      <td>5.9767</td>\n",
       "      <td>0.0020</td>\n",
       "      <td>0.8028</td>\n",
       "      <td>0.497154</td>\n",
       "    </tr>\n",
       "  </tbody>\n",
       "</table>\n",
       "<p>14826 rows × 10 columns</p>\n",
       "</div>"
      ],
      "text/plain": [
       "          cellNr  latitude  longitude  backscatter  emissivity_v  \\\n",
       "63715    63716.0   -53.875   -71.0247     -11.7482        0.8083   \n",
       "65425    65426.0   -53.375   -71.4552     -11.6666        0.8497   \n",
       "68908    68909.0   -52.375   -71.0580     -16.3849        0.9428   \n",
       "70678    70679.0   -51.875   -71.4736     -17.0347        0.9955   \n",
       "72469    72470.0   -51.375   -71.4794     -16.3452        0.9985   \n",
       "...          ...       ...        ...          ...           ...   \n",
       "591007  591008.0    52.375     8.8055      -9.3221        0.9626   \n",
       "593602  593603.0    52.875    -2.2785      -8.8360        0.9654   \n",
       "596164  596165.0    53.625    -8.6417     -10.2316        0.9603   \n",
       "596851  596852.0    53.875   -77.3852     -12.0922        0.9724   \n",
       "597727  597728.0    54.125   -64.1943     -11.1028        0.9802   \n",
       "\n",
       "        emissivity_h  ts_amplitude    ndvi  lmd_soilWetness        NN  \n",
       "63715         0.6605       22.8432  0.4072           0.4771  0.495289  \n",
       "65425         0.7343       24.4724  0.1540           0.5946  0.495289  \n",
       "68908         0.8842       39.3991  0.4233           0.4172  0.495289  \n",
       "70678         0.9738       40.4082  0.2735           0.4525  0.495289  \n",
       "72469         0.9626       38.2378  0.2382           0.3102  0.495289  \n",
       "...              ...           ...     ...              ...       ...  \n",
       "591007        0.9141        7.6106  0.1091           0.8527  0.495289  \n",
       "593602        0.9240        5.0904  0.4647           0.8322  0.495289  \n",
       "596164        0.9229        2.4066  0.6167           0.8831  0.495289  \n",
       "596851        0.8851        7.1683  0.0133           0.6129  0.495664  \n",
       "597727        0.8938        5.9767  0.0020           0.8028  0.497154  \n",
       "\n",
       "[14826 rows x 10 columns]"
      ]
     },
     "execution_count": 93,
     "metadata": {},
     "output_type": "execute_result"
    }
   ],
   "source": [
    "test_data"
   ]
  },
  {
   "cell_type": "code",
   "execution_count": 95,
   "metadata": {},
   "outputs": [],
   "source": [
    "# lats = test_data['latitude'].values[0:thres]\n",
    "# lons = test_data['longitude'].values[0:thres]\n",
    "# Yi = np.linspace(np.min(lats.data),float(np.max(lats.data)),180)\n",
    "# Xi = np.linspace(np.min(lons.data),float(np.max(lons.data)),360)\n",
    "# X, Y = np.meshgrid(Xi,Yi)\n",
    "# points = list(zip(lons, lats))\n",
    "# test_SM = griddata(points, output, (X, Y), method='nearest')"
   ]
  },
  {
   "cell_type": "code",
   "execution_count": 97,
   "metadata": {},
   "outputs": [
    {
     "data": {
      "text/plain": [
       "(-90.0, 90.0)"
      ]
     },
     "execution_count": 97,
     "metadata": {},
     "output_type": "execute_result"
    },
    {
     "data": {
      "image/png": "[encoded data removed]",
      "text/plain": [
       "<Figure size 1000x500 with 2 Axes>"
      ]
     },
     "metadata": {},
     "output_type": "display_data"
    }
   ],
   "source": [
    "fig,ax = pl.subplots(figsize=(10, 5))\n",
    "mesh = ax.scatter(test_data['longitude'],test_data['latitude'],c=test_data['NN'],s=1, cmap='terrain_r', vmin=0, vmax=1);\n",
    "cbar = pl.colorbar(mesh, ax=ax, shrink=.5, pad=.02, aspect=10)\n",
    "ax.set_ylim(-90,90)"
   ]
  },
  {
   "cell_type": "code",
   "execution_count": null,
   "metadata": {},
   "outputs": [],
   "source": []
  }
 ],
 "metadata": {
  "kernelspec": {
   "display_name": "Python [conda env:base] *",
   "language": "python",
   "name": "conda-base-py"
  },
  "language_info": {
   "codemirror_mode": {
    "name": "ipython",
    "version": 3
   },
   "file_extension": ".py",
   "mimetype": "text/x-python",
   "name": "python",
   "nbconvert_exporter": "python",
   "pygments_lexer": "ipython3",
   "version": "3.12.7"
  }
 },
 "nbformat": 4,
 "nbformat_minor": 4
}
