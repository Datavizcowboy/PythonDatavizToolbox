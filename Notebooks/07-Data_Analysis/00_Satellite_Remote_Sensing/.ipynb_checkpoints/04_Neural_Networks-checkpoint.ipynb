{
 "cells": [
  {
   "cell_type": "markdown",
   "metadata": {},
   "source": [
    "# Neural Networks retrieval on the Satellite Observations Dataset"
   ]
  },
  {
   "cell_type": "markdown",
   "metadata": {},
   "source": [
    "In this final step we develop a model to estimate soil moisture using neural networks"
   ]
  },
  {
   "cell_type": "markdown",
   "metadata": {},
   "source": [
    "Libraries we need are imported first"
   ]
  },
  {
   "cell_type": "code",
   "execution_count": 1,
   "metadata": {},
   "outputs": [],
   "source": [
    "import numpy as np\n",
    "import pandas as pd\n",
    "import matplotlib.pyplot as pl\n",
    "import xarray as xr\n",
    "from scipy.interpolate import griddata\n",
    "from scipy import interpolate\n",
    "import statsmodels.api as sm\n",
    "\n",
    "import torch\n",
    "from torch import nn, optim\n",
    "from torch.optim import SGD\n",
    "from torch.utils.data import Dataset, DataLoader\n",
    "\n",
    "# from torch.optim import RMSprop\n",
    "# from torch.utils.data import TensorDataset\n",
    "# from torchmetrics import (MeanAbsoluteError, R2Score)\n",
    "# # from torchinfo import summary\n",
    "# from torchvision.io import read_image\n",
    "# from pytorch_lightning import Trainer\n",
    "# from pytorch_lightning.loggers import CSVLogger"
   ]
  },
  {
   "cell_type": "markdown",
   "metadata": {},
   "source": [
    "Data used in this exercise is stored in the DATA folder"
   ]
  },
  {
   "cell_type": "code",
   "execution_count": 4,
   "metadata": {},
   "outputs": [
    {
     "name": "stderr",
     "output_type": "stream",
     "text": [
      "/var/folders/42/4grwdj956wxfq8phsmjtnjdm0000gn/T/ipykernel_29015/14476055.py:7: SettingWithCopyWarning: \n",
      "A value is trying to be set on a copy of a slice from a DataFrame.\n",
      "Try using .loc[row_indexer,col_indexer] = value instead\n",
      "\n",
      "See the caveats in the documentation: https://pandas.pydata.org/pandas-docs/stable/user_guide/indexing.html#returning-a-view-versus-a-copy\n",
      "  data['backscatter'] = pd.to_numeric(data['backscatter'])\n",
      "/var/folders/42/4grwdj956wxfq8phsmjtnjdm0000gn/T/ipykernel_29015/14476055.py:8: SettingWithCopyWarning: \n",
      "A value is trying to be set on a copy of a slice from a DataFrame.\n",
      "Try using .loc[row_indexer,col_indexer] = value instead\n",
      "\n",
      "See the caveats in the documentation: https://pandas.pydata.org/pandas-docs/stable/user_guide/indexing.html#returning-a-view-versus-a-copy\n",
      "  data['emissivity_v'] = pd.to_numeric(data['emissivity_v'])\n",
      "/var/folders/42/4grwdj956wxfq8phsmjtnjdm0000gn/T/ipykernel_29015/14476055.py:9: SettingWithCopyWarning: \n",
      "A value is trying to be set on a copy of a slice from a DataFrame.\n",
      "Try using .loc[row_indexer,col_indexer] = value instead\n",
      "\n",
      "See the caveats in the documentation: https://pandas.pydata.org/pandas-docs/stable/user_guide/indexing.html#returning-a-view-versus-a-copy\n",
      "  data['emissivity_h'] = pd.to_numeric(data['emissivity_h'])\n",
      "/var/folders/42/4grwdj956wxfq8phsmjtnjdm0000gn/T/ipykernel_29015/14476055.py:10: SettingWithCopyWarning: \n",
      "A value is trying to be set on a copy of a slice from a DataFrame.\n",
      "Try using .loc[row_indexer,col_indexer] = value instead\n",
      "\n",
      "See the caveats in the documentation: https://pandas.pydata.org/pandas-docs/stable/user_guide/indexing.html#returning-a-view-versus-a-copy\n",
      "  data['ts_amplitude'] = pd.to_numeric(data['ts_amplitude'])\n",
      "/var/folders/42/4grwdj956wxfq8phsmjtnjdm0000gn/T/ipykernel_29015/14476055.py:11: SettingWithCopyWarning: \n",
      "A value is trying to be set on a copy of a slice from a DataFrame.\n",
      "Try using .loc[row_indexer,col_indexer] = value instead\n",
      "\n",
      "See the caveats in the documentation: https://pandas.pydata.org/pandas-docs/stable/user_guide/indexing.html#returning-a-view-versus-a-copy\n",
      "  data['ndvi'] = pd.to_numeric(data['ndvi'])\n",
      "/var/folders/42/4grwdj956wxfq8phsmjtnjdm0000gn/T/ipykernel_29015/14476055.py:12: SettingWithCopyWarning: \n",
      "A value is trying to be set on a copy of a slice from a DataFrame.\n",
      "Try using .loc[row_indexer,col_indexer] = value instead\n",
      "\n",
      "See the caveats in the documentation: https://pandas.pydata.org/pandas-docs/stable/user_guide/indexing.html#returning-a-view-versus-a-copy\n",
      "  data['lmd_soilWetness'] = pd.to_numeric(data['lmd_soilWetness'])\n"
     ]
    }
   ],
   "source": [
    "thefile = '../../../DATA/TPdata_199301'\n",
    "orig_data = pd.read_csv(thefile, sep='\\t', header=None)\n",
    "orig_data.columns = [\"cellNr\", \"latitude\", \"longitude\", \"backscatter\",\"emissivity_v\",\"emissivity_h\",\"ts_amplitude\",\"ndvi\",\"lmd_soilWetness\"]\n",
    "orig_data = orig_data.replace('   NaN',pd.NA)\n",
    "data = orig_data.iloc[::5,:]\n",
    "test_data = orig_data.iloc[1::5,:]\n",
    "data['backscatter'] = pd.to_numeric(data['backscatter'])\n",
    "data['emissivity_v'] = pd.to_numeric(data['emissivity_v'])\n",
    "data['emissivity_h'] = pd.to_numeric(data['emissivity_h'])\n",
    "data['ts_amplitude'] = pd.to_numeric(data['ts_amplitude'])\n",
    "data['ndvi'] = pd.to_numeric(data['ndvi'])\n",
    "data['lmd_soilWetness'] = pd.to_numeric(data['lmd_soilWetness'])\n",
    "data = data.dropna()\n",
    "test_data = test_data.dropna()\n",
    "data = data.iloc[0:len(test_data),:]"
   ]
  },
  {
   "cell_type": "code",
   "execution_count": 6,
   "metadata": {},
   "outputs": [
    {
     "data": {
      "text/plain": [
       "8895"
      ]
     },
     "execution_count": 6,
     "metadata": {},
     "output_type": "execute_result"
    }
   ],
   "source": [
    "len(data)"
   ]
  },
  {
   "cell_type": "code",
   "execution_count": 8,
   "metadata": {},
   "outputs": [
    {
     "data": {
      "text/plain": [
       "8895"
      ]
     },
     "execution_count": 8,
     "metadata": {},
     "output_type": "execute_result"
    }
   ],
   "source": [
    "len(test_data)"
   ]
  },
  {
   "cell_type": "code",
   "execution_count": 10,
   "metadata": {},
   "outputs": [],
   "source": [
    "thres = len(data)"
   ]
  },
  {
   "cell_type": "code",
   "execution_count": 12,
   "metadata": {},
   "outputs": [
    {
     "data": {
      "text/plain": [
       "63715    -53.875\n",
       "65425    -53.375\n",
       "74280    -50.875\n",
       "77960    -49.875\n",
       "79830    -49.375\n",
       "           ...  \n",
       "560670    44.375\n",
       "561355    44.625\n",
       "561360    44.625\n",
       "561365    44.625\n",
       "561695    44.625\n",
       "Name: latitude, Length: 8895, dtype: float64"
      ]
     },
     "execution_count": 12,
     "metadata": {},
     "output_type": "execute_result"
    }
   ],
   "source": [
    "lati = data['latitude']\n",
    "loni = data['longitude']\n",
    "lati"
   ]
  },
  {
   "cell_type": "code",
   "execution_count": 14,
   "metadata": {},
   "outputs": [
    {
     "data": {
      "text/html": [
       "<div>\n",
       "<style scoped>\n",
       "    .dataframe tbody tr th:only-of-type {\n",
       "        vertical-align: middle;\n",
       "    }\n",
       "\n",
       "    .dataframe tbody tr th {\n",
       "        vertical-align: top;\n",
       "    }\n",
       "\n",
       "    .dataframe thead th {\n",
       "        text-align: right;\n",
       "    }\n",
       "</style>\n",
       "<table border=\"1\" class=\"dataframe\">\n",
       "  <thead>\n",
       "    <tr style=\"text-align: right;\">\n",
       "      <th></th>\n",
       "      <th>cellNr</th>\n",
       "      <th>latitude</th>\n",
       "      <th>longitude</th>\n",
       "      <th>backscatter</th>\n",
       "      <th>emissivity_v</th>\n",
       "      <th>emissivity_h</th>\n",
       "      <th>ts_amplitude</th>\n",
       "      <th>ndvi</th>\n",
       "      <th>lmd_soilWetness</th>\n",
       "    </tr>\n",
       "  </thead>\n",
       "  <tbody>\n",
       "    <tr>\n",
       "      <th>63715</th>\n",
       "      <td>0.000000</td>\n",
       "      <td>0.000000</td>\n",
       "      <td>0.185092</td>\n",
       "      <td>0.717867</td>\n",
       "      <td>0.139022</td>\n",
       "      <td>0.132536</td>\n",
       "      <td>0.352327</td>\n",
       "      <td>0.522423</td>\n",
       "      <td>0.354859</td>\n",
       "    </tr>\n",
       "    <tr>\n",
       "      <th>65425</th>\n",
       "      <td>0.003434</td>\n",
       "      <td>0.005076</td>\n",
       "      <td>0.183518</td>\n",
       "      <td>0.721724</td>\n",
       "      <td>0.304888</td>\n",
       "      <td>0.324324</td>\n",
       "      <td>0.379937</td>\n",
       "      <td>0.208746</td>\n",
       "      <td>0.499385</td>\n",
       "    </tr>\n",
       "    <tr>\n",
       "      <th>74280</th>\n",
       "      <td>0.021216</td>\n",
       "      <td>0.030457</td>\n",
       "      <td>0.183409</td>\n",
       "      <td>0.546394</td>\n",
       "      <td>0.859375</td>\n",
       "      <td>0.863565</td>\n",
       "      <td>0.534384</td>\n",
       "      <td>0.296829</td>\n",
       "      <td>0.032718</td>\n",
       "    </tr>\n",
       "    <tr>\n",
       "      <th>77960</th>\n",
       "      <td>0.028606</td>\n",
       "      <td>0.040609</td>\n",
       "      <td>0.184505</td>\n",
       "      <td>0.606038</td>\n",
       "      <td>0.830128</td>\n",
       "      <td>0.832380</td>\n",
       "      <td>0.632077</td>\n",
       "      <td>0.274034</td>\n",
       "      <td>0.029520</td>\n",
       "    </tr>\n",
       "    <tr>\n",
       "      <th>79830</th>\n",
       "      <td>0.032361</td>\n",
       "      <td>0.045685</td>\n",
       "      <td>0.185876</td>\n",
       "      <td>0.607938</td>\n",
       "      <td>0.810897</td>\n",
       "      <td>0.799116</td>\n",
       "      <td>0.722824</td>\n",
       "      <td>0.172448</td>\n",
       "      <td>0.034194</td>\n",
       "    </tr>\n",
       "    <tr>\n",
       "      <th>...</th>\n",
       "      <td>...</td>\n",
       "      <td>...</td>\n",
       "      <td>...</td>\n",
       "      <td>...</td>\n",
       "      <td>...</td>\n",
       "      <td>...</td>\n",
       "      <td>...</td>\n",
       "      <td>...</td>\n",
       "      <td>...</td>\n",
       "    </tr>\n",
       "    <tr>\n",
       "      <th>560670</th>\n",
       "      <td>0.997942</td>\n",
       "      <td>0.997462</td>\n",
       "      <td>0.886734</td>\n",
       "      <td>0.402461</td>\n",
       "      <td>0.931490</td>\n",
       "      <td>0.859407</td>\n",
       "      <td>0.343179</td>\n",
       "      <td>0.224727</td>\n",
       "      <td>0.055228</td>\n",
       "    </tr>\n",
       "    <tr>\n",
       "      <th>561355</th>\n",
       "      <td>0.999317</td>\n",
       "      <td>1.000000</td>\n",
       "      <td>0.446706</td>\n",
       "      <td>0.799070</td>\n",
       "      <td>0.786859</td>\n",
       "      <td>0.888254</td>\n",
       "      <td>0.162160</td>\n",
       "      <td>0.623513</td>\n",
       "      <td>0.772817</td>\n",
       "    </tr>\n",
       "    <tr>\n",
       "      <th>561360</th>\n",
       "      <td>0.999327</td>\n",
       "      <td>1.000000</td>\n",
       "      <td>0.453127</td>\n",
       "      <td>0.752746</td>\n",
       "      <td>0.822516</td>\n",
       "      <td>0.925936</td>\n",
       "      <td>0.167739</td>\n",
       "      <td>0.553147</td>\n",
       "      <td>0.782780</td>\n",
       "    </tr>\n",
       "    <tr>\n",
       "      <th>561365</th>\n",
       "      <td>0.999337</td>\n",
       "      <td>1.000000</td>\n",
       "      <td>0.459548</td>\n",
       "      <td>0.750269</td>\n",
       "      <td>0.801683</td>\n",
       "      <td>0.899428</td>\n",
       "      <td>0.151387</td>\n",
       "      <td>0.558598</td>\n",
       "      <td>0.636654</td>\n",
       "    </tr>\n",
       "    <tr>\n",
       "      <th>561695</th>\n",
       "      <td>1.000000</td>\n",
       "      <td>1.000000</td>\n",
       "      <td>0.883322</td>\n",
       "      <td>0.522207</td>\n",
       "      <td>0.891026</td>\n",
       "      <td>0.869023</td>\n",
       "      <td>0.355457</td>\n",
       "      <td>0.253964</td>\n",
       "      <td>0.012423</td>\n",
       "    </tr>\n",
       "  </tbody>\n",
       "</table>\n",
       "<p>8895 rows × 9 columns</p>\n",
       "</div>"
      ],
      "text/plain": [
       "          cellNr  latitude  longitude  backscatter  emissivity_v  \\\n",
       "63715   0.000000  0.000000   0.185092     0.717867      0.139022   \n",
       "65425   0.003434  0.005076   0.183518     0.721724      0.304888   \n",
       "74280   0.021216  0.030457   0.183409     0.546394      0.859375   \n",
       "77960   0.028606  0.040609   0.184505     0.606038      0.830128   \n",
       "79830   0.032361  0.045685   0.185876     0.607938      0.810897   \n",
       "...          ...       ...        ...          ...           ...   \n",
       "560670  0.997942  0.997462   0.886734     0.402461      0.931490   \n",
       "561355  0.999317  1.000000   0.446706     0.799070      0.786859   \n",
       "561360  0.999327  1.000000   0.453127     0.752746      0.822516   \n",
       "561365  0.999337  1.000000   0.459548     0.750269      0.801683   \n",
       "561695  1.000000  1.000000   0.883322     0.522207      0.891026   \n",
       "\n",
       "        emissivity_h  ts_amplitude      ndvi  lmd_soilWetness  \n",
       "63715       0.132536      0.352327  0.522423         0.354859  \n",
       "65425       0.324324      0.379937  0.208746         0.499385  \n",
       "74280       0.863565      0.534384  0.296829         0.032718  \n",
       "77960       0.832380      0.632077  0.274034         0.029520  \n",
       "79830       0.799116      0.722824  0.172448         0.034194  \n",
       "...              ...           ...       ...              ...  \n",
       "560670      0.859407      0.343179  0.224727         0.055228  \n",
       "561355      0.888254      0.162160  0.623513         0.772817  \n",
       "561360      0.925936      0.167739  0.553147         0.782780  \n",
       "561365      0.899428      0.151387  0.558598         0.636654  \n",
       "561695      0.869023      0.355457  0.253964         0.012423  \n",
       "\n",
       "[8895 rows x 9 columns]"
      ]
     },
     "execution_count": 14,
     "metadata": {},
     "output_type": "execute_result"
    }
   ],
   "source": [
    "normalized_data=(data-data.min())/(data.max()-data.min())\n",
    "data = normalized_data\n",
    "data"
   ]
  },
  {
   "cell_type": "code",
   "execution_count": 16,
   "metadata": {},
   "outputs": [],
   "source": [
    "back = data['backscatter'].values[0:thres]\n",
    "lats = data['latitude'].values[0:thres]\n",
    "lons = data['longitude'].values[0:thres]\n",
    "emissivity_v = data['emissivity_v'].values[0:thres]\n",
    "emissivity_h = data['emissivity_h'].values[0:thres]\n",
    "ts_amplitude = data['ts_amplitude'].values[0:thres]\n",
    "ndvi = data['ndvi'].values[0:thres]\n",
    "lmd_soilWetness = data['lmd_soilWetness'].values[0:thres]"
   ]
  },
  {
   "cell_type": "markdown",
   "metadata": {},
   "source": [
    "## Neural Network"
   ]
  },
  {
   "cell_type": "code",
   "execution_count": 19,
   "metadata": {},
   "outputs": [],
   "source": [
    "hidden=thres"
   ]
  },
  {
   "cell_type": "code",
   "execution_count": 21,
   "metadata": {},
   "outputs": [],
   "source": [
    "class SimpleNN(nn.Module):\n",
    "    def __init__(self):\n",
    "        super(SimpleNN, self).__init__()\n",
    "        self.fc1 = nn.Linear(5,hidden)  \n",
    "        # self.tanh = nn.Tanh()  \n",
    "        self.fc2 = nn.Linear(hidden,1)  \n",
    "\n",
    "    def forward(self, x):\n",
    "        # x = self.fc1(x) \n",
    "        x = torch.relu(self.fc1(x)) \n",
    "        # x = self.tanh(x)\n",
    "        x = self.fc2(x)               \n",
    "        return x"
   ]
  },
  {
   "cell_type": "code",
   "execution_count": 23,
   "metadata": {},
   "outputs": [],
   "source": [
    "alles = np.stack((back,emissivity_v,emissivity_h,ts_amplitude,ndvi),axis=1)\n",
    "# alles = np.stack((back,ts_amplitude,ndvi),axis=1)\n",
    "# alles = np.stack((ts_amplitude),axis=1)"
   ]
  },
  {
   "cell_type": "code",
   "execution_count": 25,
   "metadata": {},
   "outputs": [
    {
     "data": {
      "text/plain": [
       "array([[0.71786666, 0.13902244, 0.13253638, 0.3523269 , 0.52242319],\n",
       "       [0.7217238 , 0.30488782, 0.32432432, 0.37993686, 0.20874628],\n",
       "       [0.54639434, 0.859375  , 0.86356549, 0.5343845 , 0.29682854],\n",
       "       ...,\n",
       "       [0.75274632, 0.82251603, 0.92593555, 0.16773913, 0.55314668],\n",
       "       [0.75026943, 0.80168269, 0.89942827, 0.15138702, 0.55859762],\n",
       "       [0.52220689, 0.89102564, 0.86902287, 0.355457  , 0.25396432]])"
      ]
     },
     "execution_count": 25,
     "metadata": {},
     "output_type": "execute_result"
    }
   ],
   "source": [
    "alles"
   ]
  },
  {
   "cell_type": "code",
   "execution_count": 27,
   "metadata": {},
   "outputs": [],
   "source": [
    "X_train = torch.tensor(alles).to(torch.float32)\n",
    "y_train = torch.tensor(lmd_soilWetness).to(torch.float32)\n",
    "y_train = y_train[...,None]"
   ]
  },
  {
   "cell_type": "code",
   "execution_count": 29,
   "metadata": {},
   "outputs": [
    {
     "data": {
      "text/plain": [
       "tensor([[0.3549],\n",
       "        [0.4994],\n",
       "        [0.0327],\n",
       "        ...,\n",
       "        [0.7828],\n",
       "        [0.6367],\n",
       "        [0.0124]])"
      ]
     },
     "execution_count": 29,
     "metadata": {},
     "output_type": "execute_result"
    }
   ],
   "source": [
    "y_train"
   ]
  },
  {
   "cell_type": "markdown",
   "metadata": {},
   "source": [
    "DataLoader"
   ]
  },
  {
   "cell_type": "code",
   "execution_count": 32,
   "metadata": {
    "scrolled": true
   },
   "outputs": [
    {
     "name": "stdout",
     "output_type": "stream",
     "text": [
      "Batch Data: tensor([[0.3129, 0.8782, 0.6167, 0.3360, 0.1459],\n",
      "        [0.2047, 0.8954, 0.6383, 0.4761, 0.0814],\n",
      "        [0.8546, 0.7877, 0.9135, 0.2654, 0.5320],\n",
      "        ...,\n",
      "        [0.7885, 0.7324, 0.6892, 0.4128, 0.1396],\n",
      "        [0.8105, 0.7035, 0.8303, 0.3457, 0.8017],\n",
      "        [0.5840, 0.8385, 0.6546, 0.4665, 0.1292]])\n",
      "Batch Labels: tensor([[0.0668],\n",
      "        [0.3271],\n",
      "        [0.7945],\n",
      "        ...,\n",
      "        [0.4194],\n",
      "        [0.2134],\n",
      "        [0.1758]])\n"
     ]
    }
   ],
   "source": [
    "class MyDataset(Dataset):\n",
    "    def __init__(self):\n",
    "        self.data = X_train\n",
    "        self.labels = y_train\n",
    "\n",
    "    def __len__(self):\n",
    "        return len(self.data)\n",
    "\n",
    "    def __getitem__(self, idx):\n",
    "        return self.data[idx], self.labels[idx]\n",
    "\n",
    "dataset = MyDataset()\n",
    "dataloader = DataLoader(dataset, batch_size=thres, shuffle=True)\n",
    "\n",
    "for batch in dataloader:\n",
    "    print(\"Batch Data:\", batch[0])  \n",
    "    print(\"Batch Labels:\", batch[1])"
   ]
  },
  {
   "cell_type": "code",
   "execution_count": 34,
   "metadata": {},
   "outputs": [],
   "source": [
    "model = SimpleNN()  \n",
    "criterion = nn.MSELoss()  \n",
    "optimizer = optim.SGD(model.parameters(), lr=0.1)\n",
    "iter=0"
   ]
  },
  {
   "cell_type": "code",
   "execution_count": 36,
   "metadata": {},
   "outputs": [],
   "source": [
    "# for epoch in range(100):  \n",
    "#     model.train() \n",
    "\n",
    "#     # Forward pass\n",
    "#     outputs = model(X_train)\n",
    "#     loss = criterion(outputs, y_train)  \n",
    "    \n",
    "#     # Backward pass and optimize\n",
    "#     optimizer.zero_grad()  \n",
    "#     loss.backward()  \n",
    "#     optimizer.step()  \n",
    "\n",
    "#     if (epoch + 1) % 10 == 0:  \n",
    "#         print(f'Epoch [{epoch + 1}/100], Loss: {loss.item():.4f}')"
   ]
  },
  {
   "cell_type": "code",
   "execution_count": 38,
   "metadata": {},
   "outputs": [
    {
     "name": "stdout",
     "output_type": "stream",
     "text": [
      "Epoch [100/100], Loss: 0.0838\n"
     ]
    }
   ],
   "source": [
    "for epoch in range(100):  \n",
    "  for inputs, labels in dataloader:\n",
    "    model.train() \n",
    "\n",
    "    # Forward pass\n",
    "    outputs = model(inputs)\n",
    "    loss = criterion(outputs, labels)  \n",
    "    \n",
    "    # Backward pass and optimize\n",
    "    optimizer.zero_grad()  \n",
    "    loss.backward()  \n",
    "    optimizer.step()  \n",
    "\n",
    "if (epoch + 1) % 10 == 0:  \n",
    "        print(f'Epoch [{epoch + 1}/100], Loss: {loss.item():.4f}')"
   ]
  },
  {
   "cell_type": "markdown",
   "metadata": {},
   "source": [
    "## Performance of the Neural Network"
   ]
  },
  {
   "cell_type": "code",
   "execution_count": 41,
   "metadata": {},
   "outputs": [
    {
     "data": {
      "text/html": [
       "<div>\n",
       "<style scoped>\n",
       "    .dataframe tbody tr th:only-of-type {\n",
       "        vertical-align: middle;\n",
       "    }\n",
       "\n",
       "    .dataframe tbody tr th {\n",
       "        vertical-align: top;\n",
       "    }\n",
       "\n",
       "    .dataframe thead th {\n",
       "        text-align: right;\n",
       "    }\n",
       "</style>\n",
       "<table border=\"1\" class=\"dataframe\">\n",
       "  <thead>\n",
       "    <tr style=\"text-align: right;\">\n",
       "      <th></th>\n",
       "      <th>cellNr</th>\n",
       "      <th>latitude</th>\n",
       "      <th>longitude</th>\n",
       "      <th>backscatter</th>\n",
       "      <th>emissivity_v</th>\n",
       "      <th>emissivity_h</th>\n",
       "      <th>ts_amplitude</th>\n",
       "      <th>ndvi</th>\n",
       "      <th>lmd_soilWetness</th>\n",
       "    </tr>\n",
       "  </thead>\n",
       "  <tbody>\n",
       "    <tr>\n",
       "      <th>74276</th>\n",
       "      <td>74277.0</td>\n",
       "      <td>-50.875</td>\n",
       "      <td>-73.0693</td>\n",
       "      <td>-11.4033</td>\n",
       "      <td>0.9364</td>\n",
       "      <td>0.8869</td>\n",
       "      <td>30.1807</td>\n",
       "      <td>0.3415</td>\n",
       "      <td>0.5781</td>\n",
       "    </tr>\n",
       "    <tr>\n",
       "      <th>74281</th>\n",
       "      <td>74282.0</td>\n",
       "      <td>-50.875</td>\n",
       "      <td>-71.0891</td>\n",
       "      <td>-14.6431</td>\n",
       "      <td>0.9981</td>\n",
       "      <td>0.9542</td>\n",
       "      <td>32.4869</td>\n",
       "      <td>0.2000</td>\n",
       "      <td>0.2076</td>\n",
       "    </tr>\n",
       "    <tr>\n",
       "      <th>76111</th>\n",
       "      <td>76112.0</td>\n",
       "      <td>-50.375</td>\n",
       "      <td>-71.1765</td>\n",
       "      <td>-14.3510</td>\n",
       "      <td>0.9829</td>\n",
       "      <td>0.9368</td>\n",
       "      <td>37.5393</td>\n",
       "      <td>0.1720</td>\n",
       "      <td>0.2062</td>\n",
       "    </tr>\n",
       "    <tr>\n",
       "      <th>77956</th>\n",
       "      <td>77957.0</td>\n",
       "      <td>-49.875</td>\n",
       "      <td>-72.7371</td>\n",
       "      <td>-13.7268</td>\n",
       "      <td>0.8999</td>\n",
       "      <td>0.8123</td>\n",
       "      <td>35.4797</td>\n",
       "      <td>0.1320</td>\n",
       "      <td>0.4314</td>\n",
       "    </tr>\n",
       "    <tr>\n",
       "      <th>79831</th>\n",
       "      <td>79832.0</td>\n",
       "      <td>-49.375</td>\n",
       "      <td>-70.4264</td>\n",
       "      <td>-14.4097</td>\n",
       "      <td>0.9796</td>\n",
       "      <td>0.9214</td>\n",
       "      <td>42.6025</td>\n",
       "      <td>0.1312</td>\n",
       "      <td>0.2093</td>\n",
       "    </tr>\n",
       "    <tr>\n",
       "      <th>...</th>\n",
       "      <td>...</td>\n",
       "      <td>...</td>\n",
       "      <td>...</td>\n",
       "      <td>...</td>\n",
       "      <td>...</td>\n",
       "      <td>...</td>\n",
       "      <td>...</td>\n",
       "      <td>...</td>\n",
       "      <td>...</td>\n",
       "    </tr>\n",
       "    <tr>\n",
       "      <th>589236</th>\n",
       "      <td>589237.0</td>\n",
       "      <td>51.875</td>\n",
       "      <td>9.5163</td>\n",
       "      <td>-8.9858</td>\n",
       "      <td>0.9642</td>\n",
       "      <td>0.9250</td>\n",
       "      <td>6.8976</td>\n",
       "      <td>0.1731</td>\n",
       "      <td>0.8494</td>\n",
       "    </tr>\n",
       "    <tr>\n",
       "      <th>590096</th>\n",
       "      <td>590097.0</td>\n",
       "      <td>51.875</td>\n",
       "      <td>-2.2272</td>\n",
       "      <td>-8.9367</td>\n",
       "      <td>0.9529</td>\n",
       "      <td>0.9077</td>\n",
       "      <td>5.4218</td>\n",
       "      <td>0.4087</td>\n",
       "      <td>0.8407</td>\n",
       "    </tr>\n",
       "    <tr>\n",
       "      <th>591006</th>\n",
       "      <td>591007.0</td>\n",
       "      <td>52.375</td>\n",
       "      <td>8.3959</td>\n",
       "      <td>-9.7867</td>\n",
       "      <td>0.9619</td>\n",
       "      <td>0.9122</td>\n",
       "      <td>12.1349</td>\n",
       "      <td>0.1273</td>\n",
       "      <td>0.6934</td>\n",
       "    </tr>\n",
       "    <tr>\n",
       "      <th>593601</th>\n",
       "      <td>593602.0</td>\n",
       "      <td>52.875</td>\n",
       "      <td>-2.6928</td>\n",
       "      <td>-9.3162</td>\n",
       "      <td>0.9663</td>\n",
       "      <td>0.9267</td>\n",
       "      <td>4.3450</td>\n",
       "      <td>0.4691</td>\n",
       "      <td>0.8262</td>\n",
       "    </tr>\n",
       "    <tr>\n",
       "      <th>596851</th>\n",
       "      <td>596852.0</td>\n",
       "      <td>53.875</td>\n",
       "      <td>-77.3852</td>\n",
       "      <td>-12.0922</td>\n",
       "      <td>0.9724</td>\n",
       "      <td>0.8851</td>\n",
       "      <td>7.1683</td>\n",
       "      <td>0.0133</td>\n",
       "      <td>0.6129</td>\n",
       "    </tr>\n",
       "  </tbody>\n",
       "</table>\n",
       "<p>8895 rows × 9 columns</p>\n",
       "</div>"
      ],
      "text/plain": [
       "          cellNr  latitude  longitude backscatter emissivity_v emissivity_h  \\\n",
       "74276    74277.0   -50.875   -73.0693    -11.4033       0.9364       0.8869   \n",
       "74281    74282.0   -50.875   -71.0891    -14.6431       0.9981       0.9542   \n",
       "76111    76112.0   -50.375   -71.1765    -14.3510       0.9829       0.9368   \n",
       "77956    77957.0   -49.875   -72.7371    -13.7268       0.8999       0.8123   \n",
       "79831    79832.0   -49.375   -70.4264    -14.4097       0.9796       0.9214   \n",
       "...          ...       ...        ...         ...          ...          ...   \n",
       "589236  589237.0    51.875     9.5163     -8.9858       0.9642       0.9250   \n",
       "590096  590097.0    51.875    -2.2272     -8.9367       0.9529       0.9077   \n",
       "591006  591007.0    52.375     8.3959     -9.7867       0.9619       0.9122   \n",
       "593601  593602.0    52.875    -2.6928     -9.3162       0.9663       0.9267   \n",
       "596851  596852.0    53.875   -77.3852    -12.0922       0.9724       0.8851   \n",
       "\n",
       "       ts_amplitude    ndvi lmd_soilWetness  \n",
       "74276       30.1807  0.3415          0.5781  \n",
       "74281       32.4869  0.2000          0.2076  \n",
       "76111       37.5393  0.1720          0.2062  \n",
       "77956       35.4797  0.1320          0.4314  \n",
       "79831       42.6025  0.1312          0.2093  \n",
       "...             ...     ...             ...  \n",
       "589236       6.8976  0.1731          0.8494  \n",
       "590096       5.4218  0.4087          0.8407  \n",
       "591006      12.1349  0.1273          0.6934  \n",
       "593601       4.3450  0.4691          0.8262  \n",
       "596851       7.1683  0.0133          0.6129  \n",
       "\n",
       "[8895 rows x 9 columns]"
      ]
     },
     "execution_count": 41,
     "metadata": {},
     "output_type": "execute_result"
    }
   ],
   "source": [
    "test_data"
   ]
  },
  {
   "cell_type": "code",
   "execution_count": 43,
   "metadata": {},
   "outputs": [],
   "source": [
    "test_data['backscatter'] = pd.to_numeric(test_data['backscatter'])\n",
    "test_data['emissivity_v'] = pd.to_numeric(test_data['emissivity_v'])\n",
    "test_data['emissivity_h'] = pd.to_numeric(test_data['emissivity_h'])\n",
    "test_data['ts_amplitude'] = pd.to_numeric(test_data['ts_amplitude'])\n",
    "test_data['ndvi'] = pd.to_numeric(test_data['ndvi'])\n",
    "test_data['lmd_soilWetness'] = pd.to_numeric(test_data['lmd_soilWetness'])"
   ]
  },
  {
   "cell_type": "code",
   "execution_count": 45,
   "metadata": {},
   "outputs": [
    {
     "data": {
      "text/html": [
       "<div>\n",
       "<style scoped>\n",
       "    .dataframe tbody tr th:only-of-type {\n",
       "        vertical-align: middle;\n",
       "    }\n",
       "\n",
       "    .dataframe tbody tr th {\n",
       "        vertical-align: top;\n",
       "    }\n",
       "\n",
       "    .dataframe thead th {\n",
       "        text-align: right;\n",
       "    }\n",
       "</style>\n",
       "<table border=\"1\" class=\"dataframe\">\n",
       "  <thead>\n",
       "    <tr style=\"text-align: right;\">\n",
       "      <th></th>\n",
       "      <th>cellNr</th>\n",
       "      <th>latitude</th>\n",
       "      <th>longitude</th>\n",
       "      <th>backscatter</th>\n",
       "      <th>emissivity_v</th>\n",
       "      <th>emissivity_h</th>\n",
       "      <th>ts_amplitude</th>\n",
       "      <th>ndvi</th>\n",
       "      <th>lmd_soilWetness</th>\n",
       "    </tr>\n",
       "  </thead>\n",
       "  <tbody>\n",
       "    <tr>\n",
       "      <th>74276</th>\n",
       "      <td>0.000000</td>\n",
       "      <td>0.000000</td>\n",
       "      <td>0.157800</td>\n",
       "      <td>0.748464</td>\n",
       "      <td>0.672288</td>\n",
       "      <td>0.779654</td>\n",
       "      <td>0.476764</td>\n",
       "      <td>0.439295</td>\n",
       "      <td>0.479439</td>\n",
       "    </tr>\n",
       "    <tr>\n",
       "      <th>74281</th>\n",
       "      <td>0.000010</td>\n",
       "      <td>0.000000</td>\n",
       "      <td>0.164509</td>\n",
       "      <td>0.588593</td>\n",
       "      <td>0.908777</td>\n",
       "      <td>0.923488</td>\n",
       "      <td>0.516000</td>\n",
       "      <td>0.261083</td>\n",
       "      <td>0.023270</td>\n",
       "    </tr>\n",
       "    <tr>\n",
       "      <th>76111</th>\n",
       "      <td>0.003511</td>\n",
       "      <td>0.004773</td>\n",
       "      <td>0.164213</td>\n",
       "      <td>0.603007</td>\n",
       "      <td>0.850517</td>\n",
       "      <td>0.886300</td>\n",
       "      <td>0.601960</td>\n",
       "      <td>0.225819</td>\n",
       "      <td>0.021546</td>\n",
       "    </tr>\n",
       "    <tr>\n",
       "      <th>77956</th>\n",
       "      <td>0.007042</td>\n",
       "      <td>0.009547</td>\n",
       "      <td>0.158925</td>\n",
       "      <td>0.633809</td>\n",
       "      <td>0.532388</td>\n",
       "      <td>0.620218</td>\n",
       "      <td>0.566919</td>\n",
       "      <td>0.175441</td>\n",
       "      <td>0.298818</td>\n",
       "    </tr>\n",
       "    <tr>\n",
       "      <th>79831</th>\n",
       "      <td>0.010630</td>\n",
       "      <td>0.014320</td>\n",
       "      <td>0.166754</td>\n",
       "      <td>0.600111</td>\n",
       "      <td>0.837869</td>\n",
       "      <td>0.853387</td>\n",
       "      <td>0.688103</td>\n",
       "      <td>0.174433</td>\n",
       "      <td>0.025363</td>\n",
       "    </tr>\n",
       "    <tr>\n",
       "      <th>...</th>\n",
       "      <td>...</td>\n",
       "      <td>...</td>\n",
       "      <td>...</td>\n",
       "      <td>...</td>\n",
       "      <td>...</td>\n",
       "      <td>...</td>\n",
       "      <td>...</td>\n",
       "      <td>...</td>\n",
       "      <td>...</td>\n",
       "    </tr>\n",
       "    <tr>\n",
       "      <th>589236</th>\n",
       "      <td>0.985428</td>\n",
       "      <td>0.980907</td>\n",
       "      <td>0.437611</td>\n",
       "      <td>0.867758</td>\n",
       "      <td>0.778842</td>\n",
       "      <td>0.861081</td>\n",
       "      <td>0.080634</td>\n",
       "      <td>0.227204</td>\n",
       "      <td>0.813470</td>\n",
       "    </tr>\n",
       "    <tr>\n",
       "      <th>590096</th>\n",
       "      <td>0.987074</td>\n",
       "      <td>0.980907</td>\n",
       "      <td>0.397822</td>\n",
       "      <td>0.870181</td>\n",
       "      <td>0.735531</td>\n",
       "      <td>0.824108</td>\n",
       "      <td>0.055526</td>\n",
       "      <td>0.523929</td>\n",
       "      <td>0.802758</td>\n",
       "    </tr>\n",
       "    <tr>\n",
       "      <th>591006</th>\n",
       "      <td>0.988815</td>\n",
       "      <td>0.985680</td>\n",
       "      <td>0.433815</td>\n",
       "      <td>0.828237</td>\n",
       "      <td>0.770027</td>\n",
       "      <td>0.833725</td>\n",
       "      <td>0.169740</td>\n",
       "      <td>0.169521</td>\n",
       "      <td>0.621399</td>\n",
       "    </tr>\n",
       "    <tr>\n",
       "      <th>593601</th>\n",
       "      <td>0.993781</td>\n",
       "      <td>0.990453</td>\n",
       "      <td>0.396245</td>\n",
       "      <td>0.851454</td>\n",
       "      <td>0.786892</td>\n",
       "      <td>0.864715</td>\n",
       "      <td>0.037205</td>\n",
       "      <td>0.600000</td>\n",
       "      <td>0.784905</td>\n",
       "    </tr>\n",
       "    <tr>\n",
       "      <th>596851</th>\n",
       "      <td>1.000000</td>\n",
       "      <td>1.000000</td>\n",
       "      <td>0.143177</td>\n",
       "      <td>0.714470</td>\n",
       "      <td>0.810272</td>\n",
       "      <td>0.775807</td>\n",
       "      <td>0.085240</td>\n",
       "      <td>0.025945</td>\n",
       "      <td>0.522285</td>\n",
       "    </tr>\n",
       "  </tbody>\n",
       "</table>\n",
       "<p>8895 rows × 9 columns</p>\n",
       "</div>"
      ],
      "text/plain": [
       "          cellNr  latitude  longitude  backscatter  emissivity_v  \\\n",
       "74276   0.000000  0.000000   0.157800     0.748464      0.672288   \n",
       "74281   0.000010  0.000000   0.164509     0.588593      0.908777   \n",
       "76111   0.003511  0.004773   0.164213     0.603007      0.850517   \n",
       "77956   0.007042  0.009547   0.158925     0.633809      0.532388   \n",
       "79831   0.010630  0.014320   0.166754     0.600111      0.837869   \n",
       "...          ...       ...        ...          ...           ...   \n",
       "589236  0.985428  0.980907   0.437611     0.867758      0.778842   \n",
       "590096  0.987074  0.980907   0.397822     0.870181      0.735531   \n",
       "591006  0.988815  0.985680   0.433815     0.828237      0.770027   \n",
       "593601  0.993781  0.990453   0.396245     0.851454      0.786892   \n",
       "596851  1.000000  1.000000   0.143177     0.714470      0.810272   \n",
       "\n",
       "        emissivity_h  ts_amplitude      ndvi  lmd_soilWetness  \n",
       "74276       0.779654      0.476764  0.439295         0.479439  \n",
       "74281       0.923488      0.516000  0.261083         0.023270  \n",
       "76111       0.886300      0.601960  0.225819         0.021546  \n",
       "77956       0.620218      0.566919  0.175441         0.298818  \n",
       "79831       0.853387      0.688103  0.174433         0.025363  \n",
       "...              ...           ...       ...              ...  \n",
       "589236      0.861081      0.080634  0.227204         0.813470  \n",
       "590096      0.824108      0.055526  0.523929         0.802758  \n",
       "591006      0.833725      0.169740  0.169521         0.621399  \n",
       "593601      0.864715      0.037205  0.600000         0.784905  \n",
       "596851      0.775807      0.085240  0.025945         0.522285  \n",
       "\n",
       "[8895 rows x 9 columns]"
      ]
     },
     "execution_count": 45,
     "metadata": {},
     "output_type": "execute_result"
    }
   ],
   "source": [
    "test_normalized_data=(test_data-test_data.min())/(test_data.max()-test_data.min())\n",
    "test_data = test_normalized_data\n",
    "test_data"
   ]
  },
  {
   "cell_type": "code",
   "execution_count": 47,
   "metadata": {},
   "outputs": [],
   "source": [
    "test_back = test_data['backscatter'].values[0:thres]\n",
    "test_lats = test_data['latitude'].values[0:thres]\n",
    "test_lons = test_data['longitude'].values[0:thres]\n",
    "test_emissivity_v = test_data['emissivity_v'].values[0:thres]\n",
    "test_emissivity_h = test_data['emissivity_h'].values[0:thres]\n",
    "test_ts_amplitude = test_data['ts_amplitude'].values[0:thres]\n",
    "test_ndvi = test_data['ndvi'].values[0:thres]\n",
    "test_lmd_soilWetness = test_data['lmd_soilWetness'].values[0:thres]"
   ]
  },
  {
   "cell_type": "code",
   "execution_count": 49,
   "metadata": {},
   "outputs": [],
   "source": [
    "test_alles = np.stack((test_back,test_emissivity_v,test_emissivity_h,test_ts_amplitude,test_ndvi),axis=1)"
   ]
  },
  {
   "cell_type": "code",
   "execution_count": 51,
   "metadata": {},
   "outputs": [
    {
     "data": {
      "text/plain": [
       "array([[0.74846411, 0.67228823, 0.77965377, 0.47676367, 0.43929471],\n",
       "       [0.5885932 , 0.90877731, 0.92348792, 0.51600044, 0.26108312],\n",
       "       [0.60300714, 0.85051744, 0.88630049, 0.60195997, 0.22581864],\n",
       "       ...,\n",
       "       [0.82823672, 0.77002683, 0.83372515, 0.16973961, 0.16952141],\n",
       "       [0.85145398, 0.78689153, 0.86471468, 0.03720535, 0.6       ],\n",
       "       [0.7144697 , 0.81027213, 0.7758068 , 0.08523985, 0.02594458]])"
      ]
     },
     "execution_count": 51,
     "metadata": {},
     "output_type": "execute_result"
    }
   ],
   "source": [
    "test_alles"
   ]
  },
  {
   "cell_type": "code",
   "execution_count": 53,
   "metadata": {},
   "outputs": [
    {
     "name": "stdout",
     "output_type": "stream",
     "text": [
      "Predictions:\n",
      "tensor([[0.3770],\n",
      "        [0.3770],\n",
      "        [0.3770],\n",
      "        ...,\n",
      "        [0.3775],\n",
      "        [0.3770],\n",
      "        [0.1614]])\n"
     ]
    }
   ],
   "source": [
    "model.eval()  \n",
    "with torch.no_grad(): \n",
    "    testing_data = torch.tensor(test_alles).to(torch.float32)\n",
    "    predictions = model(testing_data) \n",
    "    print(f'Predictions:\\n{predictions}')"
   ]
  },
  {
   "cell_type": "code",
   "execution_count": 55,
   "metadata": {},
   "outputs": [
    {
     "data": {
      "text/plain": [
       "8895"
      ]
     },
     "execution_count": 55,
     "metadata": {},
     "output_type": "execute_result"
    }
   ],
   "source": [
    "len(predictions)"
   ]
  },
  {
   "cell_type": "code",
   "execution_count": 57,
   "metadata": {},
   "outputs": [],
   "source": [
    "output = predictions.detach().cpu().numpy()"
   ]
  },
  {
   "cell_type": "code",
   "execution_count": 59,
   "metadata": {},
   "outputs": [
    {
     "data": {
      "text/plain": [
       "array([[0.37696624],\n",
       "       [0.37696624],\n",
       "       [0.37696624],\n",
       "       ...,\n",
       "       [0.37745997],\n",
       "       [0.37696624],\n",
       "       [0.16142678]], dtype=float32)"
      ]
     },
     "execution_count": 59,
     "metadata": {},
     "output_type": "execute_result"
    }
   ],
   "source": [
    "output"
   ]
  },
  {
   "cell_type": "code",
   "execution_count": 61,
   "metadata": {},
   "outputs": [
    {
     "data": {
      "text/plain": [
       "0.3768384"
      ]
     },
     "execution_count": 61,
     "metadata": {},
     "output_type": "execute_result"
    }
   ],
   "source": [
    "np.mean(output)"
   ]
  },
  {
   "cell_type": "code",
   "execution_count": 63,
   "metadata": {},
   "outputs": [],
   "source": [
    "test_data['NN']=output"
   ]
  },
  {
   "cell_type": "code",
   "execution_count": 65,
   "metadata": {},
   "outputs": [
    {
     "data": {
      "text/html": [
       "<div>\n",
       "<style scoped>\n",
       "    .dataframe tbody tr th:only-of-type {\n",
       "        vertical-align: middle;\n",
       "    }\n",
       "\n",
       "    .dataframe tbody tr th {\n",
       "        vertical-align: top;\n",
       "    }\n",
       "\n",
       "    .dataframe thead th {\n",
       "        text-align: right;\n",
       "    }\n",
       "</style>\n",
       "<table border=\"1\" class=\"dataframe\">\n",
       "  <thead>\n",
       "    <tr style=\"text-align: right;\">\n",
       "      <th></th>\n",
       "      <th>cellNr</th>\n",
       "      <th>latitude</th>\n",
       "      <th>longitude</th>\n",
       "      <th>backscatter</th>\n",
       "      <th>emissivity_v</th>\n",
       "      <th>emissivity_h</th>\n",
       "      <th>ts_amplitude</th>\n",
       "      <th>ndvi</th>\n",
       "      <th>lmd_soilWetness</th>\n",
       "      <th>NN</th>\n",
       "    </tr>\n",
       "  </thead>\n",
       "  <tbody>\n",
       "    <tr>\n",
       "      <th>74276</th>\n",
       "      <td>0.000000</td>\n",
       "      <td>0.000000</td>\n",
       "      <td>0.157800</td>\n",
       "      <td>0.748464</td>\n",
       "      <td>0.672288</td>\n",
       "      <td>0.779654</td>\n",
       "      <td>0.476764</td>\n",
       "      <td>0.439295</td>\n",
       "      <td>0.479439</td>\n",
       "      <td>0.376966</td>\n",
       "    </tr>\n",
       "    <tr>\n",
       "      <th>74281</th>\n",
       "      <td>0.000010</td>\n",
       "      <td>0.000000</td>\n",
       "      <td>0.164509</td>\n",
       "      <td>0.588593</td>\n",
       "      <td>0.908777</td>\n",
       "      <td>0.923488</td>\n",
       "      <td>0.516000</td>\n",
       "      <td>0.261083</td>\n",
       "      <td>0.023270</td>\n",
       "      <td>0.376966</td>\n",
       "    </tr>\n",
       "    <tr>\n",
       "      <th>76111</th>\n",
       "      <td>0.003511</td>\n",
       "      <td>0.004773</td>\n",
       "      <td>0.164213</td>\n",
       "      <td>0.603007</td>\n",
       "      <td>0.850517</td>\n",
       "      <td>0.886300</td>\n",
       "      <td>0.601960</td>\n",
       "      <td>0.225819</td>\n",
       "      <td>0.021546</td>\n",
       "      <td>0.376966</td>\n",
       "    </tr>\n",
       "    <tr>\n",
       "      <th>77956</th>\n",
       "      <td>0.007042</td>\n",
       "      <td>0.009547</td>\n",
       "      <td>0.158925</td>\n",
       "      <td>0.633809</td>\n",
       "      <td>0.532388</td>\n",
       "      <td>0.620218</td>\n",
       "      <td>0.566919</td>\n",
       "      <td>0.175441</td>\n",
       "      <td>0.298818</td>\n",
       "      <td>0.376997</td>\n",
       "    </tr>\n",
       "    <tr>\n",
       "      <th>79831</th>\n",
       "      <td>0.010630</td>\n",
       "      <td>0.014320</td>\n",
       "      <td>0.166754</td>\n",
       "      <td>0.600111</td>\n",
       "      <td>0.837869</td>\n",
       "      <td>0.853387</td>\n",
       "      <td>0.688103</td>\n",
       "      <td>0.174433</td>\n",
       "      <td>0.025363</td>\n",
       "      <td>0.376966</td>\n",
       "    </tr>\n",
       "    <tr>\n",
       "      <th>...</th>\n",
       "      <td>...</td>\n",
       "      <td>...</td>\n",
       "      <td>...</td>\n",
       "      <td>...</td>\n",
       "      <td>...</td>\n",
       "      <td>...</td>\n",
       "      <td>...</td>\n",
       "      <td>...</td>\n",
       "      <td>...</td>\n",
       "      <td>...</td>\n",
       "    </tr>\n",
       "    <tr>\n",
       "      <th>589236</th>\n",
       "      <td>0.985428</td>\n",
       "      <td>0.980907</td>\n",
       "      <td>0.437611</td>\n",
       "      <td>0.867758</td>\n",
       "      <td>0.778842</td>\n",
       "      <td>0.861081</td>\n",
       "      <td>0.080634</td>\n",
       "      <td>0.227204</td>\n",
       "      <td>0.813470</td>\n",
       "      <td>0.382391</td>\n",
       "    </tr>\n",
       "    <tr>\n",
       "      <th>590096</th>\n",
       "      <td>0.987074</td>\n",
       "      <td>0.980907</td>\n",
       "      <td>0.397822</td>\n",
       "      <td>0.870181</td>\n",
       "      <td>0.735531</td>\n",
       "      <td>0.824108</td>\n",
       "      <td>0.055526</td>\n",
       "      <td>0.523929</td>\n",
       "      <td>0.802758</td>\n",
       "      <td>0.376966</td>\n",
       "    </tr>\n",
       "    <tr>\n",
       "      <th>591006</th>\n",
       "      <td>0.988815</td>\n",
       "      <td>0.985680</td>\n",
       "      <td>0.433815</td>\n",
       "      <td>0.828237</td>\n",
       "      <td>0.770027</td>\n",
       "      <td>0.833725</td>\n",
       "      <td>0.169740</td>\n",
       "      <td>0.169521</td>\n",
       "      <td>0.621399</td>\n",
       "      <td>0.377460</td>\n",
       "    </tr>\n",
       "    <tr>\n",
       "      <th>593601</th>\n",
       "      <td>0.993781</td>\n",
       "      <td>0.990453</td>\n",
       "      <td>0.396245</td>\n",
       "      <td>0.851454</td>\n",
       "      <td>0.786892</td>\n",
       "      <td>0.864715</td>\n",
       "      <td>0.037205</td>\n",
       "      <td>0.600000</td>\n",
       "      <td>0.784905</td>\n",
       "      <td>0.376966</td>\n",
       "    </tr>\n",
       "    <tr>\n",
       "      <th>596851</th>\n",
       "      <td>1.000000</td>\n",
       "      <td>1.000000</td>\n",
       "      <td>0.143177</td>\n",
       "      <td>0.714470</td>\n",
       "      <td>0.810272</td>\n",
       "      <td>0.775807</td>\n",
       "      <td>0.085240</td>\n",
       "      <td>0.025945</td>\n",
       "      <td>0.522285</td>\n",
       "      <td>0.161427</td>\n",
       "    </tr>\n",
       "  </tbody>\n",
       "</table>\n",
       "<p>8895 rows × 10 columns</p>\n",
       "</div>"
      ],
      "text/plain": [
       "          cellNr  latitude  longitude  backscatter  emissivity_v  \\\n",
       "74276   0.000000  0.000000   0.157800     0.748464      0.672288   \n",
       "74281   0.000010  0.000000   0.164509     0.588593      0.908777   \n",
       "76111   0.003511  0.004773   0.164213     0.603007      0.850517   \n",
       "77956   0.007042  0.009547   0.158925     0.633809      0.532388   \n",
       "79831   0.010630  0.014320   0.166754     0.600111      0.837869   \n",
       "...          ...       ...        ...          ...           ...   \n",
       "589236  0.985428  0.980907   0.437611     0.867758      0.778842   \n",
       "590096  0.987074  0.980907   0.397822     0.870181      0.735531   \n",
       "591006  0.988815  0.985680   0.433815     0.828237      0.770027   \n",
       "593601  0.993781  0.990453   0.396245     0.851454      0.786892   \n",
       "596851  1.000000  1.000000   0.143177     0.714470      0.810272   \n",
       "\n",
       "        emissivity_h  ts_amplitude      ndvi  lmd_soilWetness        NN  \n",
       "74276       0.779654      0.476764  0.439295         0.479439  0.376966  \n",
       "74281       0.923488      0.516000  0.261083         0.023270  0.376966  \n",
       "76111       0.886300      0.601960  0.225819         0.021546  0.376966  \n",
       "77956       0.620218      0.566919  0.175441         0.298818  0.376997  \n",
       "79831       0.853387      0.688103  0.174433         0.025363  0.376966  \n",
       "...              ...           ...       ...              ...       ...  \n",
       "589236      0.861081      0.080634  0.227204         0.813470  0.382391  \n",
       "590096      0.824108      0.055526  0.523929         0.802758  0.376966  \n",
       "591006      0.833725      0.169740  0.169521         0.621399  0.377460  \n",
       "593601      0.864715      0.037205  0.600000         0.784905  0.376966  \n",
       "596851      0.775807      0.085240  0.025945         0.522285  0.161427  \n",
       "\n",
       "[8895 rows x 10 columns]"
      ]
     },
     "execution_count": 65,
     "metadata": {},
     "output_type": "execute_result"
    }
   ],
   "source": [
    "test_data"
   ]
  },
  {
   "cell_type": "code",
   "execution_count": 67,
   "metadata": {},
   "outputs": [
    {
     "data": {
      "text/plain": [
       "(-90.0, 90.0)"
      ]
     },
     "execution_count": 67,
     "metadata": {},
     "output_type": "execute_result"
    },
    {
     "data": {
      "image/png": "[encoded data removed]",
      "text/plain": [
       "<Figure size 1000x500 with 2 Axes>"
      ]
     },
     "metadata": {},
     "output_type": "display_data"
    }
   ],
   "source": [
    "fig,ax = pl.subplots(figsize=(10, 5))\n",
    "mesh = ax.scatter(loni,lati,c=test_data['NN'],s=1, cmap='terrain_r', vmin=0, vmax=1);\n",
    "cbar = pl.colorbar(mesh, ax=ax, shrink=.5, pad=.02, aspect=10)\n",
    "ax.set_ylim(-90,90)"
   ]
  },
  {
   "cell_type": "code",
   "execution_count": null,
   "metadata": {},
   "outputs": [],
   "source": []
  }
 ],
 "metadata": {
  "kernelspec": {
   "display_name": "Python [conda env:base] *",
   "language": "python",
   "name": "conda-base-py"
  },
  "language_info": {
   "codemirror_mode": {
    "name": "ipython",
    "version": 3
   },
   "file_extension": ".py",
   "mimetype": "text/x-python",
   "name": "python",
   "nbconvert_exporter": "python",
   "pygments_lexer": "ipython3",
   "version": "3.12.7"
  }
 },
 "nbformat": 4,
 "nbformat_minor": 4
}
