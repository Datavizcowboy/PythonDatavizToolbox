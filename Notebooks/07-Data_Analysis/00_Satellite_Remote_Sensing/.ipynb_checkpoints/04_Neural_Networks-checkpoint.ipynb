{
 "cells": [
  {
   "cell_type": "markdown",
   "metadata": {},
   "source": [
    "# Neural Networks retrieval on the Satellite Observations Dataset"
   ]
  },
  {
   "cell_type": "markdown",
   "metadata": {},
   "source": [
    "In this final step we develop a model to estimate soil moisture using neural networks"
   ]
  },
  {
   "cell_type": "markdown",
   "metadata": {},
   "source": [
    "Libraries we need are imported first"
   ]
  },
  {
   "cell_type": "code",
   "execution_count": 1,
   "metadata": {},
   "outputs": [],
   "source": [
    "import numpy as np\n",
    "import pandas as pd\n",
    "import matplotlib.pyplot as pl\n",
    "import xarray as xr\n",
    "from scipy.interpolate import griddata\n",
    "from scipy import interpolate\n",
    "\n",
    "import torch\n",
    "from torch import nn, optim\n",
    "from torch.optim import SGD\n",
    "from torch.utils.data import Dataset, DataLoader"
   ]
  },
  {
   "cell_type": "markdown",
   "metadata": {},
   "source": [
    "Data used in this exercise is stored in the DATA folder"
   ]
  },
  {
   "cell_type": "code",
   "execution_count": 4,
   "metadata": {},
   "outputs": [],
   "source": [
    "thefile = '../../../DATA/TPdata_199301'\n",
    "orig_data = pd.read_csv(thefile, sep='\\t', header=None)\n",
    "orig_data.columns = [\"cellNr\", \"latitude\", \"longitude\", \"backscatter\",\"emissivity_v\",\"emissivity_h\",\"ts_amplitude\",\"ndvi\",\"lmd_soilWetness\"]\n",
    "orig_data = orig_data.replace('   NaN',pd.NA)\n",
    "data = orig_data\n",
    "test_data = orig_data\n",
    "data['backscatter'] = pd.to_numeric(data['backscatter'])\n",
    "data['emissivity_v'] = pd.to_numeric(data['emissivity_v'])\n",
    "data['emissivity_h'] = pd.to_numeric(data['emissivity_h'])\n",
    "data['ts_amplitude'] = pd.to_numeric(data['ts_amplitude'])\n",
    "data['ndvi'] = pd.to_numeric(data['ndvi'])\n",
    "data['lmd_soilWetness'] = pd.to_numeric(data['lmd_soilWetness'])\n",
    "data = data.dropna()\n",
    "test_data = test_data.dropna()\n",
    "data = data.iloc[::5,:]\n",
    "test_data = test_data.iloc[1::5,:]\n",
    "data = data.iloc[0:len(test_data),:]"
   ]
  },
  {
   "cell_type": "code",
   "execution_count": 6,
   "metadata": {},
   "outputs": [],
   "source": [
    "thres = len(test_data)"
   ]
  },
  {
   "cell_type": "code",
   "execution_count": 8,
   "metadata": {},
   "outputs": [],
   "source": [
    "lati = data['latitude']\n",
    "loni = data['longitude']"
   ]
  },
  {
   "cell_type": "code",
   "execution_count": 10,
   "metadata": {},
   "outputs": [],
   "source": [
    "normalized_data=(data-data.min())/(data.max()-data.min())\n",
    "data = normalized_data"
   ]
  },
  {
   "cell_type": "code",
   "execution_count": 12,
   "metadata": {},
   "outputs": [],
   "source": [
    "back = data['backscatter'].values[0:thres]\n",
    "lats = data['latitude'].values[0:thres]\n",
    "lons = data['longitude'].values[0:thres]\n",
    "emissivity_v = data['emissivity_v'].values[0:thres]\n",
    "emissivity_h = data['emissivity_h'].values[0:thres]\n",
    "ts_amplitude = data['ts_amplitude'].values[0:thres]\n",
    "ndvi = data['ndvi'].values[0:thres]\n",
    "lmd_soilWetness = data['lmd_soilWetness'].values[0:thres]"
   ]
  },
  {
   "cell_type": "markdown",
   "metadata": {},
   "source": [
    "## Neural Network"
   ]
  },
  {
   "cell_type": "code",
   "execution_count": 15,
   "metadata": {},
   "outputs": [],
   "source": [
    "hidden=thres"
   ]
  },
  {
   "cell_type": "code",
   "execution_count": 17,
   "metadata": {},
   "outputs": [],
   "source": [
    "class SimpleNN(nn.Module):\n",
    "    def __init__(self):\n",
    "        super(SimpleNN, self).__init__()\n",
    "        self.fc1 = nn.Linear(5,hidden)  \n",
    "        # self.tanh = nn.Tanh()  \n",
    "        self.fc2 = nn.Linear(hidden,1)  \n",
    "\n",
    "    def forward(self, x):\n",
    "        # x = self.fc1(x) \n",
    "        x = torch.relu(self.fc1(x)) \n",
    "        # x = self.tanh(x)\n",
    "        x = self.fc2(x)               \n",
    "        return x"
   ]
  },
  {
   "cell_type": "code",
   "execution_count": 19,
   "metadata": {},
   "outputs": [],
   "source": [
    "alles = np.stack((back,emissivity_v,emissivity_h,ts_amplitude,ndvi),axis=1)\n",
    "# alles = np.stack((back,ts_amplitude,ndvi),axis=1)\n",
    "# alles = np.stack((ts_amplitude),axis=1)"
   ]
  },
  {
   "cell_type": "code",
   "execution_count": 21,
   "metadata": {},
   "outputs": [],
   "source": [
    "X_train = torch.tensor(alles).to(torch.float32)\n",
    "y_train = torch.tensor(lmd_soilWetness).to(torch.float32)\n",
    "y_train = y_train[...,None]"
   ]
  },
  {
   "cell_type": "markdown",
   "metadata": {},
   "source": [
    "DataLoader"
   ]
  },
  {
   "cell_type": "code",
   "execution_count": 24,
   "metadata": {
    "scrolled": true
   },
   "outputs": [],
   "source": [
    "class MyDataset(Dataset):\n",
    "    def __init__(self):\n",
    "        self.data = X_train\n",
    "        self.labels = y_train\n",
    "\n",
    "    def __len__(self):\n",
    "        return len(self.data)\n",
    "\n",
    "    def __getitem__(self, idx):\n",
    "        return self.data[idx], self.labels[idx]\n",
    "\n",
    "dataset = MyDataset()\n",
    "dataloader = DataLoader(dataset, batch_size=10, shuffle=True)\n",
    "\n",
    "# for batch in dataloader:\n",
    "#     print(\"Batch Data:\", batch[0])  \n",
    "#     print(\"Batch Labels:\", batch[1])"
   ]
  },
  {
   "cell_type": "code",
   "execution_count": 26,
   "metadata": {},
   "outputs": [],
   "source": [
    "model = SimpleNN()  \n",
    "criterion = nn.MSELoss()  \n",
    "optimizer = optim.SGD(model.parameters(), lr=0.1)\n",
    "iter=0"
   ]
  },
  {
   "cell_type": "code",
   "execution_count": 28,
   "metadata": {},
   "outputs": [],
   "source": [
    "# for epoch in range(100):  \n",
    "#     model.train() \n",
    "\n",
    "#     # Forward pass\n",
    "#     outputs = model(X_train)\n",
    "#     loss = criterion(outputs, y_train)  \n",
    "    \n",
    "#     # Backward pass and optimize\n",
    "#     optimizer.zero_grad()  \n",
    "#     loss.backward()  \n",
    "#     optimizer.step()  \n",
    "\n",
    "#     if (epoch + 1) % 10 == 0:  \n",
    "#         print(f'Epoch [{epoch + 1}/100], Loss: {loss.item():.4f}')"
   ]
  },
  {
   "cell_type": "code",
   "execution_count": 30,
   "metadata": {},
   "outputs": [
    {
     "name": "stdout",
     "output_type": "stream",
     "text": [
      "Epoch [10/100], Loss: nan\n"
     ]
    },
    {
     "ename": "KeyboardInterrupt",
     "evalue": "",
     "output_type": "error",
     "traceback": [
      "\u001b[0;31m---------------------------------------------------------------------------\u001b[0m",
      "\u001b[0;31mKeyboardInterrupt\u001b[0m                         Traceback (most recent call last)",
      "Cell \u001b[0;32mIn[30], line 11\u001b[0m\n\u001b[1;32m      9\u001b[0m   \u001b[38;5;66;03m# Backward pass and optimize\u001b[39;00m\n\u001b[1;32m     10\u001b[0m   optimizer\u001b[38;5;241m.\u001b[39mzero_grad()  \n\u001b[0;32m---> 11\u001b[0m   loss\u001b[38;5;241m.\u001b[39mbackward()  \n\u001b[1;32m     12\u001b[0m   optimizer\u001b[38;5;241m.\u001b[39mstep()  \n\u001b[1;32m     14\u001b[0m \u001b[38;5;28;01mif\u001b[39;00m (epoch \u001b[38;5;241m+\u001b[39m \u001b[38;5;241m1\u001b[39m) \u001b[38;5;241m%\u001b[39m \u001b[38;5;241m10\u001b[39m \u001b[38;5;241m==\u001b[39m \u001b[38;5;241m0\u001b[39m:  \n",
      "File \u001b[0;32m/opt/anaconda3/lib/python3.12/site-packages/torch/_tensor.py:581\u001b[0m, in \u001b[0;36mTensor.backward\u001b[0;34m(self, gradient, retain_graph, create_graph, inputs)\u001b[0m\n\u001b[1;32m    571\u001b[0m \u001b[38;5;28;01mif\u001b[39;00m has_torch_function_unary(\u001b[38;5;28mself\u001b[39m):\n\u001b[1;32m    572\u001b[0m     \u001b[38;5;28;01mreturn\u001b[39;00m handle_torch_function(\n\u001b[1;32m    573\u001b[0m         Tensor\u001b[38;5;241m.\u001b[39mbackward,\n\u001b[1;32m    574\u001b[0m         (\u001b[38;5;28mself\u001b[39m,),\n\u001b[0;32m   (...)\u001b[0m\n\u001b[1;32m    579\u001b[0m         inputs\u001b[38;5;241m=\u001b[39minputs,\n\u001b[1;32m    580\u001b[0m     )\n\u001b[0;32m--> 581\u001b[0m torch\u001b[38;5;241m.\u001b[39mautograd\u001b[38;5;241m.\u001b[39mbackward(\n\u001b[1;32m    582\u001b[0m     \u001b[38;5;28mself\u001b[39m, gradient, retain_graph, create_graph, inputs\u001b[38;5;241m=\u001b[39minputs\n\u001b[1;32m    583\u001b[0m )\n",
      "File \u001b[0;32m/opt/anaconda3/lib/python3.12/site-packages/torch/autograd/__init__.py:347\u001b[0m, in \u001b[0;36mbackward\u001b[0;34m(tensors, grad_tensors, retain_graph, create_graph, grad_variables, inputs)\u001b[0m\n\u001b[1;32m    342\u001b[0m     retain_graph \u001b[38;5;241m=\u001b[39m create_graph\n\u001b[1;32m    344\u001b[0m \u001b[38;5;66;03m# The reason we repeat the same comment below is that\u001b[39;00m\n\u001b[1;32m    345\u001b[0m \u001b[38;5;66;03m# some Python versions print out the first line of a multi-line function\u001b[39;00m\n\u001b[1;32m    346\u001b[0m \u001b[38;5;66;03m# calls in the traceback and some print out the last line\u001b[39;00m\n\u001b[0;32m--> 347\u001b[0m _engine_run_backward(\n\u001b[1;32m    348\u001b[0m     tensors,\n\u001b[1;32m    349\u001b[0m     grad_tensors_,\n\u001b[1;32m    350\u001b[0m     retain_graph,\n\u001b[1;32m    351\u001b[0m     create_graph,\n\u001b[1;32m    352\u001b[0m     inputs,\n\u001b[1;32m    353\u001b[0m     allow_unreachable\u001b[38;5;241m=\u001b[39m\u001b[38;5;28;01mTrue\u001b[39;00m,\n\u001b[1;32m    354\u001b[0m     accumulate_grad\u001b[38;5;241m=\u001b[39m\u001b[38;5;28;01mTrue\u001b[39;00m,\n\u001b[1;32m    355\u001b[0m )\n",
      "File \u001b[0;32m/opt/anaconda3/lib/python3.12/site-packages/torch/autograd/graph.py:825\u001b[0m, in \u001b[0;36m_engine_run_backward\u001b[0;34m(t_outputs, *args, **kwargs)\u001b[0m\n\u001b[1;32m    823\u001b[0m     unregister_hooks \u001b[38;5;241m=\u001b[39m _register_logging_hooks_on_whole_graph(t_outputs)\n\u001b[1;32m    824\u001b[0m \u001b[38;5;28;01mtry\u001b[39;00m:\n\u001b[0;32m--> 825\u001b[0m     \u001b[38;5;28;01mreturn\u001b[39;00m Variable\u001b[38;5;241m.\u001b[39m_execution_engine\u001b[38;5;241m.\u001b[39mrun_backward(  \u001b[38;5;66;03m# Calls into the C++ engine to run the backward pass\u001b[39;00m\n\u001b[1;32m    826\u001b[0m         t_outputs, \u001b[38;5;241m*\u001b[39margs, \u001b[38;5;241m*\u001b[39m\u001b[38;5;241m*\u001b[39mkwargs\n\u001b[1;32m    827\u001b[0m     )  \u001b[38;5;66;03m# Calls into the C++ engine to run the backward pass\u001b[39;00m\n\u001b[1;32m    828\u001b[0m \u001b[38;5;28;01mfinally\u001b[39;00m:\n\u001b[1;32m    829\u001b[0m     \u001b[38;5;28;01mif\u001b[39;00m attach_logging_hooks:\n",
      "\u001b[0;31mKeyboardInterrupt\u001b[0m: "
     ]
    }
   ],
   "source": [
    "for epoch in range(100):  \n",
    "  for inputs, labels in dataloader:\n",
    "    model.train() \n",
    "\n",
    "    # Forward pass\n",
    "    outputs = model(inputs)\n",
    "    loss = criterion(outputs, labels)  \n",
    "    \n",
    "    # Backward pass and optimize\n",
    "    optimizer.zero_grad()  \n",
    "    loss.backward()  \n",
    "    optimizer.step()  \n",
    "\n",
    "  if (epoch + 1) % 10 == 0:  \n",
    "        print(f'Epoch [{epoch + 1}/100], Loss: {loss.item():.4f}')"
   ]
  },
  {
   "cell_type": "markdown",
   "metadata": {},
   "source": [
    "## Performance of the Neural Network"
   ]
  },
  {
   "cell_type": "code",
   "execution_count": 35,
   "metadata": {},
   "outputs": [],
   "source": [
    "test_data['backscatter'] = pd.to_numeric(test_data['backscatter'])\n",
    "test_data['emissivity_v'] = pd.to_numeric(test_data['emissivity_v'])\n",
    "test_data['emissivity_h'] = pd.to_numeric(test_data['emissivity_h'])\n",
    "test_data['ts_amplitude'] = pd.to_numeric(test_data['ts_amplitude'])\n",
    "test_data['ndvi'] = pd.to_numeric(test_data['ndvi'])\n",
    "test_data['lmd_soilWetness'] = pd.to_numeric(test_data['lmd_soilWetness'])"
   ]
  },
  {
   "cell_type": "code",
   "execution_count": 37,
   "metadata": {},
   "outputs": [
    {
     "data": {
      "text/html": [
       "<div>\n",
       "<style scoped>\n",
       "    .dataframe tbody tr th:only-of-type {\n",
       "        vertical-align: middle;\n",
       "    }\n",
       "\n",
       "    .dataframe tbody tr th {\n",
       "        vertical-align: top;\n",
       "    }\n",
       "\n",
       "    .dataframe thead th {\n",
       "        text-align: right;\n",
       "    }\n",
       "</style>\n",
       "<table border=\"1\" class=\"dataframe\">\n",
       "  <thead>\n",
       "    <tr style=\"text-align: right;\">\n",
       "      <th></th>\n",
       "      <th>cellNr</th>\n",
       "      <th>latitude</th>\n",
       "      <th>longitude</th>\n",
       "      <th>backscatter</th>\n",
       "      <th>emissivity_v</th>\n",
       "      <th>emissivity_h</th>\n",
       "      <th>ts_amplitude</th>\n",
       "      <th>ndvi</th>\n",
       "      <th>lmd_soilWetness</th>\n",
       "    </tr>\n",
       "  </thead>\n",
       "  <tbody>\n",
       "    <tr>\n",
       "      <th>65425</th>\n",
       "      <td>0.000000</td>\n",
       "      <td>0.000000</td>\n",
       "      <td>0.178626</td>\n",
       "      <td>0.721724</td>\n",
       "      <td>0.376164</td>\n",
       "      <td>0.460693</td>\n",
       "      <td>0.377197</td>\n",
       "      <td>0.214447</td>\n",
       "      <td>0.493189</td>\n",
       "    </tr>\n",
       "    <tr>\n",
       "      <th>73373</th>\n",
       "      <td>0.014956</td>\n",
       "      <td>0.020979</td>\n",
       "      <td>0.179990</td>\n",
       "      <td>0.559767</td>\n",
       "      <td>0.946741</td>\n",
       "      <td>0.921386</td>\n",
       "      <td>0.535596</td>\n",
       "      <td>0.289824</td>\n",
       "      <td>0.022622</td>\n",
       "    </tr>\n",
       "    <tr>\n",
       "      <th>76107</th>\n",
       "      <td>0.020100</td>\n",
       "      <td>0.027972</td>\n",
       "      <td>0.173885</td>\n",
       "      <td>0.637132</td>\n",
       "      <td>0.653259</td>\n",
       "      <td>0.711056</td>\n",
       "      <td>0.685615</td>\n",
       "      <td>0.332538</td>\n",
       "      <td>0.229385</td>\n",
       "    </tr>\n",
       "    <tr>\n",
       "      <th>77958</th>\n",
       "      <td>0.023584</td>\n",
       "      <td>0.032634</td>\n",
       "      <td>0.176766</td>\n",
       "      <td>0.585282</td>\n",
       "      <td>0.791061</td>\n",
       "      <td>0.810620</td>\n",
       "      <td>0.621996</td>\n",
       "      <td>0.337060</td>\n",
       "      <td>0.109827</td>\n",
       "    </tr>\n",
       "    <tr>\n",
       "      <th>79828</th>\n",
       "      <td>0.027102</td>\n",
       "      <td>0.037296</td>\n",
       "      <td>0.178175</td>\n",
       "      <td>0.624360</td>\n",
       "      <td>0.794786</td>\n",
       "      <td>0.811242</td>\n",
       "      <td>0.605270</td>\n",
       "      <td>0.176759</td>\n",
       "      <td>0.074921</td>\n",
       "    </tr>\n",
       "    <tr>\n",
       "      <th>...</th>\n",
       "      <td>...</td>\n",
       "      <td>...</td>\n",
       "      <td>...</td>\n",
       "      <td>...</td>\n",
       "      <td>...</td>\n",
       "      <td>...</td>\n",
       "      <td>...</td>\n",
       "      <td>...</td>\n",
       "      <td>...</td>\n",
       "    </tr>\n",
       "    <tr>\n",
       "      <th>589235</th>\n",
       "      <td>0.985661</td>\n",
       "      <td>0.981352</td>\n",
       "      <td>0.474768</td>\n",
       "      <td>0.829738</td>\n",
       "      <td>0.816387</td>\n",
       "      <td>0.870774</td>\n",
       "      <td>0.118818</td>\n",
       "      <td>0.216960</td>\n",
       "      <td>0.811725</td>\n",
       "    </tr>\n",
       "    <tr>\n",
       "      <th>590098</th>\n",
       "      <td>0.987285</td>\n",
       "      <td>0.981352</td>\n",
       "      <td>0.436067</td>\n",
       "      <td>0.858108</td>\n",
       "      <td>0.748603</td>\n",
       "      <td>0.814561</td>\n",
       "      <td>0.063336</td>\n",
       "      <td>0.498869</td>\n",
       "      <td>0.625030</td>\n",
       "    </tr>\n",
       "    <tr>\n",
       "      <th>591009</th>\n",
       "      <td>0.988999</td>\n",
       "      <td>0.986014</td>\n",
       "      <td>0.476654</td>\n",
       "      <td>0.855750</td>\n",
       "      <td>0.804469</td>\n",
       "      <td>0.846712</td>\n",
       "      <td>0.047317</td>\n",
       "      <td>0.228643</td>\n",
       "      <td>0.690221</td>\n",
       "    </tr>\n",
       "    <tr>\n",
       "      <th>593602</th>\n",
       "      <td>0.993879</td>\n",
       "      <td>0.990676</td>\n",
       "      <td>0.432901</td>\n",
       "      <td>0.855523</td>\n",
       "      <td>0.807076</td>\n",
       "      <td>0.854180</td>\n",
       "      <td>0.057931</td>\n",
       "      <td>0.604774</td>\n",
       "      <td>0.782170</td>\n",
       "    </tr>\n",
       "    <tr>\n",
       "      <th>596855</th>\n",
       "      <td>1.000000</td>\n",
       "      <td>1.000000</td>\n",
       "      <td>0.163064</td>\n",
       "      <td>0.721317</td>\n",
       "      <td>0.824209</td>\n",
       "      <td>0.757312</td>\n",
       "      <td>0.133455</td>\n",
       "      <td>0.034799</td>\n",
       "      <td>0.513865</td>\n",
       "    </tr>\n",
       "  </tbody>\n",
       "</table>\n",
       "<p>8906 rows × 9 columns</p>\n",
       "</div>"
      ],
      "text/plain": [
       "          cellNr  latitude  longitude  backscatter  emissivity_v  \\\n",
       "65425   0.000000  0.000000   0.178626     0.721724      0.376164   \n",
       "73373   0.014956  0.020979   0.179990     0.559767      0.946741   \n",
       "76107   0.020100  0.027972   0.173885     0.637132      0.653259   \n",
       "77958   0.023584  0.032634   0.176766     0.585282      0.791061   \n",
       "79828   0.027102  0.037296   0.178175     0.624360      0.794786   \n",
       "...          ...       ...        ...          ...           ...   \n",
       "589235  0.985661  0.981352   0.474768     0.829738      0.816387   \n",
       "590098  0.987285  0.981352   0.436067     0.858108      0.748603   \n",
       "591009  0.988999  0.986014   0.476654     0.855750      0.804469   \n",
       "593602  0.993879  0.990676   0.432901     0.855523      0.807076   \n",
       "596855  1.000000  1.000000   0.163064     0.721317      0.824209   \n",
       "\n",
       "        emissivity_h  ts_amplitude      ndvi  lmd_soilWetness  \n",
       "65425       0.460693      0.377197  0.214447         0.493189  \n",
       "73373       0.921386      0.535596  0.289824         0.022622  \n",
       "76107       0.711056      0.685615  0.332538         0.229385  \n",
       "77958       0.810620      0.621996  0.337060         0.109827  \n",
       "79828       0.811242      0.605270  0.176759         0.074921  \n",
       "...              ...           ...       ...              ...  \n",
       "589235      0.870774      0.118818  0.216960         0.811725  \n",
       "590098      0.814561      0.063336  0.498869         0.625030  \n",
       "591009      0.846712      0.047317  0.228643         0.690221  \n",
       "593602      0.854180      0.057931  0.604774         0.782170  \n",
       "596855      0.757312      0.133455  0.034799         0.513865  \n",
       "\n",
       "[8906 rows x 9 columns]"
      ]
     },
     "execution_count": 37,
     "metadata": {},
     "output_type": "execute_result"
    }
   ],
   "source": [
    "test_normalized_data=(test_data-test_data.min())/(test_data.max()-test_data.min())\n",
    "test_data = test_normalized_data\n",
    "test_data"
   ]
  },
  {
   "cell_type": "code",
   "execution_count": 39,
   "metadata": {},
   "outputs": [],
   "source": [
    "test_back = test_data['backscatter'].values[0:thres]\n",
    "test_lats = test_data['latitude'].values[0:thres]\n",
    "test_lons = test_data['longitude'].values[0:thres]\n",
    "test_emissivity_v = test_data['emissivity_v'].values[0:thres]\n",
    "test_emissivity_h = test_data['emissivity_h'].values[0:thres]\n",
    "test_ts_amplitude = test_data['ts_amplitude'].values[0:thres]\n",
    "test_ndvi = test_data['ndvi'].values[0:thres]\n",
    "test_lmd_soilWetness = test_data['lmd_soilWetness'].values[0:thres]"
   ]
  },
  {
   "cell_type": "code",
   "execution_count": 41,
   "metadata": {},
   "outputs": [],
   "source": [
    "test_alles = np.stack((test_back,test_emissivity_v,test_emissivity_h,test_ts_amplitude,test_ndvi),axis=1)"
   ]
  },
  {
   "cell_type": "code",
   "execution_count": 43,
   "metadata": {},
   "outputs": [
    {
     "name": "stdout",
     "output_type": "stream",
     "text": [
      "Predictions:\n",
      "tensor([[0.1968],\n",
      "        [0.2517],\n",
      "        [0.1013],\n",
      "        ...,\n",
      "        [0.4985],\n",
      "        [0.4530],\n",
      "        [0.3786]])\n"
     ]
    }
   ],
   "source": [
    "model.eval()  \n",
    "with torch.no_grad(): \n",
    "    testing_data = torch.tensor(test_alles).to(torch.float32)\n",
    "    predictions = model(testing_data) \n",
    "    print(f'Predictions:\\n{predictions}')"
   ]
  },
  {
   "cell_type": "code",
   "execution_count": 45,
   "metadata": {},
   "outputs": [
    {
     "data": {
      "text/plain": [
       "8906"
      ]
     },
     "execution_count": 45,
     "metadata": {},
     "output_type": "execute_result"
    }
   ],
   "source": [
    "len(predictions)"
   ]
  },
  {
   "cell_type": "code",
   "execution_count": 47,
   "metadata": {},
   "outputs": [],
   "source": [
    "output = predictions.detach().cpu().numpy()"
   ]
  },
  {
   "cell_type": "code",
   "execution_count": 49,
   "metadata": {},
   "outputs": [
    {
     "data": {
      "text/plain": [
       "array([[0.19678538],\n",
       "       [0.25171176],\n",
       "       [0.10129794],\n",
       "       ...,\n",
       "       [0.49845043],\n",
       "       [0.45301518],\n",
       "       [0.37863585]], dtype=float32)"
      ]
     },
     "execution_count": 49,
     "metadata": {},
     "output_type": "execute_result"
    }
   ],
   "source": [
    "output"
   ]
  },
  {
   "cell_type": "code",
   "execution_count": 51,
   "metadata": {},
   "outputs": [
    {
     "data": {
      "text/plain": [
       "0.2934682"
      ]
     },
     "execution_count": 51,
     "metadata": {},
     "output_type": "execute_result"
    }
   ],
   "source": [
    "np.mean(output)"
   ]
  },
  {
   "cell_type": "code",
   "execution_count": 53,
   "metadata": {},
   "outputs": [],
   "source": [
    "test_data['NN']=output"
   ]
  },
  {
   "cell_type": "code",
   "execution_count": 55,
   "metadata": {},
   "outputs": [
    {
     "data": {
      "text/html": [
       "<div>\n",
       "<style scoped>\n",
       "    .dataframe tbody tr th:only-of-type {\n",
       "        vertical-align: middle;\n",
       "    }\n",
       "\n",
       "    .dataframe tbody tr th {\n",
       "        vertical-align: top;\n",
       "    }\n",
       "\n",
       "    .dataframe thead th {\n",
       "        text-align: right;\n",
       "    }\n",
       "</style>\n",
       "<table border=\"1\" class=\"dataframe\">\n",
       "  <thead>\n",
       "    <tr style=\"text-align: right;\">\n",
       "      <th></th>\n",
       "      <th>cellNr</th>\n",
       "      <th>latitude</th>\n",
       "      <th>longitude</th>\n",
       "      <th>backscatter</th>\n",
       "      <th>emissivity_v</th>\n",
       "      <th>emissivity_h</th>\n",
       "      <th>ts_amplitude</th>\n",
       "      <th>ndvi</th>\n",
       "      <th>lmd_soilWetness</th>\n",
       "      <th>NN</th>\n",
       "    </tr>\n",
       "  </thead>\n",
       "  <tbody>\n",
       "    <tr>\n",
       "      <th>65425</th>\n",
       "      <td>0.000000</td>\n",
       "      <td>0.000000</td>\n",
       "      <td>0.178626</td>\n",
       "      <td>0.721724</td>\n",
       "      <td>0.376164</td>\n",
       "      <td>0.460693</td>\n",
       "      <td>0.377197</td>\n",
       "      <td>0.214447</td>\n",
       "      <td>0.493189</td>\n",
       "      <td>0.196785</td>\n",
       "    </tr>\n",
       "    <tr>\n",
       "      <th>73373</th>\n",
       "      <td>0.014956</td>\n",
       "      <td>0.020979</td>\n",
       "      <td>0.179990</td>\n",
       "      <td>0.559767</td>\n",
       "      <td>0.946741</td>\n",
       "      <td>0.921386</td>\n",
       "      <td>0.535596</td>\n",
       "      <td>0.289824</td>\n",
       "      <td>0.022622</td>\n",
       "      <td>0.251712</td>\n",
       "    </tr>\n",
       "    <tr>\n",
       "      <th>76107</th>\n",
       "      <td>0.020100</td>\n",
       "      <td>0.027972</td>\n",
       "      <td>0.173885</td>\n",
       "      <td>0.637132</td>\n",
       "      <td>0.653259</td>\n",
       "      <td>0.711056</td>\n",
       "      <td>0.685615</td>\n",
       "      <td>0.332538</td>\n",
       "      <td>0.229385</td>\n",
       "      <td>0.101298</td>\n",
       "    </tr>\n",
       "    <tr>\n",
       "      <th>77958</th>\n",
       "      <td>0.023584</td>\n",
       "      <td>0.032634</td>\n",
       "      <td>0.176766</td>\n",
       "      <td>0.585282</td>\n",
       "      <td>0.791061</td>\n",
       "      <td>0.810620</td>\n",
       "      <td>0.621996</td>\n",
       "      <td>0.337060</td>\n",
       "      <td>0.109827</td>\n",
       "      <td>0.134066</td>\n",
       "    </tr>\n",
       "    <tr>\n",
       "      <th>79828</th>\n",
       "      <td>0.027102</td>\n",
       "      <td>0.037296</td>\n",
       "      <td>0.178175</td>\n",
       "      <td>0.624360</td>\n",
       "      <td>0.794786</td>\n",
       "      <td>0.811242</td>\n",
       "      <td>0.605270</td>\n",
       "      <td>0.176759</td>\n",
       "      <td>0.074921</td>\n",
       "      <td>0.155465</td>\n",
       "    </tr>\n",
       "    <tr>\n",
       "      <th>...</th>\n",
       "      <td>...</td>\n",
       "      <td>...</td>\n",
       "      <td>...</td>\n",
       "      <td>...</td>\n",
       "      <td>...</td>\n",
       "      <td>...</td>\n",
       "      <td>...</td>\n",
       "      <td>...</td>\n",
       "      <td>...</td>\n",
       "      <td>...</td>\n",
       "    </tr>\n",
       "    <tr>\n",
       "      <th>589235</th>\n",
       "      <td>0.985661</td>\n",
       "      <td>0.981352</td>\n",
       "      <td>0.474768</td>\n",
       "      <td>0.829738</td>\n",
       "      <td>0.816387</td>\n",
       "      <td>0.870774</td>\n",
       "      <td>0.118818</td>\n",
       "      <td>0.216960</td>\n",
       "      <td>0.811725</td>\n",
       "      <td>0.351783</td>\n",
       "    </tr>\n",
       "    <tr>\n",
       "      <th>590098</th>\n",
       "      <td>0.987285</td>\n",
       "      <td>0.981352</td>\n",
       "      <td>0.436067</td>\n",
       "      <td>0.858108</td>\n",
       "      <td>0.748603</td>\n",
       "      <td>0.814561</td>\n",
       "      <td>0.063336</td>\n",
       "      <td>0.498869</td>\n",
       "      <td>0.625030</td>\n",
       "      <td>0.451126</td>\n",
       "    </tr>\n",
       "    <tr>\n",
       "      <th>591009</th>\n",
       "      <td>0.988999</td>\n",
       "      <td>0.986014</td>\n",
       "      <td>0.476654</td>\n",
       "      <td>0.855750</td>\n",
       "      <td>0.804469</td>\n",
       "      <td>0.846712</td>\n",
       "      <td>0.047317</td>\n",
       "      <td>0.228643</td>\n",
       "      <td>0.690221</td>\n",
       "      <td>0.498450</td>\n",
       "    </tr>\n",
       "    <tr>\n",
       "      <th>593602</th>\n",
       "      <td>0.993879</td>\n",
       "      <td>0.990676</td>\n",
       "      <td>0.432901</td>\n",
       "      <td>0.855523</td>\n",
       "      <td>0.807076</td>\n",
       "      <td>0.854180</td>\n",
       "      <td>0.057931</td>\n",
       "      <td>0.604774</td>\n",
       "      <td>0.782170</td>\n",
       "      <td>0.453015</td>\n",
       "    </tr>\n",
       "    <tr>\n",
       "      <th>596855</th>\n",
       "      <td>1.000000</td>\n",
       "      <td>1.000000</td>\n",
       "      <td>0.163064</td>\n",
       "      <td>0.721317</td>\n",
       "      <td>0.824209</td>\n",
       "      <td>0.757312</td>\n",
       "      <td>0.133455</td>\n",
       "      <td>0.034799</td>\n",
       "      <td>0.513865</td>\n",
       "      <td>0.378636</td>\n",
       "    </tr>\n",
       "  </tbody>\n",
       "</table>\n",
       "<p>8906 rows × 10 columns</p>\n",
       "</div>"
      ],
      "text/plain": [
       "          cellNr  latitude  longitude  backscatter  emissivity_v  \\\n",
       "65425   0.000000  0.000000   0.178626     0.721724      0.376164   \n",
       "73373   0.014956  0.020979   0.179990     0.559767      0.946741   \n",
       "76107   0.020100  0.027972   0.173885     0.637132      0.653259   \n",
       "77958   0.023584  0.032634   0.176766     0.585282      0.791061   \n",
       "79828   0.027102  0.037296   0.178175     0.624360      0.794786   \n",
       "...          ...       ...        ...          ...           ...   \n",
       "589235  0.985661  0.981352   0.474768     0.829738      0.816387   \n",
       "590098  0.987285  0.981352   0.436067     0.858108      0.748603   \n",
       "591009  0.988999  0.986014   0.476654     0.855750      0.804469   \n",
       "593602  0.993879  0.990676   0.432901     0.855523      0.807076   \n",
       "596855  1.000000  1.000000   0.163064     0.721317      0.824209   \n",
       "\n",
       "        emissivity_h  ts_amplitude      ndvi  lmd_soilWetness        NN  \n",
       "65425       0.460693      0.377197  0.214447         0.493189  0.196785  \n",
       "73373       0.921386      0.535596  0.289824         0.022622  0.251712  \n",
       "76107       0.711056      0.685615  0.332538         0.229385  0.101298  \n",
       "77958       0.810620      0.621996  0.337060         0.109827  0.134066  \n",
       "79828       0.811242      0.605270  0.176759         0.074921  0.155465  \n",
       "...              ...           ...       ...              ...       ...  \n",
       "589235      0.870774      0.118818  0.216960         0.811725  0.351783  \n",
       "590098      0.814561      0.063336  0.498869         0.625030  0.451126  \n",
       "591009      0.846712      0.047317  0.228643         0.690221  0.498450  \n",
       "593602      0.854180      0.057931  0.604774         0.782170  0.453015  \n",
       "596855      0.757312      0.133455  0.034799         0.513865  0.378636  \n",
       "\n",
       "[8906 rows x 10 columns]"
      ]
     },
     "execution_count": 55,
     "metadata": {},
     "output_type": "execute_result"
    }
   ],
   "source": [
    "test_data"
   ]
  },
  {
   "cell_type": "code",
   "execution_count": 57,
   "metadata": {},
   "outputs": [
    {
     "data": {
      "text/plain": [
       "(-180.0, 180.0)"
      ]
     },
     "execution_count": 57,
     "metadata": {},
     "output_type": "execute_result"
    },
    {
     "data": {
      "image/png": "[encoded data removed]",
      "text/plain": [
       "<Figure size 1000x500 with 2 Axes>"
      ]
     },
     "metadata": {},
     "output_type": "display_data"
    }
   ],
   "source": [
    "fig,ax = pl.subplots(figsize=(10, 5))\n",
    "mesh = ax.scatter(loni,lati,c=test_data['NN'],s=1, cmap='terrain_r', vmin=0, vmax=1);\n",
    "cbar = pl.colorbar(mesh, ax=ax, shrink=.5, pad=.02, aspect=10)\n",
    "ax.set_ylim(-90,90)\n",
    "ax.set_xlim(-180,180)"
   ]
  },
  {
   "cell_type": "code",
   "execution_count": null,
   "metadata": {},
   "outputs": [],
   "source": []
  }
 ],
 "metadata": {
  "kernelspec": {
   "display_name": "Python [conda env:base] *",
   "language": "python",
   "name": "conda-base-py"
  },
  "language_info": {
   "codemirror_mode": {
    "name": "ipython",
    "version": 3
   },
   "file_extension": ".py",
   "mimetype": "text/x-python",
   "name": "python",
   "nbconvert_exporter": "python",
   "pygments_lexer": "ipython3",
   "version": "3.12.7"
  }
 },
 "nbformat": 4,
 "nbformat_minor": 4
}
