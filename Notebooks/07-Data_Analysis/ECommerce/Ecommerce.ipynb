{
 "cells": [
  {
   "cell_type": "markdown",
   "metadata": {},
   "source": [
    "# E-Commerce Dataset"
   ]
  },
  {
   "cell_type": "markdown",
   "metadata": {},
   "source": [
    "Analytics on E-commerce"
   ]
  },
  {
   "cell_type": "markdown",
   "metadata": {},
   "source": [
    "Libraries we need are imported first"
   ]
  },
  {
   "cell_type": "code",
   "execution_count": 4,
   "metadata": {},
   "outputs": [],
   "source": [
    "import numpy as np\n",
    "import pandas as pd\n",
    "import matplotlib.pyplot as pl"
   ]
  },
  {
   "cell_type": "markdown",
   "metadata": {},
   "source": [
    "Data used in this exercise is stored in the DATA folder"
   ]
  },
  {
   "cell_type": "code",
   "execution_count": 7,
   "metadata": {},
   "outputs": [],
   "source": [
    "data_path = '../../../DATA/ecommerce_orig.txt'"
   ]
  },
  {
   "cell_type": "markdown",
   "metadata": {},
   "source": [
    "The dataframe is created using the .read_csv function of Pandas"
   ]
  },
  {
   "cell_type": "code",
   "execution_count": 11,
   "metadata": {},
   "outputs": [],
   "source": [
    "data = pd.read_csv(data_path, delimiter = \"\\t\")"
   ]
  },
  {
   "cell_type": "markdown",
   "metadata": {},
   "source": [
    "The original CSV file is structured as a dataframe with the corresponding categories"
   ]
  },
  {
   "cell_type": "code",
   "execution_count": 13,
   "metadata": {},
   "outputs": [
    {
     "data": {
      "text/html": [
       "<div>\n",
       "<style scoped>\n",
       "    .dataframe tbody tr th:only-of-type {\n",
       "        vertical-align: middle;\n",
       "    }\n",
       "\n",
       "    .dataframe tbody tr th {\n",
       "        vertical-align: top;\n",
       "    }\n",
       "\n",
       "    .dataframe thead th {\n",
       "        text-align: right;\n",
       "    }\n",
       "</style>\n",
       "<table border=\"1\" class=\"dataframe\">\n",
       "  <thead>\n",
       "    <tr style=\"text-align: right;\">\n",
       "      <th></th>\n",
       "      <th>weeknumberbyyear</th>\n",
       "      <th>TrafficSourceType</th>\n",
       "      <th>Device</th>\n",
       "      <th>VisitorType</th>\n",
       "      <th>NonBounceVisit</th>\n",
       "      <th>HomePageWasVisited</th>\n",
       "      <th>ProductPageWasVisited</th>\n",
       "      <th>VisitToProductAfterListing</th>\n",
       "      <th>SiteSearchWasUsed</th>\n",
       "      <th>VisitWithAddtoBag</th>\n",
       "      <th>VisitWithAddtoWishlist</th>\n",
       "      <th>ShippingAddressWasVisited</th>\n",
       "      <th>PaymentPageWasVisited</th>\n",
       "      <th>ReviewOrderPageWasVisited</th>\n",
       "      <th>ConfirmationPageWasVisited</th>\n",
       "      <th>Visits</th>\n",
       "      <th>Revenue</th>\n",
       "      <th>Orders</th>\n",
       "    </tr>\n",
       "  </thead>\n",
       "  <tbody>\n",
       "    <tr>\n",
       "      <th>0</th>\n",
       "      <td>2016-01</td>\n",
       "      <td>Affiliates</td>\n",
       "      <td>Desktop</td>\n",
       "      <td>New</td>\n",
       "      <td>Yes</td>\n",
       "      <td>No</td>\n",
       "      <td>No</td>\n",
       "      <td>No</td>\n",
       "      <td>No</td>\n",
       "      <td>No</td>\n",
       "      <td>No</td>\n",
       "      <td>No</td>\n",
       "      <td>No</td>\n",
       "      <td>No</td>\n",
       "      <td>No</td>\n",
       "      <td>9</td>\n",
       "      <td>0.000</td>\n",
       "      <td>0</td>\n",
       "    </tr>\n",
       "    <tr>\n",
       "      <th>1</th>\n",
       "      <td>2016-01</td>\n",
       "      <td>Affiliates</td>\n",
       "      <td>Desktop</td>\n",
       "      <td>New</td>\n",
       "      <td>Yes</td>\n",
       "      <td>No</td>\n",
       "      <td>No</td>\n",
       "      <td>No</td>\n",
       "      <td>No</td>\n",
       "      <td>Yes</td>\n",
       "      <td>No</td>\n",
       "      <td>No</td>\n",
       "      <td>No</td>\n",
       "      <td>No</td>\n",
       "      <td>No</td>\n",
       "      <td>1</td>\n",
       "      <td>0.000</td>\n",
       "      <td>0</td>\n",
       "    </tr>\n",
       "    <tr>\n",
       "      <th>2</th>\n",
       "      <td>2016-01</td>\n",
       "      <td>Affiliates</td>\n",
       "      <td>Desktop</td>\n",
       "      <td>New</td>\n",
       "      <td>Yes</td>\n",
       "      <td>No</td>\n",
       "      <td>Yes</td>\n",
       "      <td>No</td>\n",
       "      <td>No</td>\n",
       "      <td>No</td>\n",
       "      <td>No</td>\n",
       "      <td>No</td>\n",
       "      <td>No</td>\n",
       "      <td>No</td>\n",
       "      <td>No</td>\n",
       "      <td>1639</td>\n",
       "      <td>0.000</td>\n",
       "      <td>0</td>\n",
       "    </tr>\n",
       "    <tr>\n",
       "      <th>3</th>\n",
       "      <td>2016-01</td>\n",
       "      <td>Affiliates</td>\n",
       "      <td>Desktop</td>\n",
       "      <td>New</td>\n",
       "      <td>Yes</td>\n",
       "      <td>No</td>\n",
       "      <td>Yes</td>\n",
       "      <td>No</td>\n",
       "      <td>No</td>\n",
       "      <td>No</td>\n",
       "      <td>No</td>\n",
       "      <td>No</td>\n",
       "      <td>Yes</td>\n",
       "      <td>No</td>\n",
       "      <td>No</td>\n",
       "      <td>1</td>\n",
       "      <td>0.000</td>\n",
       "      <td>0</td>\n",
       "    </tr>\n",
       "    <tr>\n",
       "      <th>4</th>\n",
       "      <td>2016-01</td>\n",
       "      <td>Affiliates</td>\n",
       "      <td>Desktop</td>\n",
       "      <td>New</td>\n",
       "      <td>Yes</td>\n",
       "      <td>No</td>\n",
       "      <td>Yes</td>\n",
       "      <td>No</td>\n",
       "      <td>No</td>\n",
       "      <td>No</td>\n",
       "      <td>No</td>\n",
       "      <td>Yes</td>\n",
       "      <td>Yes</td>\n",
       "      <td>Yes</td>\n",
       "      <td>Yes</td>\n",
       "      <td>4</td>\n",
       "      <td>354.150</td>\n",
       "      <td>1</td>\n",
       "    </tr>\n",
       "    <tr>\n",
       "      <th>...</th>\n",
       "      <td>...</td>\n",
       "      <td>...</td>\n",
       "      <td>...</td>\n",
       "      <td>...</td>\n",
       "      <td>...</td>\n",
       "      <td>...</td>\n",
       "      <td>...</td>\n",
       "      <td>...</td>\n",
       "      <td>...</td>\n",
       "      <td>...</td>\n",
       "      <td>...</td>\n",
       "      <td>...</td>\n",
       "      <td>...</td>\n",
       "      <td>...</td>\n",
       "      <td>...</td>\n",
       "      <td>...</td>\n",
       "      <td>...</td>\n",
       "      <td>...</td>\n",
       "    </tr>\n",
       "    <tr>\n",
       "      <th>155983</th>\n",
       "      <td>2017-01</td>\n",
       "      <td>Referrals</td>\n",
       "      <td>Tablet</td>\n",
       "      <td>Returning</td>\n",
       "      <td>Yes</td>\n",
       "      <td>Yes</td>\n",
       "      <td>Yes</td>\n",
       "      <td>No</td>\n",
       "      <td>Yes</td>\n",
       "      <td>No</td>\n",
       "      <td>No</td>\n",
       "      <td>No</td>\n",
       "      <td>No</td>\n",
       "      <td>No</td>\n",
       "      <td>No</td>\n",
       "      <td>1</td>\n",
       "      <td>0.000</td>\n",
       "      <td>0</td>\n",
       "    </tr>\n",
       "    <tr>\n",
       "      <th>155984</th>\n",
       "      <td>2017-01</td>\n",
       "      <td>Referrals</td>\n",
       "      <td>Tablet</td>\n",
       "      <td>Returning</td>\n",
       "      <td>Yes</td>\n",
       "      <td>Yes</td>\n",
       "      <td>Yes</td>\n",
       "      <td>Yes</td>\n",
       "      <td>No</td>\n",
       "      <td>No</td>\n",
       "      <td>Yes</td>\n",
       "      <td>No</td>\n",
       "      <td>No</td>\n",
       "      <td>No</td>\n",
       "      <td>No</td>\n",
       "      <td>3</td>\n",
       "      <td>0.000</td>\n",
       "      <td>0</td>\n",
       "    </tr>\n",
       "    <tr>\n",
       "      <th>155985</th>\n",
       "      <td>2017-01</td>\n",
       "      <td>Referrals</td>\n",
       "      <td>Tablet</td>\n",
       "      <td>Returning</td>\n",
       "      <td>Yes</td>\n",
       "      <td>Yes</td>\n",
       "      <td>Yes</td>\n",
       "      <td>Yes</td>\n",
       "      <td>No</td>\n",
       "      <td>Yes</td>\n",
       "      <td>No</td>\n",
       "      <td>No</td>\n",
       "      <td>No</td>\n",
       "      <td>No</td>\n",
       "      <td>No</td>\n",
       "      <td>2</td>\n",
       "      <td>0.000</td>\n",
       "      <td>0</td>\n",
       "    </tr>\n",
       "    <tr>\n",
       "      <th>155986</th>\n",
       "      <td>2017-01</td>\n",
       "      <td>Referrals</td>\n",
       "      <td>Tablet</td>\n",
       "      <td>Returning</td>\n",
       "      <td>Yes</td>\n",
       "      <td>Yes</td>\n",
       "      <td>Yes</td>\n",
       "      <td>Yes</td>\n",
       "      <td>No</td>\n",
       "      <td>Yes</td>\n",
       "      <td>No</td>\n",
       "      <td>No</td>\n",
       "      <td>No</td>\n",
       "      <td>Yes</td>\n",
       "      <td>Yes</td>\n",
       "      <td>6</td>\n",
       "      <td>155.718</td>\n",
       "      <td>1</td>\n",
       "    </tr>\n",
       "    <tr>\n",
       "      <th>155987</th>\n",
       "      <td>2017-01</td>\n",
       "      <td>Referrals</td>\n",
       "      <td>Tablet</td>\n",
       "      <td>Returning</td>\n",
       "      <td>Yes</td>\n",
       "      <td>Yes</td>\n",
       "      <td>Yes</td>\n",
       "      <td>Yes</td>\n",
       "      <td>No</td>\n",
       "      <td>Yes</td>\n",
       "      <td>Yes</td>\n",
       "      <td>No</td>\n",
       "      <td>No</td>\n",
       "      <td>No</td>\n",
       "      <td>No</td>\n",
       "      <td>1</td>\n",
       "      <td>0.000</td>\n",
       "      <td>0</td>\n",
       "    </tr>\n",
       "  </tbody>\n",
       "</table>\n",
       "<p>155988 rows × 18 columns</p>\n",
       "</div>"
      ],
      "text/plain": [
       "       weeknumberbyyear TrafficSourceType   Device VisitorType NonBounceVisit  \\\n",
       "0               2016-01        Affiliates  Desktop         New            Yes   \n",
       "1               2016-01        Affiliates  Desktop         New            Yes   \n",
       "2               2016-01        Affiliates  Desktop         New            Yes   \n",
       "3               2016-01        Affiliates  Desktop         New            Yes   \n",
       "4               2016-01        Affiliates  Desktop         New            Yes   \n",
       "...                 ...               ...      ...         ...            ...   \n",
       "155983          2017-01         Referrals   Tablet   Returning            Yes   \n",
       "155984          2017-01         Referrals   Tablet   Returning            Yes   \n",
       "155985          2017-01         Referrals   Tablet   Returning            Yes   \n",
       "155986          2017-01         Referrals   Tablet   Returning            Yes   \n",
       "155987          2017-01         Referrals   Tablet   Returning            Yes   \n",
       "\n",
       "       HomePageWasVisited ProductPageWasVisited VisitToProductAfterListing  \\\n",
       "0                      No                    No                         No   \n",
       "1                      No                    No                         No   \n",
       "2                      No                   Yes                         No   \n",
       "3                      No                   Yes                         No   \n",
       "4                      No                   Yes                         No   \n",
       "...                   ...                   ...                        ...   \n",
       "155983                Yes                   Yes                         No   \n",
       "155984                Yes                   Yes                        Yes   \n",
       "155985                Yes                   Yes                        Yes   \n",
       "155986                Yes                   Yes                        Yes   \n",
       "155987                Yes                   Yes                        Yes   \n",
       "\n",
       "       SiteSearchWasUsed VisitWithAddtoBag VisitWithAddtoWishlist  \\\n",
       "0                     No                No                     No   \n",
       "1                     No               Yes                     No   \n",
       "2                     No                No                     No   \n",
       "3                     No                No                     No   \n",
       "4                     No                No                     No   \n",
       "...                  ...               ...                    ...   \n",
       "155983               Yes                No                     No   \n",
       "155984                No                No                    Yes   \n",
       "155985                No               Yes                     No   \n",
       "155986                No               Yes                     No   \n",
       "155987                No               Yes                    Yes   \n",
       "\n",
       "       ShippingAddressWasVisited PaymentPageWasVisited  \\\n",
       "0                             No                    No   \n",
       "1                             No                    No   \n",
       "2                             No                    No   \n",
       "3                             No                   Yes   \n",
       "4                            Yes                   Yes   \n",
       "...                          ...                   ...   \n",
       "155983                        No                    No   \n",
       "155984                        No                    No   \n",
       "155985                        No                    No   \n",
       "155986                        No                    No   \n",
       "155987                        No                    No   \n",
       "\n",
       "       ReviewOrderPageWasVisited ConfirmationPageWasVisited  Visits  Revenue  \\\n",
       "0                             No                         No       9    0.000   \n",
       "1                             No                         No       1    0.000   \n",
       "2                             No                         No    1639    0.000   \n",
       "3                             No                         No       1    0.000   \n",
       "4                            Yes                        Yes       4  354.150   \n",
       "...                          ...                        ...     ...      ...   \n",
       "155983                        No                         No       1    0.000   \n",
       "155984                        No                         No       3    0.000   \n",
       "155985                        No                         No       2    0.000   \n",
       "155986                       Yes                        Yes       6  155.718   \n",
       "155987                        No                         No       1    0.000   \n",
       "\n",
       "        Orders  \n",
       "0            0  \n",
       "1            0  \n",
       "2            0  \n",
       "3            0  \n",
       "4            1  \n",
       "...        ...  \n",
       "155983       0  \n",
       "155984       0  \n",
       "155985       0  \n",
       "155986       1  \n",
       "155987       0  \n",
       "\n",
       "[155988 rows x 18 columns]"
      ]
     },
     "execution_count": 13,
     "metadata": {},
     "output_type": "execute_result"
    }
   ],
   "source": [
    "data"
   ]
  },
  {
   "cell_type": "code",
   "execution_count": 15,
   "metadata": {},
   "outputs": [
    {
     "name": "stdout",
     "output_type": "stream",
     "text": [
      "<class 'pandas.core.frame.DataFrame'>\n",
      "RangeIndex: 155988 entries, 0 to 155987\n",
      "Data columns (total 18 columns):\n",
      " #   Column                      Non-Null Count   Dtype  \n",
      "---  ------                      --------------   -----  \n",
      " 0   weeknumberbyyear            155988 non-null  object \n",
      " 1   TrafficSourceType           155988 non-null  object \n",
      " 2   Device                      155988 non-null  object \n",
      " 3   VisitorType                 155988 non-null  object \n",
      " 4   NonBounceVisit              155988 non-null  object \n",
      " 5   HomePageWasVisited          155988 non-null  object \n",
      " 6   ProductPageWasVisited       155988 non-null  object \n",
      " 7   VisitToProductAfterListing  155988 non-null  object \n",
      " 8   SiteSearchWasUsed           155988 non-null  object \n",
      " 9   VisitWithAddtoBag           155988 non-null  object \n",
      " 10  VisitWithAddtoWishlist      155988 non-null  object \n",
      " 11  ShippingAddressWasVisited   155988 non-null  object \n",
      " 12  PaymentPageWasVisited       155988 non-null  object \n",
      " 13  ReviewOrderPageWasVisited   155988 non-null  object \n",
      " 14  ConfirmationPageWasVisited  155988 non-null  object \n",
      " 15  Visits                      155988 non-null  int64  \n",
      " 16  Revenue                     155988 non-null  float64\n",
      " 17  Orders                      155988 non-null  int64  \n",
      "dtypes: float64(1), int64(2), object(15)\n",
      "memory usage: 21.4+ MB\n"
     ]
    }
   ],
   "source": [
    "data.info()"
   ]
  },
  {
   "cell_type": "markdown",
   "metadata": {},
   "source": [
    "After renaming the variable of the dataframe, we use .describe() to see essential statistics for each variable"
   ]
  },
  {
   "cell_type": "code",
   "execution_count": 17,
   "metadata": {},
   "outputs": [
    {
     "data": {
      "text/html": [
       "<div>\n",
       "<style scoped>\n",
       "    .dataframe tbody tr th:only-of-type {\n",
       "        vertical-align: middle;\n",
       "    }\n",
       "\n",
       "    .dataframe tbody tr th {\n",
       "        vertical-align: top;\n",
       "    }\n",
       "\n",
       "    .dataframe thead th {\n",
       "        text-align: right;\n",
       "    }\n",
       "</style>\n",
       "<table border=\"1\" class=\"dataframe\">\n",
       "  <thead>\n",
       "    <tr style=\"text-align: right;\">\n",
       "      <th></th>\n",
       "      <th>Visits</th>\n",
       "      <th>Revenue</th>\n",
       "      <th>Orders</th>\n",
       "    </tr>\n",
       "  </thead>\n",
       "  <tbody>\n",
       "    <tr>\n",
       "      <th>count</th>\n",
       "      <td>155988.000000</td>\n",
       "      <td>1.559880e+05</td>\n",
       "      <td>155988.000000</td>\n",
       "    </tr>\n",
       "    <tr>\n",
       "      <th>mean</th>\n",
       "      <td>227.485441</td>\n",
       "      <td>1.595634e+03</td>\n",
       "      <td>2.098226</td>\n",
       "    </tr>\n",
       "    <tr>\n",
       "      <th>std</th>\n",
       "      <td>1556.122164</td>\n",
       "      <td>1.215119e+04</td>\n",
       "      <td>14.548048</td>\n",
       "    </tr>\n",
       "    <tr>\n",
       "      <th>min</th>\n",
       "      <td>1.000000</td>\n",
       "      <td>0.000000e+00</td>\n",
       "      <td>0.000000</td>\n",
       "    </tr>\n",
       "    <tr>\n",
       "      <th>25%</th>\n",
       "      <td>1.000000</td>\n",
       "      <td>0.000000e+00</td>\n",
       "      <td>0.000000</td>\n",
       "    </tr>\n",
       "    <tr>\n",
       "      <th>50%</th>\n",
       "      <td>2.000000</td>\n",
       "      <td>0.000000e+00</td>\n",
       "      <td>0.000000</td>\n",
       "    </tr>\n",
       "    <tr>\n",
       "      <th>75%</th>\n",
       "      <td>10.000000</td>\n",
       "      <td>2.615880e+02</td>\n",
       "      <td>1.000000</td>\n",
       "    </tr>\n",
       "    <tr>\n",
       "      <th>max</th>\n",
       "      <td>58182.000000</td>\n",
       "      <td>1.348615e+06</td>\n",
       "      <td>1605.000000</td>\n",
       "    </tr>\n",
       "  </tbody>\n",
       "</table>\n",
       "</div>"
      ],
      "text/plain": [
       "              Visits       Revenue         Orders\n",
       "count  155988.000000  1.559880e+05  155988.000000\n",
       "mean      227.485441  1.595634e+03       2.098226\n",
       "std      1556.122164  1.215119e+04      14.548048\n",
       "min         1.000000  0.000000e+00       0.000000\n",
       "25%         1.000000  0.000000e+00       0.000000\n",
       "50%         2.000000  0.000000e+00       0.000000\n",
       "75%        10.000000  2.615880e+02       1.000000\n",
       "max     58182.000000  1.348615e+06    1605.000000"
      ]
     },
     "execution_count": 17,
     "metadata": {},
     "output_type": "execute_result"
    }
   ],
   "source": [
    "data.describe()"
   ]
  },
  {
   "cell_type": "markdown",
   "metadata": {},
   "source": [
    "We now make scatterplots for a number of variables "
   ]
  },
  {
   "cell_type": "code",
   "execution_count": 23,
   "metadata": {},
   "outputs": [
    {
     "data": {
      "image/png": "[encoded data removed]",
      "text/plain": [
       "<Figure size 640x480 with 4 Axes>"
      ]
     },
     "metadata": {},
     "output_type": "display_data"
    }
   ],
   "source": [
    "pd.plotting.scatter_matrix(data[['VisitorType', 'Revenue', 'Orders']]);"
   ]
  },
  {
   "cell_type": "code",
   "execution_count": 29,
   "metadata": {},
   "outputs": [
    {
     "data": {
      "image/png": "[encoded data removed]",
      "text/plain": [
       "<Figure size 400x400 with 1 Axes>"
      ]
     },
     "metadata": {},
     "output_type": "display_data"
    }
   ],
   "source": [
    "fig, ax = pl.subplots(figsize=(4, 4)) \n",
    "data.boxplot('Revenue', by='VisitorType', ax=ax);"
   ]
  },
  {
   "cell_type": "code",
   "execution_count": 29,
   "metadata": {},
   "outputs": [],
   "source": [
    "college['Elite'] = pd.cut(college['Top10perc'], [0,0.5,1],labels=['No', 'Yes'])"
   ]
  },
  {
   "cell_type": "code",
   "execution_count": 31,
   "metadata": {},
   "outputs": [
    {
     "data": {
      "text/plain": [
       "Elite\n",
       "Yes    3\n",
       "No     0\n",
       "Name: count, dtype: int64"
      ]
     },
     "execution_count": 31,
     "metadata": {},
     "output_type": "execute_result"
    }
   ],
   "source": [
    "college['Elite'].value_counts()"
   ]
  },
  {
   "cell_type": "code",
   "execution_count": 33,
   "metadata": {},
   "outputs": [
    {
     "data": {
      "image/png": "[encoded data removed]",
      "text/plain": [
       "<Figure size 400x400 with 1 Axes>"
      ]
     },
     "metadata": {},
     "output_type": "display_data"
    }
   ],
   "source": [
    "fig, ax = pl.subplots(figsize=(4, 4)) \n",
    "college.boxplot('Outstate', by='Elite', ax=ax);"
   ]
  },
  {
   "cell_type": "code",
   "execution_count": 35,
   "metadata": {},
   "outputs": [
    {
     "data": {
      "image/png": "[encoded data removed]",
      "text/plain": [
       "<Figure size 400x400 with 1 Axes>"
      ]
     },
     "metadata": {},
     "output_type": "display_data"
    }
   ],
   "source": [
    "fig, ax = pl.subplots(figsize=(4, 4)) \n",
    "college.hist('Books', color='black', bins=100, ax=ax);"
   ]
  }
 ],
 "metadata": {
  "kernelspec": {
   "display_name": "Python [conda env:base] *",
   "language": "python",
   "name": "conda-base-py"
  },
  "language_info": {
   "codemirror_mode": {
    "name": "ipython",
    "version": 3
   },
   "file_extension": ".py",
   "mimetype": "text/x-python",
   "name": "python",
   "nbconvert_exporter": "python",
   "pygments_lexer": "ipython3",
   "version": "3.12.7"
  }
 },
 "nbformat": 4,
 "nbformat_minor": 4
}
