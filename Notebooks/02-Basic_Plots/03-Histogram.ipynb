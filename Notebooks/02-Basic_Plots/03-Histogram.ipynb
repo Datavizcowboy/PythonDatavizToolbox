{
 "cells": [
  {
   "cell_type": "markdown",
   "id": "83bf0dab",
   "metadata": {},
   "source": [
    "# Histogram Plot"
   ]
  },
  {
   "cell_type": "markdown",
   "id": "01deafd7",
   "metadata": {},
   "source": [
    "In this notebook we create a simple histogram to have an overview of the distribution of values for a particular dataset. We will use the worldwide airport database to this end. "
   ]
  },
  {
   "cell_type": "markdown",
   "id": "c6e3fa45",
   "metadata": {},
   "source": [
    "We first load useful libraries"
   ]
  },
  {
   "cell_type": "code",
   "execution_count": 7,
   "id": "a771c323",
   "metadata": {},
   "outputs": [],
   "source": [
    "import numpy as np\n",
    "import matplotlib.pyplot as pl\n",
    "pl.rcParams['figure.figsize'] = [12, 8]"
   ]
  },
  {
   "cell_type": "markdown",
   "id": "65607889",
   "metadata": {},
   "source": [
    "We read the data from the input netCDF file"
   ]
  },
  {
   "cell_type": "code",
   "execution_count": 8,
   "id": "808dd48c",
   "metadata": {},
   "outputs": [],
   "source": [
    "data_path = '../../DATA/airports.csv'"
   ]
  },
  {
   "cell_type": "markdown",
   "id": "0b3de21c",
   "metadata": {},
   "source": [
    "We create an empty array to store the elevation data"
   ]
  },
  {
   "cell_type": "code",
   "execution_count": 9,
   "id": "7300efc2",
   "metadata": {},
   "outputs": [],
   "source": [
    "elevation=[]"
   ]
  },
  {
   "cell_type": "markdown",
   "id": "5dcd300a",
   "metadata": {},
   "source": [
    "The input data is read file by file and stored into the empty array"
   ]
  },
  {
   "cell_type": "code",
   "execution_count": 10,
   "id": "5ce403ed",
   "metadata": {},
   "outputs": [],
   "source": [
    "fp = open(data_path, 'r')  \n",
    "\n",
    "for g in fp.readlines()[1:]:\n",
    "    line =g.strip()\n",
    "    data=line.split(',')\n",
    "    if data[5]:\n",
    "        elevation.append(float(data[5]))\n",
    "    \n",
    "fp.close()"
   ]
  },
  {
   "cell_type": "markdown",
   "id": "9dbec61f",
   "metadata": {},
   "source": [
    "We filter the elevation to those realistic values above 0m above sea level"
   ]
  },
  {
   "cell_type": "code",
   "execution_count": 11,
   "id": "efb6d14b",
   "metadata": {},
   "outputs": [],
   "source": [
    "elevation=[i for i in elevation if i>0]"
   ]
  },
  {
   "cell_type": "markdown",
   "id": "09d63c6c",
   "metadata": {},
   "source": [
    "We create the histogram with 20 bin intervals"
   ]
  },
  {
   "cell_type": "code",
   "execution_count": 12,
   "id": "185a87eb",
   "metadata": {},
   "outputs": [
    {
     "data": {
      "image/png": "[encoded data removed]",
      "text/plain": [
       "<Figure size 864x576 with 1 Axes>"
      ]
     },
     "metadata": {
      "needs_background": "light"
     },
     "output_type": "display_data"
    }
   ],
   "source": [
    "fig, ax = pl.subplots(1,1)\n",
    "pl.hist(elevation, bins=20, color='k')\n",
    "ax.grid(linestyle='dotted',linewidth=.2, alpha=0.8)    \n",
    "ax.set_xlabel('Elevation', fontsize=12,linespacing=4.2)\n",
    "ax.set_ylabel('Quantity', fontsize=12)\n",
    "pl.title('Airports Elevation')\n",
    "pl.show()"
   ]
  },
  {
   "cell_type": "code",
   "execution_count": null,
   "id": "b26e3b72",
   "metadata": {},
   "outputs": [],
   "source": []
  }
 ],
 "metadata": {
  "kernelspec": {
   "display_name": "Python 3 (ipykernel)",
   "language": "python",
   "name": "python3"
  },
  "language_info": {
   "codemirror_mode": {
    "name": "ipython",
    "version": 3
   },
   "file_extension": ".py",
   "mimetype": "text/x-python",
   "name": "python",
   "nbconvert_exporter": "python",
   "pygments_lexer": "ipython3",
   "version": "3.10.4"
  }
 },
 "nbformat": 4,
 "nbformat_minor": 5
}
