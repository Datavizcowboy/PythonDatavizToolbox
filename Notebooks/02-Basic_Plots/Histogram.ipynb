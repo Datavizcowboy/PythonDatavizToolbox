{
 "cells": [
  {
   "cell_type": "markdown",
   "id": "83bf0dab",
   "metadata": {},
   "source": [
    "# Histogram Plot"
   ]
  },
  {
   "cell_type": "markdown",
   "id": "c6e3fa45",
   "metadata": {},
   "source": [
    "We first load useful libraries"
   ]
  },
  {
   "cell_type": "code",
   "execution_count": 9,
   "id": "a771c323",
   "metadata": {},
   "outputs": [],
   "source": [
    "from netCDF4 import Dataset\n",
    "import numpy as np\n",
    "import matplotlib.pyplot as pl"
   ]
  },
  {
   "cell_type": "markdown",
   "id": "65607889",
   "metadata": {},
   "source": [
    "We read the data from the input netCDF file"
   ]
  },
  {
   "cell_type": "code",
   "execution_count": 10,
   "id": "808dd48c",
   "metadata": {},
   "outputs": [],
   "source": [
    "data = Dataset('../DATA/Fire_2021_07_15.nc','r')\n",
    "fwi = data.variables['fwi'][:,:,:]\n",
    "data.close()"
   ]
  },
  {
   "cell_type": "markdown",
   "id": "09d63c6c",
   "metadata": {},
   "source": [
    "We create the histogram starting from 1 to avoir the 0 from the ocean."
   ]
  },
  {
   "cell_type": "code",
   "execution_count": 17,
   "id": "3ac1e0cc",
   "metadata": {},
   "outputs": [],
   "source": [
    "hist, bins = np.histogram(fwi, bins=np.linspace(1,150))\n",
    "width = 0.7 * (bins[1] - bins[0])\n",
    "center = (bins[:-1] + bins[1:]) / 2 "
   ]
  },
  {
   "cell_type": "markdown",
   "id": "21404463",
   "metadata": {},
   "source": [
    "And we plot the ouput"
   ]
  },
  {
   "cell_type": "code",
   "execution_count": 18,
   "id": "185a87eb",
   "metadata": {},
   "outputs": [
    {
     "data": {
      "image/png": "[encoded data removed]",
      "text/plain": [
       "<Figure size 432x288 with 1 Axes>"
      ]
     },
     "metadata": {
      "needs_background": "light"
     },
     "output_type": "display_data"
    }
   ],
   "source": [
    "fig, ax = pl.subplots(1,1)\n",
    "pl.bar(center, hist, align='center', width=width)\n",
    "ax.grid(linestyle='dotted',linewidth=.2, alpha=0.8)    \n",
    "ax.set_xlabel('Fire Weather Index', fontsize=12,linespacing=4.2)\n",
    "ax.set_ylabel('Quantity', fontsize=12)\n",
    "pl.title('FWI Histogram')\n",
    "pl.show()"
   ]
  }
 ],
 "metadata": {
  "kernelspec": {
   "display_name": "Python 3 (ipykernel)",
   "language": "python",
   "name": "python3"
  },
  "language_info": {
   "codemirror_mode": {
    "name": "ipython",
    "version": 3
   },
   "file_extension": ".py",
   "mimetype": "text/x-python",
   "name": "python",
   "nbconvert_exporter": "python",
   "pygments_lexer": "ipython3",
   "version": "3.10.4"
  }
 },
 "nbformat": 4,
 "nbformat_minor": 5
}
