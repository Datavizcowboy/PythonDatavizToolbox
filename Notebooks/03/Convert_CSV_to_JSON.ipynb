{
 "cells": [
  {
   "cell_type": "markdown",
   "id": "83bf0dab",
   "metadata": {},
   "source": [
    "# Convert CSV to JSON"
   ]
  },
  {
   "cell_type": "markdown",
   "id": "c6e3fa45",
   "metadata": {},
   "source": [
    "We first load useful libraries"
   ]
  },
  {
   "cell_type": "code",
   "execution_count": 9,
   "id": "a771c323",
   "metadata": {},
   "outputs": [],
   "source": [
    "import pandas as pd"
   ]
  },
  {
   "cell_type": "markdown",
   "id": "65607889",
   "metadata": {},
   "source": [
    "We specify the data path"
   ]
  },
  {
   "cell_type": "code",
   "execution_count": 10,
   "id": "808dd48c",
   "metadata": {},
   "outputs": [],
   "source": [
    "fronts = '../DATA/airports.v3.csv'"
   ]
  },
  {
   "cell_type": "markdown",
   "id": "09d63c6c",
   "metadata": {},
   "source": [
    "We create empty arrays to store the results"
   ]
  },
  {
   "cell_type": "code",
   "execution_count": 11,
   "id": "3ac1e0cc",
   "metadata": {},
   "outputs": [],
   "source": [
    "lat=[]\n",
    "lon=[]\n",
    "code=[]\n",
    "name=[]"
   ]
  },
  {
   "cell_type": "markdown",
   "id": "2f700b62",
   "metadata": {},
   "source": [
    "We open the CSV file"
   ]
  },
  {
   "cell_type": "code",
   "execution_count": 12,
   "id": "f5a840de",
   "metadata": {},
   "outputs": [],
   "source": [
    "fp = open(fronts, 'r')  "
   ]
  },
  {
   "cell_type": "markdown",
   "id": "425d521d",
   "metadata": {},
   "source": [
    "We split each line into the fields we assign for each array"
   ]
  },
  {
   "cell_type": "code",
   "execution_count": 13,
   "id": "e26beb59",
   "metadata": {},
   "outputs": [],
   "source": [
    "for g in fp.readlines():\n",
    "    model_name=g.strip()\n",
    "    data=model_name.split(',')\n",
    "\n",
    "    code.append(data[1])\n",
    "    name.append(data[2])\n",
    "    lat.append(data[3])\n",
    "    lon.append(data[4])\n",
    "    \n",
    "fp.close()"
   ]
  },
  {
   "cell_type": "markdown",
   "id": "b4e0b962",
   "metadata": {},
   "source": [
    "We store the arrays in pandas and we save the output in JSON format"
   ]
  },
  {
   "cell_type": "code",
   "execution_count": 14,
   "id": "c07ac2d2",
   "metadata": {},
   "outputs": [],
   "source": [
    "mypanda=pd.DataFrame({\"lat\":lat[:],\"lon\":lon[:],\"code\":code[:],\"name\":name[:]})  \n",
    "mypanda.reset_index().to_json(orient='records',path_or_buf='../DATA/All_airports.json')"
   ]
  }
 ],
 "metadata": {
  "kernelspec": {
   "display_name": "Python 3 (ipykernel)",
   "language": "python",
   "name": "python3"
  },
  "language_info": {
   "codemirror_mode": {
    "name": "ipython",
    "version": 3
   },
   "file_extension": ".py",
   "mimetype": "text/x-python",
   "name": "python",
   "nbconvert_exporter": "python",
   "pygments_lexer": "ipython3",
   "version": "3.10.4"
  }
 },
 "nbformat": 4,
 "nbformat_minor": 5
}
