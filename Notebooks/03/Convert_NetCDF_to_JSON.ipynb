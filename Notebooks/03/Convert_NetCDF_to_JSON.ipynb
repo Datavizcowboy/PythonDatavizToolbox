{
 "cells": [
  {
   "cell_type": "markdown",
   "id": "83bf0dab",
   "metadata": {},
   "source": [
    "# Convert NetCDF to JSON"
   ]
  },
  {
   "cell_type": "markdown",
   "id": "c6e3fa45",
   "metadata": {},
   "source": [
    "We first load useful libraries"
   ]
  },
  {
   "cell_type": "code",
   "execution_count": 11,
   "id": "a771c323",
   "metadata": {},
   "outputs": [],
   "source": [
    "import pandas as pd\n",
    "import netCDF4\n",
    "import warnings\n",
    "warnings.filterwarnings(\"ignore\")"
   ]
  },
  {
   "cell_type": "markdown",
   "id": "65607889",
   "metadata": {},
   "source": [
    "We open the file as NetCDF format"
   ]
  },
  {
   "cell_type": "code",
   "execution_count": 12,
   "id": "808dd48c",
   "metadata": {},
   "outputs": [],
   "source": [
    "data = netCDF4.Dataset('../DATA/Fire_2021_07_15.nc')"
   ]
  },
  {
   "cell_type": "markdown",
   "id": "09d63c6c",
   "metadata": {},
   "source": [
    "We extract the coordinates and the variables to be included into the JSON file"
   ]
  },
  {
   "cell_type": "code",
   "execution_count": 13,
   "id": "3ac1e0cc",
   "metadata": {},
   "outputs": [],
   "source": [
    "lons = data.variables['longitude'][:]\n",
    "lats = data.variables['latitude'][:]\n",
    "fwi = data.variables['fwi'][:,:,:]"
   ]
  },
  {
   "cell_type": "markdown",
   "id": "21404463",
   "metadata": {},
   "source": [
    "We create empty arrays to store the coordinates and the variable"
   ]
  },
  {
   "cell_type": "code",
   "execution_count": 14,
   "id": "185a87eb",
   "metadata": {},
   "outputs": [],
   "source": [
    "lati=[]\n",
    "loni=[]\n",
    "fwi_json=[]"
   ]
  },
  {
   "cell_type": "markdown",
   "id": "34a7d0ec",
   "metadata": {},
   "source": [
    "We assign the values to the arrays iterating along the coordinates length every other two gridpoints "
   ]
  },
  {
   "cell_type": "code",
   "execution_count": 15,
   "id": "2b23ccc2",
   "metadata": {},
   "outputs": [],
   "source": [
    "for j in range(0,len(fwi[0]),2):\n",
    "    for i in range(0,len(fwi[0][0]),2):\n",
    "         lati.append(float(lats[j]))\n",
    "         if lons[i] > 180:\n",
    "             loni.append(float(lons[i])-360)\n",
    "         else: \n",
    "             loni.append(float(lons[i]))\n",
    "         fwi_json.append(fwi[0,j,i].data.tolist())"
   ]
  },
  {
   "cell_type": "markdown",
   "id": "d1e3249f",
   "metadata": {},
   "source": [
    "We store the arrays in pandas"
   ]
  },
  {
   "cell_type": "code",
   "execution_count": 16,
   "id": "64e53047",
   "metadata": {},
   "outputs": [],
   "source": [
    "panda = pd.DataFrame({\"lat\":lati[:],\"lon\":loni[:],\"fwi\":fwi_json[:]})\n",
    "panda.reset_index().to_json(orient='records',path_or_buf='../DATA/Fire_Weather_Index.json') "
   ]
  }
 ],
 "metadata": {
  "kernelspec": {
   "display_name": "Python 3 (ipykernel)",
   "language": "python",
   "name": "python3"
  },
  "language_info": {
   "codemirror_mode": {
    "name": "ipython",
    "version": 3
   },
   "file_extension": ".py",
   "mimetype": "text/x-python",
   "name": "python",
   "nbconvert_exporter": "python",
   "pygments_lexer": "ipython3",
   "version": "3.10.4"
  }
 },
 "nbformat": 4,
 "nbformat_minor": 5
}
