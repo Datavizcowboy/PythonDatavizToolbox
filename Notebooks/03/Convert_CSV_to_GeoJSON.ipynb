{
 "cells": [
  {
   "cell_type": "markdown",
   "id": "83bf0dab",
   "metadata": {},
   "source": [
    "# Convert CSV to GeoJSON"
   ]
  },
  {
   "cell_type": "markdown",
   "id": "c6e3fa45",
   "metadata": {},
   "source": [
    "We first load useful libraries"
   ]
  },
  {
   "cell_type": "code",
   "execution_count": 7,
   "id": "a771c323",
   "metadata": {},
   "outputs": [],
   "source": [
    "import csv, json\n",
    "from geojson import Feature, FeatureCollection, Point, MultiPolygon"
   ]
  },
  {
   "cell_type": "markdown",
   "id": "65607889",
   "metadata": {},
   "source": [
    "We specify the data path"
   ]
  },
  {
   "cell_type": "code",
   "execution_count": 8,
   "id": "808dd48c",
   "metadata": {},
   "outputs": [],
   "source": [
    "fronts = '../DATA/vcz01_ash_conc_ce02fl000-550dt202303100900vt202303101500it100952_t006_1.csv'"
   ]
  },
  {
   "cell_type": "markdown",
   "id": "09d63c6c",
   "metadata": {},
   "source": [
    "We create the array with the lat/lon pairs"
   ]
  },
  {
   "cell_type": "code",
   "execution_count": 9,
   "id": "3ac1e0cc",
   "metadata": {},
   "outputs": [],
   "source": [
    "data=[]\n",
    "\n",
    "with open(fronts, newline='') as csvfile:\n",
    "    reader = csv.reader(csvfile, delimiter=',')\n",
    "    for latitude, longitude in reader:\n",
    "        lati = float(latitude[1:])/10000\n",
    "        loni = float(longitude[1:])/10000\n",
    "        latitude, longitude = map(float, (lati, loni))\n",
    "        data.append([(-1)*longitude,latitude]) "
   ]
  },
  {
   "cell_type": "markdown",
   "id": "2f700b62",
   "metadata": {},
   "source": [
    "We create the json structure with the features and geometries"
   ]
  },
  {
   "cell_type": "code",
   "execution_count": 10,
   "id": "f5a840de",
   "metadata": {},
   "outputs": [],
   "source": [
    "features = []\n",
    "features.append(\n",
    "    Feature(\n",
    "        geometry = MultiPolygon([[data]]),\n",
    "        properties = {\n",
    "            'weather': 0,\n",
    "            'temp': 0\n",
    "        }\n",
    "    )\n",
    ")"
   ]
  },
  {
   "cell_type": "markdown",
   "id": "425d521d",
   "metadata": {},
   "source": [
    "We save the output as a geojson file"
   ]
  },
  {
   "cell_type": "code",
   "execution_count": 11,
   "id": "e26beb59",
   "metadata": {},
   "outputs": [],
   "source": [
    "collection = FeatureCollection(features)\n",
    "with open(\"../DATA/Eyjal_1_multipolygon.json\", \"w\") as f:\n",
    "    f.write('%s' % collection)"
   ]
  }
 ],
 "metadata": {
  "kernelspec": {
   "display_name": "Python 3 (ipykernel)",
   "language": "python",
   "name": "python3"
  },
  "language_info": {
   "codemirror_mode": {
    "name": "ipython",
    "version": 3
   },
   "file_extension": ".py",
   "mimetype": "text/x-python",
   "name": "python",
   "nbconvert_exporter": "python",
   "pygments_lexer": "ipython3",
   "version": "3.10.4"
  }
 },
 "nbformat": 4,
 "nbformat_minor": 5
}
