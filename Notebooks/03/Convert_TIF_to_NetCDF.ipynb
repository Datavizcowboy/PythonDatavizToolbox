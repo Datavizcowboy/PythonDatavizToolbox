{
 "cells": [
  {
   "cell_type": "markdown",
   "id": "83bf0dab",
   "metadata": {},
   "source": [
    "# Convert TIF to NetCDF"
   ]
  },
  {
   "cell_type": "markdown",
   "id": "c6e3fa45",
   "metadata": {},
   "source": [
    "We first load useful libraries"
   ]
  },
  {
   "cell_type": "code",
   "execution_count": 2,
   "id": "a771c323",
   "metadata": {},
   "outputs": [],
   "source": [
    "import numpy as np\n",
    "import rasterio\n",
    "from netCDF4 import Dataset"
   ]
  },
  {
   "cell_type": "markdown",
   "id": "65607889",
   "metadata": {},
   "source": [
    "We specify the data path"
   ]
  },
  {
   "cell_type": "code",
   "execution_count": 5,
   "id": "808dd48c",
   "metadata": {},
   "outputs": [],
   "source": [
    "dat = rasterio.open(r\"../DATA/Lan_Nat.tif\")\n",
    "maparray = dat.read()[0]"
   ]
  },
  {
   "cell_type": "markdown",
   "id": "09d63c6c",
   "metadata": {},
   "source": [
    "We set to zero all the NaN values labelled as 255"
   ]
  },
  {
   "cell_type": "code",
   "execution_count": 6,
   "id": "3ac1e0cc",
   "metadata": {},
   "outputs": [],
   "source": [
    "maparray[maparray==255]=0"
   ]
  },
  {
   "cell_type": "markdown",
   "id": "2f700b62",
   "metadata": {},
   "source": [
    "We flip the map upside down to correct default ordering"
   ]
  },
  {
   "cell_type": "code",
   "execution_count": 7,
   "id": "f5a840de",
   "metadata": {},
   "outputs": [],
   "source": [
    "maparray = np.flipud(maparray)  "
   ]
  },
  {
   "cell_type": "markdown",
   "id": "6992b5f5",
   "metadata": {},
   "source": [
    "We extract the latitude and longitude from the input array"
   ]
  },
  {
   "cell_type": "code",
   "execution_count": 11,
   "id": "68ccf071",
   "metadata": {},
   "outputs": [],
   "source": [
    "loni = np.linspace(dat.bounds.left, dat.bounds.right,len(maparray[0]))\n",
    "lati = np.linspace(dat.bounds.bottom, dat.bounds.top,len(maparray))\n",
    "lons, lats = np.meshgrid(loni,lati)"
   ]
  },
  {
   "cell_type": "markdown",
   "id": "425d521d",
   "metadata": {},
   "source": [
    "We build the NetCDF file"
   ]
  },
  {
   "cell_type": "code",
   "execution_count": 12,
   "id": "b13b1860",
   "metadata": {},
   "outputs": [],
   "source": [
    "ny, nx = (len(lats), len(lons[0]))\n",
    "lon = loni\n",
    "lat = lati\n",
    "dataout = maparray\n",
    "ncout = Dataset('landslide_nat_mon.nc','w','NETCDF3'); \n",
    "ncout.createDimension('lon',nx);\n",
    "ncout.createDimension('lat',ny);\n",
    "lonvar = ncout.createVariable('lon','float32',('lon'));lonvar[:] = lon;\n",
    "latvar = ncout.createVariable('lat','float32',('lat'));latvar[:] = lat;\n",
    "myvar = ncout.createVariable('myvar','float32',('lat','lon'));myvar.setncattr('units','mm');myvar[:] = dataout;\n",
    "ncout.close();"
   ]
  }
 ],
 "metadata": {
  "kernelspec": {
   "display_name": "Python 3 (ipykernel)",
   "language": "python",
   "name": "python3"
  },
  "language_info": {
   "codemirror_mode": {
    "name": "ipython",
    "version": 3
   },
   "file_extension": ".py",
   "mimetype": "text/x-python",
   "name": "python",
   "nbconvert_exporter": "python",
   "pygments_lexer": "ipython3",
   "version": "3.10.4"
  }
 },
 "nbformat": 4,
 "nbformat_minor": 5
}
