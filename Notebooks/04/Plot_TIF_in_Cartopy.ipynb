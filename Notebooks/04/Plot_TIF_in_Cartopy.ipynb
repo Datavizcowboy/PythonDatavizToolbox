{
 "cells": [
  {
   "cell_type": "markdown",
   "id": "83bf0dab",
   "metadata": {},
   "source": [
    "# Plot TIF in Cartopy"
   ]
  },
  {
   "cell_type": "markdown",
   "id": "c6e3fa45",
   "metadata": {},
   "source": [
    "We first load useful libraries"
   ]
  },
  {
   "cell_type": "code",
   "execution_count": 7,
   "id": "a771c323",
   "metadata": {},
   "outputs": [],
   "source": [
    "import matplotlib.pyplot as plt\n",
    "import cartopy.crs as ccrs\n",
    "import numpy as np\n",
    "import rasterio"
   ]
  },
  {
   "cell_type": "markdown",
   "id": "65607889",
   "metadata": {},
   "source": [
    "We open the dataset"
   ]
  },
  {
   "cell_type": "code",
   "execution_count": 8,
   "id": "808dd48c",
   "metadata": {},
   "outputs": [],
   "source": [
    "dat = rasterio.open(r\"../Data/Lan_Nat.tif\")\n",
    "maparray = dat.read()[0]"
   ]
  },
  {
   "cell_type": "markdown",
   "id": "09d63c6c",
   "metadata": {},
   "source": [
    "We assign values to zero and flip the array upside down for accuracy"
   ]
  },
  {
   "cell_type": "code",
   "execution_count": 9,
   "id": "3ac1e0cc",
   "metadata": {},
   "outputs": [],
   "source": [
    "maparray[maparray==255]=0\n",
    "maparray = np.flipud(maparray) "
   ]
  },
  {
   "cell_type": "markdown",
   "id": "4ac98e4c",
   "metadata": {},
   "source": [
    "We create a grid with the native longitudes and latitudes from the boundaries"
   ]
  },
  {
   "cell_type": "code",
   "execution_count": 10,
   "id": "c5aa17ca",
   "metadata": {},
   "outputs": [],
   "source": [
    "loni = np.linspace(dat.bounds.left, dat.bounds.right,len(maparray[0]))\n",
    "lati = np.linspace(dat.bounds.bottom, dat.bounds.top,len(maparray))\n",
    "lons, lats = np.meshgrid(loni,lati)"
   ]
  },
  {
   "cell_type": "markdown",
   "id": "70c7eaba",
   "metadata": {},
   "source": [
    "We plot the variable"
   ]
  },
  {
   "cell_type": "code",
   "execution_count": 11,
   "id": "9cbd9788",
   "metadata": {},
   "outputs": [
    {
     "data": {
      "image/png": "[encoded data removed]",
      "text/plain": [
       "<Figure size 432x288 with 1 Axes>"
      ]
     },
     "metadata": {
      "needs_background": "light"
     },
     "output_type": "display_data"
    }
   ],
   "source": [
    "ax = plt.axes(projection=ccrs.PlateCarree())\n",
    "plt.contourf(lons, lats, maparray, 60,\n",
    "             transform=ccrs.PlateCarree())\n",
    "ax.coastlines()\n",
    "plt.title('Cartopy Example')\n",
    "plt.show()"
   ]
  },
  {
   "cell_type": "code",
   "execution_count": null,
   "id": "d890d84d",
   "metadata": {},
   "outputs": [],
   "source": []
  }
 ],
 "metadata": {
  "kernelspec": {
   "display_name": "Python 3 (ipykernel)",
   "language": "python",
   "name": "python3"
  },
  "language_info": {
   "codemirror_mode": {
    "name": "ipython",
    "version": 3
   },
   "file_extension": ".py",
   "mimetype": "text/x-python",
   "name": "python",
   "nbconvert_exporter": "python",
   "pygments_lexer": "ipython3",
   "version": "3.10.4"
  }
 },
 "nbformat": 4,
 "nbformat_minor": 5
}
