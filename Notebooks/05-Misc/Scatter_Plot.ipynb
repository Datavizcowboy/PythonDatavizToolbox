{
 "cells": [
  {
   "cell_type": "markdown",
   "id": "83bf0dab",
   "metadata": {},
   "source": [
    "# Scatter Plot"
   ]
  },
  {
   "cell_type": "markdown",
   "id": "c6e3fa45",
   "metadata": {},
   "source": [
    "We first load useful libraries"
   ]
  },
  {
   "cell_type": "code",
   "execution_count": 2,
   "id": "a771c323",
   "metadata": {},
   "outputs": [],
   "source": [
    "import numpy as np\n",
    "import matplotlib.pyplot as pl"
   ]
  },
  {
   "cell_type": "markdown",
   "id": "65607889",
   "metadata": {},
   "source": [
    "We then generate some random numbers"
   ]
  },
  {
   "cell_type": "code",
   "execution_count": 3,
   "id": "808dd48c",
   "metadata": {},
   "outputs": [],
   "source": [
    "x= np.random.rand(10,1)\n",
    "y= np.random.rand(10,1)"
   ]
  },
  {
   "cell_type": "markdown",
   "id": "09d63c6c",
   "metadata": {},
   "source": [
    "And we create the scatter plot between the x and y data."
   ]
  },
  {
   "cell_type": "code",
   "execution_count": 4,
   "id": "3ac1e0cc",
   "metadata": {},
   "outputs": [
    {
     "data": {
      "image/png": "[encoded data removed]",
      "text/plain": [
       "<Figure size 432x288 with 1 Axes>"
      ]
     },
     "metadata": {
      "needs_background": "light"
     },
     "output_type": "display_data"
    }
   ],
   "source": [
    "fig, ax = pl.subplots(1,1)\n",
    "ax.scatter(x,y)\n",
    "ax.grid(linestyle='dotted',linewidth=.2, alpha=0.8)    \n",
    "ax.set_xlabel('X values', fontsize=12,linespacing=4.2)\n",
    "ax.set_ylabel('Y values', fontsize=12)\n",
    "pl.title('Scatter Plot')\n",
    "pl.show() "
   ]
  }
 ],
 "metadata": {
  "kernelspec": {
   "display_name": "Python 3 (ipykernel)",
   "language": "python",
   "name": "python3"
  },
  "language_info": {
   "codemirror_mode": {
    "name": "ipython",
    "version": 3
   },
   "file_extension": ".py",
   "mimetype": "text/x-python",
   "name": "python",
   "nbconvert_exporter": "python",
   "pygments_lexer": "ipython3",
   "version": "3.10.5"
  }
 },
 "nbformat": 4,
 "nbformat_minor": 5
}
