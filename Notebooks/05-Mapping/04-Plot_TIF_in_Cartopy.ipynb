{
 "cells": [
  {
   "cell_type": "markdown",
   "id": "83bf0dab",
   "metadata": {},
   "source": [
    "# Read a TIF file, create a mesh grid and plot the variable in Cartopy"
   ]
  },
  {
   "cell_type": "markdown",
   "id": "b385fb06",
   "metadata": {},
   "source": [
    "In this notebook we open a TIF file, we flip it upside down for accuracy purposes, we create a mesh grid using the length of the variable and the boundaries of the TIF file and we plot the outcome using the Cartopy package. "
   ]
  },
  {
   "cell_type": "markdown",
   "id": "c6e3fa45",
   "metadata": {},
   "source": [
    "We first load useful libraries"
   ]
  },
  {
   "cell_type": "code",
   "execution_count": 1,
   "id": "a771c323",
   "metadata": {},
   "outputs": [
    {
     "name": "stderr",
     "output_type": "stream",
     "text": [
      "/opt/anaconda3/envs/geo_env/lib/python3.10/site-packages/pyproj/__init__.py:89: UserWarning: pyproj unable to set database path.\n",
      "  _pyproj_global_context_initialize()\n"
     ]
    }
   ],
   "source": [
    "import matplotlib.pyplot as plt\n",
    "import cartopy.crs as ccrs\n",
    "import numpy as np\n",
    "import rasterio"
   ]
  },
  {
   "cell_type": "markdown",
   "id": "65607889",
   "metadata": {},
   "source": [
    "We open the dataset using Rasterio"
   ]
  },
  {
   "cell_type": "code",
   "execution_count": 5,
   "id": "808dd48c",
   "metadata": {},
   "outputs": [
    {
     "data": {
      "text/plain": [
       "array([[[210, 210, 210, ..., 120, 120, 120],\n",
       "        [210, 210, 210, ..., 120, 120,  30],\n",
       "        [210, 210, 210, ..., 120,  30,  30],\n",
       "        ...,\n",
       "        [210, 210, 210, ..., 120, 100, 100],\n",
       "        [210, 210, 210, ..., 100, 120, 100],\n",
       "        [210, 210, 210, ..., 100, 100, 100]]], dtype=uint8)"
      ]
     },
     "execution_count": 5,
     "metadata": {},
     "output_type": "execute_result"
    }
   ],
   "source": [
    "dat = rasterio.open(r\"../../DATA/chile_esa_cci.tif\")\n",
    "dat.read()"
   ]
  },
  {
   "cell_type": "markdown",
   "id": "df7d7563",
   "metadata": {},
   "source": [
    "We define the variable as the first element in the time dimension. "
   ]
  },
  {
   "cell_type": "code",
   "execution_count": 6,
   "id": "e02d4070",
   "metadata": {},
   "outputs": [],
   "source": [
    "maparray = dat.read()[0]"
   ]
  },
  {
   "cell_type": "markdown",
   "id": "09d63c6c",
   "metadata": {},
   "source": [
    "We flip the array upside down for accuracy"
   ]
  },
  {
   "cell_type": "code",
   "execution_count": 7,
   "id": "3ac1e0cc",
   "metadata": {},
   "outputs": [],
   "source": [
    "maparray = np.flipud(maparray) "
   ]
  },
  {
   "cell_type": "markdown",
   "id": "4ac98e4c",
   "metadata": {},
   "source": [
    "We create a grid with the native longitudes and latitudes from the boundaries"
   ]
  },
  {
   "cell_type": "code",
   "execution_count": 8,
   "id": "c5aa17ca",
   "metadata": {},
   "outputs": [],
   "source": [
    "loni = np.linspace(dat.bounds.left, dat.bounds.right,len(maparray[0]))\n",
    "lati = np.linspace(dat.bounds.bottom, dat.bounds.top,len(maparray))\n",
    "lons, lats = np.meshgrid(loni,lati)"
   ]
  },
  {
   "cell_type": "markdown",
   "id": "70c7eaba",
   "metadata": {},
   "source": [
    "We plot the variable using the Cartopy projection"
   ]
  },
  {
   "cell_type": "code",
   "execution_count": null,
   "id": "9cbd9788",
   "metadata": {},
   "outputs": [],
   "source": [
    "ax = plt.axes(projection=ccrs.PlateCarree())\n",
    "plt.contourf(lons, lats, maparray, 60,\n",
    "             transform=ccrs.PlateCarree())\n",
    "ax.coastlines()\n",
    "plt.title('Cartopy Example')\n",
    "plt.show()"
   ]
  },
  {
   "cell_type": "code",
   "execution_count": null,
   "id": "d890d84d",
   "metadata": {},
   "outputs": [],
   "source": []
  }
 ],
 "metadata": {
  "kernelspec": {
   "display_name": "Python 3 (ipykernel)",
   "language": "python",
   "name": "python3"
  },
  "language_info": {
   "codemirror_mode": {
    "name": "ipython",
    "version": 3
   },
   "file_extension": ".py",
   "mimetype": "text/x-python",
   "name": "python",
   "nbconvert_exporter": "python",
   "pygments_lexer": "ipython3",
   "version": "3.10.4"
  }
 },
 "nbformat": 4,
 "nbformat_minor": 5
}
