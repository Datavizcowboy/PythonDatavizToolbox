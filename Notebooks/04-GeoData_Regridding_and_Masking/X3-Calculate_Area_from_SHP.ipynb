{
 "cells": [
  {
   "cell_type": "markdown",
   "id": "83bf0dab",
   "metadata": {},
   "source": [
    "# Calculate Area from SHP"
   ]
  },
  {
   "cell_type": "markdown",
   "id": "c6e3fa45",
   "metadata": {},
   "source": [
    "We first load useful libraries"
   ]
  },
  {
   "cell_type": "code",
   "execution_count": 2,
   "id": "a771c323",
   "metadata": {},
   "outputs": [
    {
     "name": "stderr",
     "output_type": "stream",
     "text": [
      "/opt/anaconda3/envs/geo_env/lib/python3.10/site-packages/pyproj/__init__.py:89: UserWarning: pyproj unable to set database path.\n",
      "  _pyproj_global_context_initialize()\n"
     ]
    }
   ],
   "source": [
    "import geopandas as gpd\n",
    "import warnings\n",
    "warnings.filterwarnings(\"ignore\")"
   ]
  },
  {
   "cell_type": "markdown",
   "id": "344ee0b1",
   "metadata": {},
   "source": [
    "We create an array to store all the areas from the polygons"
   ]
  },
  {
   "cell_type": "code",
   "execution_count": null,
   "id": "b9bc9681",
   "metadata": {},
   "outputs": [],
   "source": [
    "areas = []"
   ]
  },
  {
   "cell_type": "markdown",
   "id": "59c747d7",
   "metadata": {},
   "source": [
    "We now read the SHP file"
   ]
  },
  {
   "cell_type": "code",
   "execution_count": null,
   "id": "2965f497",
   "metadata": {},
   "outputs": [],
   "source": [
    "reader = r'../../DATA/Fire_Perimeter.shp' \n",
    "data = gpd.read_file(reader)\n",
    "selection = data[:]"
   ]
  },
  {
   "cell_type": "markdown",
   "id": "3d53d818",
   "metadata": {},
   "source": [
    "We iterate over the polygons and extract the area"
   ]
  },
  {
   "cell_type": "code",
   "execution_count": null,
   "id": "e14955a2",
   "metadata": {},
   "outputs": [],
   "source": [
    "for index, row in selection.iterrows():\n",
    "    poly_area = row['geometry'].area\n",
    "    areas.append(poly_area)"
   ]
  },
  {
   "cell_type": "markdown",
   "id": "34a7d0ec",
   "metadata": {},
   "source": [
    "We now sum all the elements in the areas array"
   ]
  },
  {
   "cell_type": "code",
   "execution_count": 7,
   "id": "2b23ccc2",
   "metadata": {},
   "outputs": [
    {
     "data": {
      "text/plain": [
       "0.046280890718582234"
      ]
     },
     "execution_count": 7,
     "metadata": {},
     "output_type": "execute_result"
    }
   ],
   "source": [
    "sum(areas)"
   ]
  }
 ],
 "metadata": {
  "kernelspec": {
   "display_name": "Python 3 (ipykernel)",
   "language": "python",
   "name": "python3"
  },
  "language_info": {
   "codemirror_mode": {
    "name": "ipython",
    "version": 3
   },
   "file_extension": ".py",
   "mimetype": "text/x-python",
   "name": "python",
   "nbconvert_exporter": "python",
   "pygments_lexer": "ipython3",
   "version": "3.10.4"
  }
 },
 "nbformat": 4,
 "nbformat_minor": 5
}
