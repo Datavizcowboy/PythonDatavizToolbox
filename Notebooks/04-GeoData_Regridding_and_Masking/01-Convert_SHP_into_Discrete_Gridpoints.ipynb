{
 "cells": [
  {
   "cell_type": "markdown",
   "id": "83bf0dab",
   "metadata": {},
   "source": [
    "# Read an SHP file and project it into discrete gridpoints"
   ]
  },
  {
   "cell_type": "markdown",
   "id": "f92cdba3",
   "metadata": {},
   "source": [
    "In this notebook we read an SHP file and we create a mesh grid of the same size and location as the SHP area. "
   ]
  },
  {
   "cell_type": "markdown",
   "id": "c6e3fa45",
   "metadata": {},
   "source": [
    "We first load useful libraries"
   ]
  },
  {
   "cell_type": "code",
   "execution_count": 1,
   "id": "a771c323",
   "metadata": {},
   "outputs": [
    {
     "name": "stderr",
     "output_type": "stream",
     "text": [
      "/opt/anaconda3/envs/geo_env/lib/python3.10/site-packages/pyproj/__init__.py:89: UserWarning: pyproj unable to set database path.\n",
      "  _pyproj_global_context_initialize()\n"
     ]
    }
   ],
   "source": [
    "import pandas as pd\n",
    "import numpy as np\n",
    "import geopandas as gp\n",
    "import shapely\n",
    "from shapely.geometry import Polygon\n",
    "from shapely.geometry import Point\n",
    "import matplotlib.pyplot as plt\n",
    "import warnings\n",
    "warnings.filterwarnings(\"ignore\")"
   ]
  },
  {
   "cell_type": "markdown",
   "id": "25090dfe",
   "metadata": {},
   "source": [
    "While we will have the SHP as a geopandas, we will be using its boundaries for plotting partial results"
   ]
  },
  {
   "cell_type": "code",
   "execution_count": 5,
   "id": "09331f4f",
   "metadata": {},
   "outputs": [],
   "source": [
    "perimeter = gp.read_file('../../DATA/Fire_Perimeter.shp')\n",
    "x_min, y_min, x_max, y_max = perimeter.total_bounds"
   ]
  },
  {
   "cell_type": "markdown",
   "id": "3f6092f6",
   "metadata": {},
   "source": [
    "The shapefile describes in this dataset the perimeter of the Paradise wildfire that occurred in California. "
   ]
  },
  {
   "cell_type": "code",
   "execution_count": 8,
   "id": "f058b463",
   "metadata": {},
   "outputs": [
    {
     "data": {
      "image/png": "[encoded data removed]",
      "text/plain": [
       "<Figure size 864x576 with 1 Axes>"
      ]
     },
     "metadata": {
      "needs_background": "light"
     },
     "output_type": "display_data"
    }
   ],
   "source": [
    "fig,ax = plt.subplots(dpi=144)\n",
    "ax.set_ylim(y_min,y_max)\n",
    "ax.set_xlim(x_min,x_max)\n",
    "perimeter.plot(ax=ax, color='grey');"
   ]
  },
  {
   "cell_type": "markdown",
   "id": "25ae685c",
   "metadata": {},
   "source": [
    "We now define a shapefile grid with the rectangles containing the original features, on which we will project the SHP features. "
   ]
  },
  {
   "cell_type": "code",
   "execution_count": 9,
   "id": "8b13c498",
   "metadata": {},
   "outputs": [],
   "source": [
    "n_cells=100\n",
    "cell_size = (x_max-x_min)/n_cells\n",
    "grid_cells = []\n",
    "\n",
    "for x0 in np.arange(x_min, x_max+cell_size, cell_size ):\n",
    "    for y0 in np.arange(y_min, y_max+cell_size, cell_size):\n",
    "        x1 = x0-cell_size\n",
    "        y1 = y0+cell_size\n",
    "        grid_cells.append(shapely.geometry.box(x0, y0, x1, y1)  )"
   ]
  },
  {
   "cell_type": "markdown",
   "id": "f84b2431",
   "metadata": {},
   "source": [
    "The variable grid_cells is a collection of rectangular polygons. "
   ]
  },
  {
   "cell_type": "code",
   "execution_count": 13,
   "id": "55a6e2b2",
   "metadata": {},
   "outputs": [
    {
     "data": {
      "image/svg+xml": [
       "<svg xmlns=\"http://www.w3.org/2000/svg\" xmlns:xlink=\"http://www.w3.org/1999/xlink\" width=\"100.0\" height=\"100.0\" viewBox=\"-121.78127393173116 39.60178301804888 0.0037922296824035584 0.0037922296824035584\" preserveAspectRatio=\"xMinYMin meet\"><g transform=\"matrix(1,0,0,-1,0,79.20735826578016)\"><path fill-rule=\"evenodd\" fill=\"#66cc99\" stroke=\"#555555\" stroke-width=\"7.584459364807117e-05\" opacity=\"0.6\" d=\"M -121.78113347877996,39.60192347100008 L -121.78113347877996,39.60543479478008 L -121.77762215499996,39.60543479478008 L -121.77762215499996,39.60192347100008 L -121.78113347877996,39.60192347100008 z\" /></g></svg>"
      ],
      "text/plain": [
       "<shapely.geometry.polygon.Polygon at 0x178bcfa60>"
      ]
     },
     "execution_count": 13,
     "metadata": {},
     "output_type": "execute_result"
    }
   ],
   "source": [
    "grid_cells[0]"
   ]
  },
  {
   "cell_type": "markdown",
   "id": "e0ba7d01",
   "metadata": {},
   "source": [
    "We now convert this shapefile into geopandas"
   ]
  },
  {
   "cell_type": "code",
   "execution_count": 15,
   "id": "5c8f7c9b",
   "metadata": {},
   "outputs": [
    {
     "data": {
      "text/html": [
       "<div>\n",
       "<style scoped>\n",
       "    .dataframe tbody tr th:only-of-type {\n",
       "        vertical-align: middle;\n",
       "    }\n",
       "\n",
       "    .dataframe tbody tr th {\n",
       "        vertical-align: top;\n",
       "    }\n",
       "\n",
       "    .dataframe thead th {\n",
       "        text-align: right;\n",
       "    }\n",
       "</style>\n",
       "<table border=\"1\" class=\"dataframe\">\n",
       "  <thead>\n",
       "    <tr style=\"text-align: right;\">\n",
       "      <th></th>\n",
       "      <th>geometry</th>\n",
       "    </tr>\n",
       "  </thead>\n",
       "  <tbody>\n",
       "    <tr>\n",
       "      <th>0</th>\n",
       "      <td>POLYGON ((-121.78113 39.60192, -121.78113 39.6...</td>\n",
       "    </tr>\n",
       "    <tr>\n",
       "      <th>1</th>\n",
       "      <td>POLYGON ((-121.78113 39.60543, -121.78113 39.6...</td>\n",
       "    </tr>\n",
       "    <tr>\n",
       "      <th>2</th>\n",
       "      <td>POLYGON ((-121.78113 39.60895, -121.78113 39.6...</td>\n",
       "    </tr>\n",
       "    <tr>\n",
       "      <th>3</th>\n",
       "      <td>POLYGON ((-121.78113 39.61246, -121.78113 39.6...</td>\n",
       "    </tr>\n",
       "    <tr>\n",
       "      <th>4</th>\n",
       "      <td>POLYGON ((-121.78113 39.61597, -121.78113 39.6...</td>\n",
       "    </tr>\n",
       "    <tr>\n",
       "      <th>...</th>\n",
       "      <td>...</td>\n",
       "    </tr>\n",
       "    <tr>\n",
       "      <th>7645</th>\n",
       "      <td>POLYGON ((-121.42649 39.84772, -121.42649 39.8...</td>\n",
       "    </tr>\n",
       "    <tr>\n",
       "      <th>7646</th>\n",
       "      <td>POLYGON ((-121.42649 39.85123, -121.42649 39.8...</td>\n",
       "    </tr>\n",
       "    <tr>\n",
       "      <th>7647</th>\n",
       "      <td>POLYGON ((-121.42649 39.85474, -121.42649 39.8...</td>\n",
       "    </tr>\n",
       "    <tr>\n",
       "      <th>7648</th>\n",
       "      <td>POLYGON ((-121.42649 39.85825, -121.42649 39.8...</td>\n",
       "    </tr>\n",
       "    <tr>\n",
       "      <th>7649</th>\n",
       "      <td>POLYGON ((-121.42649 39.86176, -121.42649 39.8...</td>\n",
       "    </tr>\n",
       "  </tbody>\n",
       "</table>\n",
       "<p>7650 rows × 1 columns</p>\n",
       "</div>"
      ],
      "text/plain": [
       "                                               geometry\n",
       "0     POLYGON ((-121.78113 39.60192, -121.78113 39.6...\n",
       "1     POLYGON ((-121.78113 39.60543, -121.78113 39.6...\n",
       "2     POLYGON ((-121.78113 39.60895, -121.78113 39.6...\n",
       "3     POLYGON ((-121.78113 39.61246, -121.78113 39.6...\n",
       "4     POLYGON ((-121.78113 39.61597, -121.78113 39.6...\n",
       "...                                                 ...\n",
       "7645  POLYGON ((-121.42649 39.84772, -121.42649 39.8...\n",
       "7646  POLYGON ((-121.42649 39.85123, -121.42649 39.8...\n",
       "7647  POLYGON ((-121.42649 39.85474, -121.42649 39.8...\n",
       "7648  POLYGON ((-121.42649 39.85825, -121.42649 39.8...\n",
       "7649  POLYGON ((-121.42649 39.86176, -121.42649 39.8...\n",
       "\n",
       "[7650 rows x 1 columns]"
      ]
     },
     "execution_count": 15,
     "metadata": {},
     "output_type": "execute_result"
    }
   ],
   "source": [
    "cell = gp.GeoDataFrame(grid_cells, columns=['geometry'])\n",
    "cell"
   ]
  },
  {
   "cell_type": "markdown",
   "id": "dd8ba87c",
   "metadata": {},
   "source": [
    "We calculate the position of each centroid of each rectangle of the grid. "
   ]
  },
  {
   "cell_type": "code",
   "execution_count": 17,
   "id": "b05e00bb",
   "metadata": {},
   "outputs": [
    {
     "data": {
      "text/html": [
       "<div>\n",
       "<style scoped>\n",
       "    .dataframe tbody tr th:only-of-type {\n",
       "        vertical-align: middle;\n",
       "    }\n",
       "\n",
       "    .dataframe tbody tr th {\n",
       "        vertical-align: top;\n",
       "    }\n",
       "\n",
       "    .dataframe thead th {\n",
       "        text-align: right;\n",
       "    }\n",
       "</style>\n",
       "<table border=\"1\" class=\"dataframe\">\n",
       "  <thead>\n",
       "    <tr style=\"text-align: right;\">\n",
       "      <th></th>\n",
       "      <th>geometry</th>\n",
       "      <th>centroids</th>\n",
       "    </tr>\n",
       "  </thead>\n",
       "  <tbody>\n",
       "    <tr>\n",
       "      <th>0</th>\n",
       "      <td>POLYGON ((-121.78113 39.60192, -121.78113 39.6...</td>\n",
       "      <td>POINT (-121.77938 39.60368)</td>\n",
       "    </tr>\n",
       "    <tr>\n",
       "      <th>1</th>\n",
       "      <td>POLYGON ((-121.78113 39.60543, -121.78113 39.6...</td>\n",
       "      <td>POINT (-121.77938 39.60719)</td>\n",
       "    </tr>\n",
       "    <tr>\n",
       "      <th>2</th>\n",
       "      <td>POLYGON ((-121.78113 39.60895, -121.78113 39.6...</td>\n",
       "      <td>POINT (-121.77938 39.61070)</td>\n",
       "    </tr>\n",
       "    <tr>\n",
       "      <th>3</th>\n",
       "      <td>POLYGON ((-121.78113 39.61246, -121.78113 39.6...</td>\n",
       "      <td>POINT (-121.77938 39.61421)</td>\n",
       "    </tr>\n",
       "    <tr>\n",
       "      <th>4</th>\n",
       "      <td>POLYGON ((-121.78113 39.61597, -121.78113 39.6...</td>\n",
       "      <td>POINT (-121.77938 39.61772)</td>\n",
       "    </tr>\n",
       "    <tr>\n",
       "      <th>...</th>\n",
       "      <td>...</td>\n",
       "      <td>...</td>\n",
       "    </tr>\n",
       "    <tr>\n",
       "      <th>7645</th>\n",
       "      <td>POLYGON ((-121.42649 39.84772, -121.42649 39.8...</td>\n",
       "      <td>POINT (-121.42473 39.84947)</td>\n",
       "    </tr>\n",
       "    <tr>\n",
       "      <th>7646</th>\n",
       "      <td>POLYGON ((-121.42649 39.85123, -121.42649 39.8...</td>\n",
       "      <td>POINT (-121.42473 39.85298)</td>\n",
       "    </tr>\n",
       "    <tr>\n",
       "      <th>7647</th>\n",
       "      <td>POLYGON ((-121.42649 39.85474, -121.42649 39.8...</td>\n",
       "      <td>POINT (-121.42473 39.85649)</td>\n",
       "    </tr>\n",
       "    <tr>\n",
       "      <th>7648</th>\n",
       "      <td>POLYGON ((-121.42649 39.85825, -121.42649 39.8...</td>\n",
       "      <td>POINT (-121.42473 39.86001)</td>\n",
       "    </tr>\n",
       "    <tr>\n",
       "      <th>7649</th>\n",
       "      <td>POLYGON ((-121.42649 39.86176, -121.42649 39.8...</td>\n",
       "      <td>POINT (-121.42473 39.86352)</td>\n",
       "    </tr>\n",
       "  </tbody>\n",
       "</table>\n",
       "<p>7650 rows × 2 columns</p>\n",
       "</div>"
      ],
      "text/plain": [
       "                                               geometry  \\\n",
       "0     POLYGON ((-121.78113 39.60192, -121.78113 39.6...   \n",
       "1     POLYGON ((-121.78113 39.60543, -121.78113 39.6...   \n",
       "2     POLYGON ((-121.78113 39.60895, -121.78113 39.6...   \n",
       "3     POLYGON ((-121.78113 39.61246, -121.78113 39.6...   \n",
       "4     POLYGON ((-121.78113 39.61597, -121.78113 39.6...   \n",
       "...                                                 ...   \n",
       "7645  POLYGON ((-121.42649 39.84772, -121.42649 39.8...   \n",
       "7646  POLYGON ((-121.42649 39.85123, -121.42649 39.8...   \n",
       "7647  POLYGON ((-121.42649 39.85474, -121.42649 39.8...   \n",
       "7648  POLYGON ((-121.42649 39.85825, -121.42649 39.8...   \n",
       "7649  POLYGON ((-121.42649 39.86176, -121.42649 39.8...   \n",
       "\n",
       "                        centroids  \n",
       "0     POINT (-121.77938 39.60368)  \n",
       "1     POINT (-121.77938 39.60719)  \n",
       "2     POINT (-121.77938 39.61070)  \n",
       "3     POINT (-121.77938 39.61421)  \n",
       "4     POINT (-121.77938 39.61772)  \n",
       "...                           ...  \n",
       "7645  POINT (-121.42473 39.84947)  \n",
       "7646  POINT (-121.42473 39.85298)  \n",
       "7647  POINT (-121.42473 39.85649)  \n",
       "7648  POINT (-121.42473 39.86001)  \n",
       "7649  POINT (-121.42473 39.86352)  \n",
       "\n",
       "[7650 rows x 2 columns]"
      ]
     },
     "execution_count": 17,
     "metadata": {},
     "output_type": "execute_result"
    }
   ],
   "source": [
    "cell['centroids'] = cell['geometry'].centroid\n",
    "cell"
   ]
  },
  {
   "cell_type": "markdown",
   "id": "6af4c6f8",
   "metadata": {},
   "source": [
    "The cells look like as follows "
   ]
  },
  {
   "cell_type": "code",
   "execution_count": 7,
   "id": "599b068f",
   "metadata": {},
   "outputs": [
    {
     "data": {
      "image/png": "[encoded data removed]",
      "text/plain": [
       "<Figure size 864x576 with 1 Axes>"
      ]
     },
     "metadata": {
      "needs_background": "light"
     },
     "output_type": "display_data"
    }
   ],
   "source": [
    "fig,ax = plt.subplots(1,1,dpi=144)\n",
    "ax.set_ylim(y_min,y_max)\n",
    "ax.set_xlim(x_min,x_max)\n",
    "cell.plot(ax=ax, facecolor=\"none\", edgecolor='grey');"
   ]
  },
  {
   "cell_type": "markdown",
   "id": "f0e615bd",
   "metadata": {},
   "source": [
    "The function sjoin( ) allows us to merge the cells dataframe and the perimeter dataframe"
   ]
  },
  {
   "cell_type": "code",
   "execution_count": 19,
   "id": "ffd99216",
   "metadata": {},
   "outputs": [
    {
     "data": {
      "text/html": [
       "<div>\n",
       "<style scoped>\n",
       "    .dataframe tbody tr th:only-of-type {\n",
       "        vertical-align: middle;\n",
       "    }\n",
       "\n",
       "    .dataframe tbody tr th {\n",
       "        vertical-align: top;\n",
       "    }\n",
       "\n",
       "    .dataframe thead th {\n",
       "        text-align: right;\n",
       "    }\n",
       "</style>\n",
       "<table border=\"1\" class=\"dataframe\">\n",
       "  <thead>\n",
       "    <tr style=\"text-align: right;\">\n",
       "      <th></th>\n",
       "      <th>id</th>\n",
       "      <th>geometry</th>\n",
       "      <th>index_right</th>\n",
       "      <th>centroids</th>\n",
       "    </tr>\n",
       "  </thead>\n",
       "  <tbody>\n",
       "    <tr>\n",
       "      <th>0</th>\n",
       "      <td>None</td>\n",
       "      <td>POLYGON ((-121.77337 39.72297, -121.77418 39.7...</td>\n",
       "      <td>4418</td>\n",
       "      <td>POINT (-121.57572 39.84245)</td>\n",
       "    </tr>\n",
       "    <tr>\n",
       "      <th>0</th>\n",
       "      <td>None</td>\n",
       "      <td>POLYGON ((-121.77337 39.72297, -121.77418 39.7...</td>\n",
       "      <td>4193</td>\n",
       "      <td>POINT (-121.58626 39.84245)</td>\n",
       "    </tr>\n",
       "    <tr>\n",
       "      <th>0</th>\n",
       "      <td>None</td>\n",
       "      <td>POLYGON ((-121.77337 39.72297, -121.77418 39.7...</td>\n",
       "      <td>4343</td>\n",
       "      <td>POINT (-121.57923 39.84245)</td>\n",
       "    </tr>\n",
       "    <tr>\n",
       "      <th>0</th>\n",
       "      <td>None</td>\n",
       "      <td>POLYGON ((-121.77337 39.72297, -121.77418 39.7...</td>\n",
       "      <td>4493</td>\n",
       "      <td>POINT (-121.57221 39.84245)</td>\n",
       "    </tr>\n",
       "    <tr>\n",
       "      <th>0</th>\n",
       "      <td>None</td>\n",
       "      <td>POLYGON ((-121.77337 39.72297, -121.77418 39.7...</td>\n",
       "      <td>4568</td>\n",
       "      <td>POINT (-121.56870 39.84245)</td>\n",
       "    </tr>\n",
       "    <tr>\n",
       "      <th>...</th>\n",
       "      <td>...</td>\n",
       "      <td>...</td>\n",
       "      <td>...</td>\n",
       "      <td>...</td>\n",
       "    </tr>\n",
       "    <tr>\n",
       "      <th>0</th>\n",
       "      <td>None</td>\n",
       "      <td>POLYGON ((-121.77337 39.72297, -121.77418 39.7...</td>\n",
       "      <td>1881</td>\n",
       "      <td>POINT (-121.69159 39.62475)</td>\n",
       "    </tr>\n",
       "    <tr>\n",
       "      <th>0</th>\n",
       "      <td>None</td>\n",
       "      <td>POLYGON ((-121.77337 39.72297, -121.77418 39.7...</td>\n",
       "      <td>2106</td>\n",
       "      <td>POINT (-121.68106 39.62475)</td>\n",
       "    </tr>\n",
       "    <tr>\n",
       "      <th>0</th>\n",
       "      <td>None</td>\n",
       "      <td>POLYGON ((-121.77337 39.72297, -121.77418 39.7...</td>\n",
       "      <td>2031</td>\n",
       "      <td>POINT (-121.68457 39.62475)</td>\n",
       "    </tr>\n",
       "    <tr>\n",
       "      <th>0</th>\n",
       "      <td>None</td>\n",
       "      <td>POLYGON ((-121.77337 39.72297, -121.77418 39.7...</td>\n",
       "      <td>1956</td>\n",
       "      <td>POINT (-121.68808 39.62475)</td>\n",
       "    </tr>\n",
       "    <tr>\n",
       "      <th>0</th>\n",
       "      <td>None</td>\n",
       "      <td>POLYGON ((-121.77337 39.72297, -121.77418 39.7...</td>\n",
       "      <td>1806</td>\n",
       "      <td>POINT (-121.69511 39.62475)</td>\n",
       "    </tr>\n",
       "  </tbody>\n",
       "</table>\n",
       "<p>3988 rows × 4 columns</p>\n",
       "</div>"
      ],
      "text/plain": [
       "      id                                           geometry  index_right  \\\n",
       "0   None  POLYGON ((-121.77337 39.72297, -121.77418 39.7...         4418   \n",
       "0   None  POLYGON ((-121.77337 39.72297, -121.77418 39.7...         4193   \n",
       "0   None  POLYGON ((-121.77337 39.72297, -121.77418 39.7...         4343   \n",
       "0   None  POLYGON ((-121.77337 39.72297, -121.77418 39.7...         4493   \n",
       "0   None  POLYGON ((-121.77337 39.72297, -121.77418 39.7...         4568   \n",
       "..   ...                                                ...          ...   \n",
       "0   None  POLYGON ((-121.77337 39.72297, -121.77418 39.7...         1881   \n",
       "0   None  POLYGON ((-121.77337 39.72297, -121.77418 39.7...         2106   \n",
       "0   None  POLYGON ((-121.77337 39.72297, -121.77418 39.7...         2031   \n",
       "0   None  POLYGON ((-121.77337 39.72297, -121.77418 39.7...         1956   \n",
       "0   None  POLYGON ((-121.77337 39.72297, -121.77418 39.7...         1806   \n",
       "\n",
       "                      centroids  \n",
       "0   POINT (-121.57572 39.84245)  \n",
       "0   POINT (-121.58626 39.84245)  \n",
       "0   POINT (-121.57923 39.84245)  \n",
       "0   POINT (-121.57221 39.84245)  \n",
       "0   POINT (-121.56870 39.84245)  \n",
       "..                          ...  \n",
       "0   POINT (-121.69159 39.62475)  \n",
       "0   POINT (-121.68106 39.62475)  \n",
       "0   POINT (-121.68457 39.62475)  \n",
       "0   POINT (-121.68808 39.62475)  \n",
       "0   POINT (-121.69511 39.62475)  \n",
       "\n",
       "[3988 rows x 4 columns]"
      ]
     },
     "execution_count": 19,
     "metadata": {},
     "output_type": "execute_result"
    }
   ],
   "source": [
    "merged = gp.sjoin(perimeter, cell)\n",
    "merged"
   ]
  },
  {
   "cell_type": "markdown",
   "id": "4b9c548f",
   "metadata": {},
   "source": [
    "We now assign a value to each of the cells based on aggregation "
   ]
  },
  {
   "cell_type": "code",
   "execution_count": 9,
   "id": "916917c2",
   "metadata": {},
   "outputs": [
    {
     "data": {
      "text/html": [
       "<div>\n",
       "<style scoped>\n",
       "    .dataframe tbody tr th:only-of-type {\n",
       "        vertical-align: middle;\n",
       "    }\n",
       "\n",
       "    .dataframe tbody tr th {\n",
       "        vertical-align: top;\n",
       "    }\n",
       "\n",
       "    .dataframe thead th {\n",
       "        text-align: right;\n",
       "    }\n",
       "</style>\n",
       "<table border=\"1\" class=\"dataframe\">\n",
       "  <thead>\n",
       "    <tr style=\"text-align: right;\">\n",
       "      <th></th>\n",
       "      <th>geometry</th>\n",
       "      <th>centroids</th>\n",
       "      <th>aggr</th>\n",
       "    </tr>\n",
       "  </thead>\n",
       "  <tbody>\n",
       "    <tr>\n",
       "      <th>0</th>\n",
       "      <td>POLYGON ((-121.78113 39.60192, -121.78113 39.6...</td>\n",
       "      <td>POINT (-121.77938 39.60368)</td>\n",
       "      <td>NaN</td>\n",
       "    </tr>\n",
       "    <tr>\n",
       "      <th>1</th>\n",
       "      <td>POLYGON ((-121.78113 39.60543, -121.78113 39.6...</td>\n",
       "      <td>POINT (-121.77938 39.60719)</td>\n",
       "      <td>NaN</td>\n",
       "    </tr>\n",
       "    <tr>\n",
       "      <th>2</th>\n",
       "      <td>POLYGON ((-121.78113 39.60895, -121.78113 39.6...</td>\n",
       "      <td>POINT (-121.77938 39.61070)</td>\n",
       "      <td>NaN</td>\n",
       "    </tr>\n",
       "    <tr>\n",
       "      <th>3</th>\n",
       "      <td>POLYGON ((-121.78113 39.61246, -121.78113 39.6...</td>\n",
       "      <td>POINT (-121.77938 39.61421)</td>\n",
       "      <td>NaN</td>\n",
       "    </tr>\n",
       "    <tr>\n",
       "      <th>4</th>\n",
       "      <td>POLYGON ((-121.78113 39.61597, -121.78113 39.6...</td>\n",
       "      <td>POINT (-121.77938 39.61772)</td>\n",
       "      <td>NaN</td>\n",
       "    </tr>\n",
       "    <tr>\n",
       "      <th>...</th>\n",
       "      <td>...</td>\n",
       "      <td>...</td>\n",
       "      <td>...</td>\n",
       "    </tr>\n",
       "    <tr>\n",
       "      <th>7645</th>\n",
       "      <td>POLYGON ((-121.42649 39.84772, -121.42649 39.8...</td>\n",
       "      <td>POINT (-121.42473 39.84947)</td>\n",
       "      <td>NaN</td>\n",
       "    </tr>\n",
       "    <tr>\n",
       "      <th>7646</th>\n",
       "      <td>POLYGON ((-121.42649 39.85123, -121.42649 39.8...</td>\n",
       "      <td>POINT (-121.42473 39.85298)</td>\n",
       "      <td>NaN</td>\n",
       "    </tr>\n",
       "    <tr>\n",
       "      <th>7647</th>\n",
       "      <td>POLYGON ((-121.42649 39.85474, -121.42649 39.8...</td>\n",
       "      <td>POINT (-121.42473 39.85649)</td>\n",
       "      <td>NaN</td>\n",
       "    </tr>\n",
       "    <tr>\n",
       "      <th>7648</th>\n",
       "      <td>POLYGON ((-121.42649 39.85825, -121.42649 39.8...</td>\n",
       "      <td>POINT (-121.42473 39.86001)</td>\n",
       "      <td>NaN</td>\n",
       "    </tr>\n",
       "    <tr>\n",
       "      <th>7649</th>\n",
       "      <td>POLYGON ((-121.42649 39.86176, -121.42649 39.8...</td>\n",
       "      <td>POINT (-121.42473 39.86352)</td>\n",
       "      <td>NaN</td>\n",
       "    </tr>\n",
       "  </tbody>\n",
       "</table>\n",
       "<p>7650 rows × 3 columns</p>\n",
       "</div>"
      ],
      "text/plain": [
       "                                               geometry  \\\n",
       "0     POLYGON ((-121.78113 39.60192, -121.78113 39.6...   \n",
       "1     POLYGON ((-121.78113 39.60543, -121.78113 39.6...   \n",
       "2     POLYGON ((-121.78113 39.60895, -121.78113 39.6...   \n",
       "3     POLYGON ((-121.78113 39.61246, -121.78113 39.6...   \n",
       "4     POLYGON ((-121.78113 39.61597, -121.78113 39.6...   \n",
       "...                                                 ...   \n",
       "7645  POLYGON ((-121.42649 39.84772, -121.42649 39.8...   \n",
       "7646  POLYGON ((-121.42649 39.85123, -121.42649 39.8...   \n",
       "7647  POLYGON ((-121.42649 39.85474, -121.42649 39.8...   \n",
       "7648  POLYGON ((-121.42649 39.85825, -121.42649 39.8...   \n",
       "7649  POLYGON ((-121.42649 39.86176, -121.42649 39.8...   \n",
       "\n",
       "                        centroids  aggr  \n",
       "0     POINT (-121.77938 39.60368)   NaN  \n",
       "1     POINT (-121.77938 39.60719)   NaN  \n",
       "2     POINT (-121.77938 39.61070)   NaN  \n",
       "3     POINT (-121.77938 39.61421)   NaN  \n",
       "4     POINT (-121.77938 39.61772)   NaN  \n",
       "...                           ...   ...  \n",
       "7645  POINT (-121.42473 39.84947)   NaN  \n",
       "7646  POINT (-121.42473 39.85298)   NaN  \n",
       "7647  POINT (-121.42473 39.85649)   NaN  \n",
       "7648  POINT (-121.42473 39.86001)   NaN  \n",
       "7649  POINT (-121.42473 39.86352)   NaN  \n",
       "\n",
       "[7650 rows x 3 columns]"
      ]
     },
     "execution_count": 9,
     "metadata": {},
     "output_type": "execute_result"
    }
   ],
   "source": [
    "merged['aggr']=1\n",
    "dissolve = merged.dissolve(by=\"index_right\", aggfunc=\"count\")\n",
    "cell.loc[dissolve.index, 'aggr'] = dissolve.aggr.values\n",
    "cell"
   ]
  },
  {
   "cell_type": "code",
   "execution_count": 13,
   "id": "dd0771ab",
   "metadata": {},
   "outputs": [
    {
     "data": {
      "image/png": "[encoded data removed]",
      "text/plain": [
       "<Figure size 864x576 with 1 Axes>"
      ]
     },
     "metadata": {
      "needs_background": "light"
     },
     "output_type": "display_data"
    }
   ],
   "source": [
    "cell.plot(column='aggr', figsize=(12, 8), cmap='viridis', vmax=100, edgecolor=\"grey\");"
   ]
  },
  {
   "cell_type": "code",
   "execution_count": null,
   "id": "cb3998b3",
   "metadata": {},
   "outputs": [],
   "source": []
  }
 ],
 "metadata": {
  "kernelspec": {
   "display_name": "Python 3 (ipykernel)",
   "language": "python",
   "name": "python3"
  },
  "language_info": {
   "codemirror_mode": {
    "name": "ipython",
    "version": 3
   },
   "file_extension": ".py",
   "mimetype": "text/x-python",
   "name": "python",
   "nbconvert_exporter": "python",
   "pygments_lexer": "ipython3",
   "version": "3.10.4"
  }
 },
 "nbformat": 4,
 "nbformat_minor": 5
}
