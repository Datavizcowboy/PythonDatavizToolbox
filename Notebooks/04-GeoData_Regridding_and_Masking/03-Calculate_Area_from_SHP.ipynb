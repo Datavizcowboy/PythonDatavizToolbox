{
 "cells": [
  {
   "cell_type": "markdown",
   "id": "83bf0dab",
   "metadata": {},
   "source": [
    "# Calculate Area from SHP"
   ]
  },
  {
   "cell_type": "markdown",
   "id": "ab4f9272",
   "metadata": {},
   "source": [
    "In this notebook the area from a given SHP containing all the states from the US is calculated by reading that SHP file and using geopandas. "
   ]
  },
  {
   "cell_type": "markdown",
   "id": "c6e3fa45",
   "metadata": {},
   "source": [
    "We first load useful libraries"
   ]
  },
  {
   "cell_type": "code",
   "execution_count": 1,
   "id": "a771c323",
   "metadata": {},
   "outputs": [
    {
     "name": "stderr",
     "output_type": "stream",
     "text": [
      "/opt/anaconda3/envs/geo_env/lib/python3.10/site-packages/pyproj/__init__.py:89: UserWarning: pyproj unable to set database path.\n",
      "  _pyproj_global_context_initialize()\n"
     ]
    }
   ],
   "source": [
    "import geopandas as gpd\n",
    "import warnings\n",
    "warnings.filterwarnings(\"ignore\")"
   ]
  },
  {
   "cell_type": "markdown",
   "id": "344ee0b1",
   "metadata": {},
   "source": [
    "We create an array to store all the areas from the polygons"
   ]
  },
  {
   "cell_type": "code",
   "execution_count": 2,
   "id": "b9bc9681",
   "metadata": {},
   "outputs": [],
   "source": [
    "areas = []"
   ]
  },
  {
   "cell_type": "markdown",
   "id": "59c747d7",
   "metadata": {},
   "source": [
    "We now read the SHP file as a geopandas"
   ]
  },
  {
   "cell_type": "code",
   "execution_count": 3,
   "id": "2965f497",
   "metadata": {},
   "outputs": [],
   "source": [
    "reader = r'../../DATA/cb_2018_us_state_20m.shp' \n",
    "data = gpd.read_file(reader)\n",
    "selection = data[:]"
   ]
  },
  {
   "cell_type": "markdown",
   "id": "3d53d818",
   "metadata": {},
   "source": [
    "We iterate over the polygons and extract the area"
   ]
  },
  {
   "cell_type": "code",
   "execution_count": 4,
   "id": "e14955a2",
   "metadata": {},
   "outputs": [],
   "source": [
    "for index, row in selection.iterrows():\n",
    "    polygon_area = row['geometry'].area\n",
    "    areas.append(polygon_area)"
   ]
  },
  {
   "cell_type": "markdown",
   "id": "0e07d646",
   "metadata": {},
   "source": [
    "The array contains all the areas from the different shapes or states"
   ]
  },
  {
   "cell_type": "code",
   "execution_count": 5,
   "id": "a919afe6",
   "metadata": {},
   "outputs": [
    {
     "data": {
      "text/plain": [
       "[2.8650906812019805,\n",
       " 15.848948575994008,\n",
       " 0.5537157693984986,\n",
       " 11.332120577939504,\n",
       " 12.537439075700537,\n",
       " 21.617188434041314,\n",
       " 21.304866060300927,\n",
       " 0.7960722412259912,\n",
       " 12.897364502023484,\n",
       " 13.591404362789477,\n",
       " 30.89280050466949,\n",
       " 65.7785953058727,\n",
       " 41.73015314629657,\n",
       " 10.665631206744532,\n",
       " 14.682546999880941,\n",
       " 16.51292954560755,\n",
       " 28.18300932431253,\n",
       " 18.60396606456098,\n",
       " 10.776527885764969,\n",
       " 10.892137177726964,\n",
       " 11.856402169335494,\n",
       " 14.073650231627989,\n",
       " 17.352434014446036,\n",
       " 24.48461809510823,\n",
       " 14.227633106590078,\n",
       " 287.88718721913347,\n",
       " 15.413224255363495,\n",
       " 45.0530804541283,\n",
       " 25.56508572255747,\n",
       " 9.880174092559978,\n",
       " 2.3925690577929997,\n",
       " 22.013618209233,\n",
       " 29.937266877196627,\n",
       " 2.8016070579994996,\n",
       " 1.4002623180124834,\n",
       " 2.1346020280174973,\n",
       " 0.01858035942600216,\n",
       " 13.567503175681034,\n",
       " 22.977374797335987,\n",
       " 21.841993043316045,\n",
       " 7.861239779719488,\n",
       " 11.86693081360652,\n",
       " 28.036515371511054,\n",
       " 22.577977393554264,\n",
       " 17.996637269711396,\n",
       " 27.973602256173944,\n",
       " 6.513444489092016,\n",
       " 10.002766059524994,\n",
       " 1.4494177345449868,\n",
       " 2.683522526814002,\n",
       " 28.921290425128333,\n",
       " 0.3463465022094986]"
      ]
     },
     "execution_count": 5,
     "metadata": {},
     "output_type": "execute_result"
    }
   ],
   "source": [
    "areas"
   ]
  },
  {
   "cell_type": "markdown",
   "id": "34a7d0ec",
   "metadata": {},
   "source": [
    "We now sum all the elements in the areas array"
   ]
  },
  {
   "cell_type": "code",
   "execution_count": 6,
   "id": "2b23ccc2",
   "metadata": {},
   "outputs": [
    {
     "data": {
      "text/plain": [
       "1113.1710643485053"
      ]
     },
     "execution_count": 6,
     "metadata": {},
     "output_type": "execute_result"
    }
   ],
   "source": [
    "sum(areas)"
   ]
  }
 ],
 "metadata": {
  "kernelspec": {
   "display_name": "Python 3 (ipykernel)",
   "language": "python",
   "name": "python3"
  },
  "language_info": {
   "codemirror_mode": {
    "name": "ipython",
    "version": 3
   },
   "file_extension": ".py",
   "mimetype": "text/x-python",
   "name": "python",
   "nbconvert_exporter": "python",
   "pygments_lexer": "ipython3",
   "version": "3.10.4"
  }
 },
 "nbformat": 4,
 "nbformat_minor": 5
}
