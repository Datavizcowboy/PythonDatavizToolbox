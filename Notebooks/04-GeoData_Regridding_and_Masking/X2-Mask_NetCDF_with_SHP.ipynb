{
 "cells": [
  {
   "cell_type": "markdown",
   "id": "83bf0dab",
   "metadata": {},
   "source": [
    "# Masking NetCDF with SHP"
   ]
  },
  {
   "cell_type": "markdown",
   "id": "f92cdba3",
   "metadata": {},
   "source": [
    "In this example we will put both atmospheric gridded data and SHP data into the same custom grid of our choice. "
   ]
  },
  {
   "cell_type": "markdown",
   "id": "c6e3fa45",
   "metadata": {},
   "source": [
    "We first load useful libraries"
   ]
  },
  {
   "cell_type": "code",
   "execution_count": 7,
   "id": "a771c323",
   "metadata": {},
   "outputs": [],
   "source": [
    "import xarray as xr\n",
    "import pandas as pd\n",
    "import numpy as np\n",
    "import geopandas as gp\n",
    "from scipy.interpolate import griddata\n",
    "import shapely\n",
    "from shapely.geometry import Polygon\n",
    "from shapely.geometry import Point\n",
    "import rioxarray\n",
    "import warnings\n",
    "warnings.filterwarnings(\"ignore\")"
   ]
  },
  {
   "cell_type": "markdown",
   "id": "65607889",
   "metadata": {},
   "source": [
    "We now set the number of columns displayed when inspecting a geopandas"
   ]
  },
  {
   "cell_type": "code",
   "execution_count": 8,
   "id": "e729736b",
   "metadata": {},
   "outputs": [],
   "source": [
    "pd.set_option('display.max_columns', 500)"
   ]
  },
  {
   "cell_type": "markdown",
   "id": "492b7261",
   "metadata": {},
   "source": [
    "## Masking NetCDF"
   ]
  },
  {
   "cell_type": "markdown",
   "id": "0a29c1ef",
   "metadata": {},
   "source": [
    "Let's start with an .nc file. "
   ]
  },
  {
   "cell_type": "code",
   "execution_count": 9,
   "id": "398d32b0",
   "metadata": {},
   "outputs": [],
   "source": [
    "fwi_file = '../../DATA/wind.nc'\n",
    "fwi = xr.open_dataset(fwi_file)"
   ]
  },
  {
   "cell_type": "markdown",
   "id": "defb88dd",
   "metadata": {},
   "source": [
    "The selected wind speed is the first bucket"
   ]
  },
  {
   "cell_type": "code",
   "execution_count": 10,
   "id": "f1fa289b",
   "metadata": {},
   "outputs": [],
   "source": [
    "fire = fwi.to_dataframe()\n"
   ]
  },
  {
   "cell_type": "code",
   "execution_count": 11,
   "id": "becf31d2",
   "metadata": {},
   "outputs": [
    {
     "data": {
      "text/html": [
       "<div>\n",
       "<style scoped>\n",
       "    .dataframe tbody tr th:only-of-type {\n",
       "        vertical-align: middle;\n",
       "    }\n",
       "\n",
       "    .dataframe tbody tr th {\n",
       "        vertical-align: top;\n",
       "    }\n",
       "\n",
       "    .dataframe thead th {\n",
       "        text-align: right;\n",
       "    }\n",
       "</style>\n",
       "<table border=\"1\" class=\"dataframe\">\n",
       "  <thead>\n",
       "    <tr style=\"text-align: right;\">\n",
       "      <th></th>\n",
       "      <th>FNOCXN79_64</th>\n",
       "      <th>FNOCY</th>\n",
       "      <th>TIME</th>\n",
       "      <th>UWND</th>\n",
       "    </tr>\n",
       "  </thead>\n",
       "  <tbody>\n",
       "    <tr>\n",
       "      <th>0</th>\n",
       "      <td>-180.0</td>\n",
       "      <td>-90.0</td>\n",
       "      <td>1982-01-16 20:00:00</td>\n",
       "      <td>-1.478853</td>\n",
       "    </tr>\n",
       "    <tr>\n",
       "      <th>1</th>\n",
       "      <td>-180.0</td>\n",
       "      <td>-87.5</td>\n",
       "      <td>1982-01-16 20:00:00</td>\n",
       "      <td>-3.068279</td>\n",
       "    </tr>\n",
       "    <tr>\n",
       "      <th>2</th>\n",
       "      <td>-180.0</td>\n",
       "      <td>-85.0</td>\n",
       "      <td>1982-01-16 20:00:00</td>\n",
       "      <td>-3.298688</td>\n",
       "    </tr>\n",
       "    <tr>\n",
       "      <th>3</th>\n",
       "      <td>-180.0</td>\n",
       "      <td>-82.5</td>\n",
       "      <td>1982-01-16 20:00:00</td>\n",
       "      <td>-2.568443</td>\n",
       "    </tr>\n",
       "    <tr>\n",
       "      <th>4</th>\n",
       "      <td>-180.0</td>\n",
       "      <td>-80.0</td>\n",
       "      <td>1982-01-16 20:00:00</td>\n",
       "      <td>-2.632418</td>\n",
       "    </tr>\n",
       "    <tr>\n",
       "      <th>...</th>\n",
       "      <td>...</td>\n",
       "      <td>...</td>\n",
       "      <td>...</td>\n",
       "      <td>...</td>\n",
       "    </tr>\n",
       "    <tr>\n",
       "      <th>10507</th>\n",
       "      <td>177.5</td>\n",
       "      <td>80.0</td>\n",
       "      <td>1982-01-16 20:00:00</td>\n",
       "      <td>0.337623</td>\n",
       "    </tr>\n",
       "    <tr>\n",
       "      <th>10508</th>\n",
       "      <td>177.5</td>\n",
       "      <td>82.5</td>\n",
       "      <td>1982-01-16 20:00:00</td>\n",
       "      <td>1.506148</td>\n",
       "    </tr>\n",
       "    <tr>\n",
       "      <th>10509</th>\n",
       "      <td>177.5</td>\n",
       "      <td>85.0</td>\n",
       "      <td>1982-01-16 20:00:00</td>\n",
       "      <td>2.055861</td>\n",
       "    </tr>\n",
       "    <tr>\n",
       "      <th>10510</th>\n",
       "      <td>177.5</td>\n",
       "      <td>87.5</td>\n",
       "      <td>1982-01-16 20:00:00</td>\n",
       "      <td>-0.391967</td>\n",
       "    </tr>\n",
       "    <tr>\n",
       "      <th>10511</th>\n",
       "      <td>177.5</td>\n",
       "      <td>90.0</td>\n",
       "      <td>1982-01-16 20:00:00</td>\n",
       "      <td>-3.969016</td>\n",
       "    </tr>\n",
       "  </tbody>\n",
       "</table>\n",
       "<p>10512 rows × 4 columns</p>\n",
       "</div>"
      ],
      "text/plain": [
       "       FNOCXN79_64  FNOCY                TIME      UWND\n",
       "0           -180.0  -90.0 1982-01-16 20:00:00 -1.478853\n",
       "1           -180.0  -87.5 1982-01-16 20:00:00 -3.068279\n",
       "2           -180.0  -85.0 1982-01-16 20:00:00 -3.298688\n",
       "3           -180.0  -82.5 1982-01-16 20:00:00 -2.568443\n",
       "4           -180.0  -80.0 1982-01-16 20:00:00 -2.632418\n",
       "...            ...    ...                 ...       ...\n",
       "10507        177.5   80.0 1982-01-16 20:00:00  0.337623\n",
       "10508        177.5   82.5 1982-01-16 20:00:00  1.506148\n",
       "10509        177.5   85.0 1982-01-16 20:00:00  2.055861\n",
       "10510        177.5   87.5 1982-01-16 20:00:00 -0.391967\n",
       "10511        177.5   90.0 1982-01-16 20:00:00 -3.969016\n",
       "\n",
       "[10512 rows x 4 columns]"
      ]
     },
     "execution_count": 11,
     "metadata": {},
     "output_type": "execute_result"
    }
   ],
   "source": [
    "fire = fire.reset_index()\n",
    "fire"
   ]
  },
  {
   "cell_type": "code",
   "execution_count": 13,
   "id": "4b1a9959",
   "metadata": {},
   "outputs": [],
   "source": [
    "fire_gdf = gp.GeoDataFrame(fire, geometry=gp.points_from_xy(fire.FNOCXN79_64, fire.FNOCY))"
   ]
  },
  {
   "cell_type": "code",
   "execution_count": 14,
   "id": "d8f9f986",
   "metadata": {},
   "outputs": [],
   "source": [
    "fire_perimeter = gp.read_file('../../DATA/cb_2018_us_nation_20m.shp')"
   ]
  },
  {
   "cell_type": "code",
   "execution_count": 15,
   "id": "543c987f",
   "metadata": {},
   "outputs": [],
   "source": [
    "fire_gdf.crs = fire_perimeter.crs"
   ]
  },
  {
   "cell_type": "code",
   "execution_count": 16,
   "id": "4d2ac71d",
   "metadata": {},
   "outputs": [],
   "source": [
    "mask = gp.clip(fire_gdf, fire_perimeter)"
   ]
  },
  {
   "cell_type": "code",
   "execution_count": 17,
   "id": "608dba04",
   "metadata": {},
   "outputs": [
    {
     "data": {
      "text/html": [
       "<div>\n",
       "<style scoped>\n",
       "    .dataframe tbody tr th:only-of-type {\n",
       "        vertical-align: middle;\n",
       "    }\n",
       "\n",
       "    .dataframe tbody tr th {\n",
       "        vertical-align: top;\n",
       "    }\n",
       "\n",
       "    .dataframe thead th {\n",
       "        text-align: right;\n",
       "    }\n",
       "</style>\n",
       "<table border=\"1\" class=\"dataframe\">\n",
       "  <thead>\n",
       "    <tr style=\"text-align: right;\">\n",
       "      <th></th>\n",
       "      <th>FNOCXN79_64</th>\n",
       "      <th>FNOCY</th>\n",
       "      <th>TIME</th>\n",
       "      <th>UWND</th>\n",
       "      <th>geometry</th>\n",
       "    </tr>\n",
       "  </thead>\n",
       "  <tbody>\n",
       "    <tr>\n",
       "      <th>791</th>\n",
       "      <td>-155.0</td>\n",
       "      <td>62.5</td>\n",
       "      <td>1982-01-16 20:00:00</td>\n",
       "      <td>-6.186352</td>\n",
       "      <td>POINT (-155.00000 62.50000)</td>\n",
       "    </tr>\n",
       "    <tr>\n",
       "      <th>645</th>\n",
       "      <td>-160.0</td>\n",
       "      <td>62.5</td>\n",
       "      <td>1982-01-16 20:00:00</td>\n",
       "      <td>-5.628484</td>\n",
       "      <td>POINT (-160.00000 62.50000)</td>\n",
       "    </tr>\n",
       "    <tr>\n",
       "      <th>718</th>\n",
       "      <td>-157.5</td>\n",
       "      <td>62.5</td>\n",
       "      <td>1982-01-16 20:00:00</td>\n",
       "      <td>-6.021107</td>\n",
       "      <td>POINT (-157.50000 62.50000)</td>\n",
       "    </tr>\n",
       "    <tr>\n",
       "      <th>500</th>\n",
       "      <td>-165.0</td>\n",
       "      <td>65.0</td>\n",
       "      <td>1982-01-16 20:00:00</td>\n",
       "      <td>-5.591188</td>\n",
       "      <td>POINT (-165.00000 65.00000)</td>\n",
       "    </tr>\n",
       "    <tr>\n",
       "      <th>719</th>\n",
       "      <td>-157.5</td>\n",
       "      <td>65.0</td>\n",
       "      <td>1982-01-16 20:00:00</td>\n",
       "      <td>-5.507828</td>\n",
       "      <td>POINT (-157.50000 65.00000)</td>\n",
       "    </tr>\n",
       "    <tr>\n",
       "      <th>...</th>\n",
       "      <td>...</td>\n",
       "      <td>...</td>\n",
       "      <td>...</td>\n",
       "      <td>...</td>\n",
       "      <td>...</td>\n",
       "    </tr>\n",
       "    <tr>\n",
       "      <th>2604</th>\n",
       "      <td>-92.5</td>\n",
       "      <td>32.5</td>\n",
       "      <td>1982-01-16 20:00:00</td>\n",
       "      <td>0.308893</td>\n",
       "      <td>POINT (-92.50000 32.50000)</td>\n",
       "    </tr>\n",
       "    <tr>\n",
       "      <th>2458</th>\n",
       "      <td>-97.5</td>\n",
       "      <td>32.5</td>\n",
       "      <td>1982-01-16 20:00:00</td>\n",
       "      <td>0.717008</td>\n",
       "      <td>POINT (-97.50000 32.50000)</td>\n",
       "    </tr>\n",
       "    <tr>\n",
       "      <th>2239</th>\n",
       "      <td>-105.0</td>\n",
       "      <td>32.5</td>\n",
       "      <td>1982-01-16 20:00:00</td>\n",
       "      <td>1.950205</td>\n",
       "      <td>POINT (-105.00000 32.50000)</td>\n",
       "    </tr>\n",
       "    <tr>\n",
       "      <th>2166</th>\n",
       "      <td>-107.5</td>\n",
       "      <td>32.5</td>\n",
       "      <td>1982-01-16 20:00:00</td>\n",
       "      <td>1.453279</td>\n",
       "      <td>POINT (-107.50000 32.50000)</td>\n",
       "    </tr>\n",
       "    <tr>\n",
       "      <th>2167</th>\n",
       "      <td>-107.5</td>\n",
       "      <td>35.0</td>\n",
       "      <td>1982-01-16 20:00:00</td>\n",
       "      <td>1.573771</td>\n",
       "      <td>POINT (-107.50000 35.00000)</td>\n",
       "    </tr>\n",
       "  </tbody>\n",
       "</table>\n",
       "<p>174 rows × 5 columns</p>\n",
       "</div>"
      ],
      "text/plain": [
       "      FNOCXN79_64  FNOCY                TIME      UWND  \\\n",
       "791        -155.0   62.5 1982-01-16 20:00:00 -6.186352   \n",
       "645        -160.0   62.5 1982-01-16 20:00:00 -5.628484   \n",
       "718        -157.5   62.5 1982-01-16 20:00:00 -6.021107   \n",
       "500        -165.0   65.0 1982-01-16 20:00:00 -5.591188   \n",
       "719        -157.5   65.0 1982-01-16 20:00:00 -5.507828   \n",
       "...           ...    ...                 ...       ...   \n",
       "2604        -92.5   32.5 1982-01-16 20:00:00  0.308893   \n",
       "2458        -97.5   32.5 1982-01-16 20:00:00  0.717008   \n",
       "2239       -105.0   32.5 1982-01-16 20:00:00  1.950205   \n",
       "2166       -107.5   32.5 1982-01-16 20:00:00  1.453279   \n",
       "2167       -107.5   35.0 1982-01-16 20:00:00  1.573771   \n",
       "\n",
       "                         geometry  \n",
       "791   POINT (-155.00000 62.50000)  \n",
       "645   POINT (-160.00000 62.50000)  \n",
       "718   POINT (-157.50000 62.50000)  \n",
       "500   POINT (-165.00000 65.00000)  \n",
       "719   POINT (-157.50000 65.00000)  \n",
       "...                           ...  \n",
       "2604   POINT (-92.50000 32.50000)  \n",
       "2458   POINT (-97.50000 32.50000)  \n",
       "2239  POINT (-105.00000 32.50000)  \n",
       "2166  POINT (-107.50000 32.50000)  \n",
       "2167  POINT (-107.50000 35.00000)  \n",
       "\n",
       "[174 rows x 5 columns]"
      ]
     },
     "execution_count": 17,
     "metadata": {},
     "output_type": "execute_result"
    }
   ],
   "source": [
    "mask"
   ]
  },
  {
   "cell_type": "code",
   "execution_count": null,
   "id": "39be078b",
   "metadata": {},
   "outputs": [],
   "source": []
  }
 ],
 "metadata": {
  "kernelspec": {
   "display_name": "Python 3 (ipykernel)",
   "language": "python",
   "name": "python3"
  },
  "language_info": {
   "codemirror_mode": {
    "name": "ipython",
    "version": 3
   },
   "file_extension": ".py",
   "mimetype": "text/x-python",
   "name": "python",
   "nbconvert_exporter": "python",
   "pygments_lexer": "ipython3",
   "version": "3.10.4"
  }
 },
 "nbformat": 4,
 "nbformat_minor": 5
}
