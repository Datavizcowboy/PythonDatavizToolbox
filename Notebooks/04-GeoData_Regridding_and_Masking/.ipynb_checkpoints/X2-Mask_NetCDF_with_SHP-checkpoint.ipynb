{
 "cells": [
  {
   "cell_type": "markdown",
   "id": "83bf0dab",
   "metadata": {},
   "source": [
    "# Masking NetCDF with SHP"
   ]
  },
  {
   "cell_type": "markdown",
   "id": "f92cdba3",
   "metadata": {},
   "source": [
    "In this example we will put both atmospheric gridded data and SHP data into the same custom grid of our choice. "
   ]
  },
  {
   "cell_type": "markdown",
   "id": "c6e3fa45",
   "metadata": {},
   "source": [
    "We first load useful libraries"
   ]
  },
  {
   "cell_type": "code",
   "execution_count": 1,
   "id": "a771c323",
   "metadata": {},
   "outputs": [
    {
     "name": "stderr",
     "output_type": "stream",
     "text": [
      "/opt/anaconda3/envs/geo_env/lib/python3.10/site-packages/pyproj/__init__.py:89: UserWarning: pyproj unable to set database path.\n",
      "  _pyproj_global_context_initialize()\n"
     ]
    }
   ],
   "source": [
    "import xarray as xr\n",
    "import pandas as pd\n",
    "import numpy as np\n",
    "import geopandas as gp\n",
    "from scipy.interpolate import griddata\n",
    "import shapely\n",
    "from shapely.geometry import Polygon\n",
    "from shapely.geometry import Point\n",
    "import rioxarray\n",
    "import warnings\n",
    "warnings.filterwarnings(\"ignore\")"
   ]
  },
  {
   "cell_type": "markdown",
   "id": "65607889",
   "metadata": {},
   "source": [
    "We now set the number of columns displayed when inspecting a geopandas"
   ]
  },
  {
   "cell_type": "code",
   "execution_count": 2,
   "id": "e729736b",
   "metadata": {},
   "outputs": [],
   "source": [
    "pd.set_option('display.max_columns', 500)"
   ]
  },
  {
   "cell_type": "markdown",
   "id": "492b7261",
   "metadata": {},
   "source": [
    "## Regridding NetCDF"
   ]
  },
  {
   "cell_type": "markdown",
   "id": "0a29c1ef",
   "metadata": {},
   "source": [
    "Let's start with an .nc file. "
   ]
  },
  {
   "cell_type": "code",
   "execution_count": 3,
   "id": "398d32b0",
   "metadata": {},
   "outputs": [],
   "source": [
    "fwi_file = '../../DATA/wind.nc'\n",
    "fwi = xr.open_dataset(fwi_file)"
   ]
  },
  {
   "cell_type": "markdown",
   "id": "defb88dd",
   "metadata": {},
   "source": [
    "The selected wind speed is the first bucket"
   ]
  },
  {
   "cell_type": "code",
   "execution_count": 4,
   "id": "f1fa289b",
   "metadata": {},
   "outputs": [],
   "source": [
    "fire = fwi.to_dataframe()\n"
   ]
  },
  {
   "cell_type": "code",
   "execution_count": 5,
   "id": "becf31d2",
   "metadata": {},
   "outputs": [
    {
     "data": {
      "text/html": [
       "<div>\n",
       "<style scoped>\n",
       "    .dataframe tbody tr th:only-of-type {\n",
       "        vertical-align: middle;\n",
       "    }\n",
       "\n",
       "    .dataframe tbody tr th {\n",
       "        vertical-align: top;\n",
       "    }\n",
       "\n",
       "    .dataframe thead th {\n",
       "        text-align: right;\n",
       "    }\n",
       "</style>\n",
       "<table border=\"1\" class=\"dataframe\">\n",
       "  <thead>\n",
       "    <tr style=\"text-align: right;\">\n",
       "      <th></th>\n",
       "      <th>time</th>\n",
       "      <th>longitude</th>\n",
       "      <th>latitude</th>\n",
       "      <th>fwi</th>\n",
       "    </tr>\n",
       "  </thead>\n",
       "  <tbody>\n",
       "    <tr>\n",
       "      <th>0</th>\n",
       "      <td>2021-07-15 12:00:00</td>\n",
       "      <td>0.00</td>\n",
       "      <td>90.00</td>\n",
       "      <td>NaN</td>\n",
       "    </tr>\n",
       "    <tr>\n",
       "      <th>1</th>\n",
       "      <td>2021-07-15 12:00:00</td>\n",
       "      <td>0.00</td>\n",
       "      <td>89.75</td>\n",
       "      <td>NaN</td>\n",
       "    </tr>\n",
       "    <tr>\n",
       "      <th>2</th>\n",
       "      <td>2021-07-15 12:00:00</td>\n",
       "      <td>0.00</td>\n",
       "      <td>89.50</td>\n",
       "      <td>NaN</td>\n",
       "    </tr>\n",
       "    <tr>\n",
       "      <th>3</th>\n",
       "      <td>2021-07-15 12:00:00</td>\n",
       "      <td>0.00</td>\n",
       "      <td>89.25</td>\n",
       "      <td>NaN</td>\n",
       "    </tr>\n",
       "    <tr>\n",
       "      <th>4</th>\n",
       "      <td>2021-07-15 12:00:00</td>\n",
       "      <td>0.00</td>\n",
       "      <td>89.00</td>\n",
       "      <td>NaN</td>\n",
       "    </tr>\n",
       "    <tr>\n",
       "      <th>...</th>\n",
       "      <td>...</td>\n",
       "      <td>...</td>\n",
       "      <td>...</td>\n",
       "      <td>...</td>\n",
       "    </tr>\n",
       "    <tr>\n",
       "      <th>1038235</th>\n",
       "      <td>2021-07-15 12:00:00</td>\n",
       "      <td>359.75</td>\n",
       "      <td>-89.00</td>\n",
       "      <td>NaN</td>\n",
       "    </tr>\n",
       "    <tr>\n",
       "      <th>1038236</th>\n",
       "      <td>2021-07-15 12:00:00</td>\n",
       "      <td>359.75</td>\n",
       "      <td>-89.25</td>\n",
       "      <td>NaN</td>\n",
       "    </tr>\n",
       "    <tr>\n",
       "      <th>1038237</th>\n",
       "      <td>2021-07-15 12:00:00</td>\n",
       "      <td>359.75</td>\n",
       "      <td>-89.50</td>\n",
       "      <td>NaN</td>\n",
       "    </tr>\n",
       "    <tr>\n",
       "      <th>1038238</th>\n",
       "      <td>2021-07-15 12:00:00</td>\n",
       "      <td>359.75</td>\n",
       "      <td>-89.75</td>\n",
       "      <td>NaN</td>\n",
       "    </tr>\n",
       "    <tr>\n",
       "      <th>1038239</th>\n",
       "      <td>2021-07-15 12:00:00</td>\n",
       "      <td>359.75</td>\n",
       "      <td>-90.00</td>\n",
       "      <td>NaN</td>\n",
       "    </tr>\n",
       "  </tbody>\n",
       "</table>\n",
       "<p>1038240 rows × 4 columns</p>\n",
       "</div>"
      ],
      "text/plain": [
       "                       time  longitude  latitude  fwi\n",
       "0       2021-07-15 12:00:00       0.00     90.00  NaN\n",
       "1       2021-07-15 12:00:00       0.00     89.75  NaN\n",
       "2       2021-07-15 12:00:00       0.00     89.50  NaN\n",
       "3       2021-07-15 12:00:00       0.00     89.25  NaN\n",
       "4       2021-07-15 12:00:00       0.00     89.00  NaN\n",
       "...                     ...        ...       ...  ...\n",
       "1038235 2021-07-15 12:00:00     359.75    -89.00  NaN\n",
       "1038236 2021-07-15 12:00:00     359.75    -89.25  NaN\n",
       "1038237 2021-07-15 12:00:00     359.75    -89.50  NaN\n",
       "1038238 2021-07-15 12:00:00     359.75    -89.75  NaN\n",
       "1038239 2021-07-15 12:00:00     359.75    -90.00  NaN\n",
       "\n",
       "[1038240 rows x 4 columns]"
      ]
     },
     "execution_count": 5,
     "metadata": {},
     "output_type": "execute_result"
    }
   ],
   "source": [
    "fire = fire.reset_index()\n",
    "fire"
   ]
  },
  {
   "cell_type": "code",
   "execution_count": 6,
   "id": "4b1a9959",
   "metadata": {},
   "outputs": [],
   "source": [
    "fire_gdf = gp.GeoDataFrame(fire, geometry=gp.points_from_xy(fire.longitude, fire.latitude))"
   ]
  },
  {
   "cell_type": "code",
   "execution_count": 23,
   "id": "d8f9f986",
   "metadata": {},
   "outputs": [],
   "source": [
    "fire_perimeter = gp.read_file('../../DATA/cb_2018_us_nation_20m.shp')"
   ]
  },
  {
   "cell_type": "code",
   "execution_count": 24,
   "id": "543c987f",
   "metadata": {},
   "outputs": [],
   "source": [
    "fire_gdf.crs = fire_perimeter.crs"
   ]
  },
  {
   "cell_type": "code",
   "execution_count": 25,
   "id": "4d2ac71d",
   "metadata": {},
   "outputs": [],
   "source": [
    "mask = gp.clip(fire_gdf, fire_perimeter)"
   ]
  },
  {
   "cell_type": "code",
   "execution_count": 26,
   "id": "608dba04",
   "metadata": {},
   "outputs": [
    {
     "data": {
      "text/html": [
       "<div>\n",
       "<style scoped>\n",
       "    .dataframe tbody tr th:only-of-type {\n",
       "        vertical-align: middle;\n",
       "    }\n",
       "\n",
       "    .dataframe tbody tr th {\n",
       "        vertical-align: top;\n",
       "    }\n",
       "\n",
       "    .dataframe thead th {\n",
       "        text-align: right;\n",
       "    }\n",
       "</style>\n",
       "<table border=\"1\" class=\"dataframe\">\n",
       "  <thead>\n",
       "    <tr style=\"text-align: right;\">\n",
       "      <th></th>\n",
       "      <th>time</th>\n",
       "      <th>longitude</th>\n",
       "      <th>latitude</th>\n",
       "      <th>fwi</th>\n",
       "      <th>geometry</th>\n",
       "    </tr>\n",
       "  </thead>\n",
       "  <tbody>\n",
       "    <tr>\n",
       "      <th>512062</th>\n",
       "      <td>2021-07-15 12:00:00</td>\n",
       "      <td>177.50</td>\n",
       "      <td>52.00</td>\n",
       "      <td>0.098022</td>\n",
       "      <td>POINT (177.50000 52.00000)</td>\n",
       "    </tr>\n",
       "    <tr>\n",
       "      <th>498359</th>\n",
       "      <td>2021-07-15 12:00:00</td>\n",
       "      <td>172.75</td>\n",
       "      <td>53.00</td>\n",
       "      <td>0.592773</td>\n",
       "      <td>POINT (172.75000 53.00000)</td>\n",
       "    </tr>\n",
       "    <tr>\n",
       "      <th>501245</th>\n",
       "      <td>2021-07-15 12:00:00</td>\n",
       "      <td>173.75</td>\n",
       "      <td>52.50</td>\n",
       "      <td>0.059906</td>\n",
       "      <td>POINT (173.75000 52.50000)</td>\n",
       "    </tr>\n",
       "    <tr>\n",
       "      <th>501965</th>\n",
       "      <td>2021-07-15 12:00:00</td>\n",
       "      <td>174.00</td>\n",
       "      <td>52.75</td>\n",
       "      <td>0.101400</td>\n",
       "      <td>POINT (174.00000 52.75000)</td>\n",
       "    </tr>\n",
       "    <tr>\n",
       "      <th>516390</th>\n",
       "      <td>2021-07-15 12:00:00</td>\n",
       "      <td>179.00</td>\n",
       "      <td>51.50</td>\n",
       "      <td>0.017480</td>\n",
       "      <td>POINT (179.00000 51.50000)</td>\n",
       "    </tr>\n",
       "  </tbody>\n",
       "</table>\n",
       "</div>"
      ],
      "text/plain": [
       "                      time  longitude  latitude       fwi  \\\n",
       "512062 2021-07-15 12:00:00     177.50     52.00  0.098022   \n",
       "498359 2021-07-15 12:00:00     172.75     53.00  0.592773   \n",
       "501245 2021-07-15 12:00:00     173.75     52.50  0.059906   \n",
       "501965 2021-07-15 12:00:00     174.00     52.75  0.101400   \n",
       "516390 2021-07-15 12:00:00     179.00     51.50  0.017480   \n",
       "\n",
       "                          geometry  \n",
       "512062  POINT (177.50000 52.00000)  \n",
       "498359  POINT (172.75000 53.00000)  \n",
       "501245  POINT (173.75000 52.50000)  \n",
       "501965  POINT (174.00000 52.75000)  \n",
       "516390  POINT (179.00000 51.50000)  "
      ]
     },
     "execution_count": 26,
     "metadata": {},
     "output_type": "execute_result"
    }
   ],
   "source": [
    "mask"
   ]
  },
  {
   "cell_type": "code",
   "execution_count": null,
   "id": "39be078b",
   "metadata": {},
   "outputs": [],
   "source": []
  }
 ],
 "metadata": {
  "kernelspec": {
   "display_name": "Python 3 (ipykernel)",
   "language": "python",
   "name": "python3"
  },
  "language_info": {
   "codemirror_mode": {
    "name": "ipython",
    "version": 3
   },
   "file_extension": ".py",
   "mimetype": "text/x-python",
   "name": "python",
   "nbconvert_exporter": "python",
   "pygments_lexer": "ipython3",
   "version": "3.10.4"
  }
 },
 "nbformat": 4,
 "nbformat_minor": 5
}
