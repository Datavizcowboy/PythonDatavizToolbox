{
 "cells": [
  {
   "cell_type": "markdown",
   "id": "83bf0dab",
   "metadata": {},
   "source": [
    "# Seed random dots on an SHP file"
   ]
  },
  {
   "cell_type": "markdown",
   "id": "437658da",
   "metadata": {},
   "source": [
    "In this notebook we read an SHP file of the Campfire wildfire perimeter and we seed a number of points with a random location inside the SHP area"
   ]
  },
  {
   "cell_type": "markdown",
   "id": "c6e3fa45",
   "metadata": {},
   "source": [
    "We first load useful libraries"
   ]
  },
  {
   "cell_type": "code",
   "execution_count": 2,
   "id": "a771c323",
   "metadata": {},
   "outputs": [
    {
     "name": "stderr",
     "output_type": "stream",
     "text": [
      "/opt/anaconda3/envs/geo_env/lib/python3.10/site-packages/pyproj/__init__.py:89: UserWarning: pyproj unable to set database path.\n",
      "  _pyproj_global_context_initialize()\n"
     ]
    }
   ],
   "source": [
    "import geopandas as gpd\n",
    "import numpy as np\n",
    "import matplotlib.pyplot as plt\n",
    "import warnings\n",
    "warnings.filterwarnings(\"ignore\")"
   ]
  },
  {
   "cell_type": "markdown",
   "id": "09d63c6c",
   "metadata": {},
   "source": [
    "We now read the SHP file as a geopandas"
   ]
  },
  {
   "cell_type": "code",
   "execution_count": 3,
   "id": "3ac1e0cc",
   "metadata": {},
   "outputs": [],
   "source": [
    "reader = r'../../DATA/Fire_Perimeter.shp' \n",
    "gdf_polygons = gpd.read_file(reader)"
   ]
  },
  {
   "cell_type": "markdown",
   "id": "06d01a9f",
   "metadata": {},
   "source": [
    "The polygon containing the fire perimeter is now stored as a geopandas"
   ]
  },
  {
   "cell_type": "code",
   "execution_count": 7,
   "id": "eadf5bd1",
   "metadata": {},
   "outputs": [
    {
     "data": {
      "text/html": [
       "<div>\n",
       "<style scoped>\n",
       "    .dataframe tbody tr th:only-of-type {\n",
       "        vertical-align: middle;\n",
       "    }\n",
       "\n",
       "    .dataframe tbody tr th {\n",
       "        vertical-align: top;\n",
       "    }\n",
       "\n",
       "    .dataframe thead th {\n",
       "        text-align: right;\n",
       "    }\n",
       "</style>\n",
       "<table border=\"1\" class=\"dataframe\">\n",
       "  <thead>\n",
       "    <tr style=\"text-align: right;\">\n",
       "      <th></th>\n",
       "      <th>id</th>\n",
       "      <th>geometry</th>\n",
       "    </tr>\n",
       "  </thead>\n",
       "  <tbody>\n",
       "    <tr>\n",
       "      <th>0</th>\n",
       "      <td>None</td>\n",
       "      <td>POLYGON ((-121.77337 39.72297, -121.77418 39.7...</td>\n",
       "    </tr>\n",
       "  </tbody>\n",
       "</table>\n",
       "</div>"
      ],
      "text/plain": [
       "     id                                           geometry\n",
       "0  None  POLYGON ((-121.77337 39.72297, -121.77418 39.7..."
      ]
     },
     "execution_count": 7,
     "metadata": {},
     "output_type": "execute_result"
    }
   ],
   "source": [
    "gdf_polygons"
   ]
  },
  {
   "cell_type": "markdown",
   "id": "22db2e2e",
   "metadata": {},
   "source": [
    "We define the boundaries where the random dots will be seed"
   ]
  },
  {
   "cell_type": "code",
   "execution_count": 9,
   "id": "b60b7a39",
   "metadata": {},
   "outputs": [
    {
     "data": {
      "text/plain": [
       "array([-121.77762215,   39.60192347, -121.42648978,   39.85986267])"
      ]
     },
     "execution_count": 9,
     "metadata": {},
     "output_type": "execute_result"
    }
   ],
   "source": [
    "x_min, y_min, x_max, y_max = gdf_polygons.total_bounds\n",
    "gdf_polygons.total_bounds"
   ]
  },
  {
   "cell_type": "markdown",
   "id": "98cdf709",
   "metadata": {},
   "source": [
    "We set the number of points to be seed"
   ]
  },
  {
   "cell_type": "code",
   "execution_count": 11,
   "id": "6cc66305",
   "metadata": {},
   "outputs": [],
   "source": [
    "n = 20"
   ]
  },
  {
   "cell_type": "markdown",
   "id": "161e8afc",
   "metadata": {},
   "source": [
    "We assign coordinates to these points"
   ]
  },
  {
   "cell_type": "code",
   "execution_count": 12,
   "id": "ae75f3f1",
   "metadata": {},
   "outputs": [],
   "source": [
    "x = np.random.uniform(x_min, x_max, n)\n",
    "y = np.random.uniform(y_min, y_max, n)"
   ]
  },
  {
   "cell_type": "markdown",
   "id": "552feedc",
   "metadata": {},
   "source": [
    "We create a geopandas dataframe with the pairs of x and y"
   ]
  },
  {
   "cell_type": "code",
   "execution_count": 13,
   "id": "16d7be04",
   "metadata": {},
   "outputs": [
    {
     "data": {
      "text/plain": [
       "0     POINT (-121.43276 39.60611)\n",
       "1     POINT (-121.56627 39.74749)\n",
       "2     POINT (-121.68428 39.82557)\n",
       "3     POINT (-121.55566 39.82890)\n",
       "4     POINT (-121.74641 39.61310)\n",
       "5     POINT (-121.52073 39.83708)\n",
       "6     POINT (-121.65871 39.65508)\n",
       "7     POINT (-121.70094 39.76059)\n",
       "8     POINT (-121.74242 39.66537)\n",
       "9     POINT (-121.43185 39.84982)\n",
       "10    POINT (-121.73475 39.61077)\n",
       "11    POINT (-121.58456 39.64817)\n",
       "12    POINT (-121.57007 39.66687)\n",
       "13    POINT (-121.55871 39.73622)\n",
       "14    POINT (-121.77520 39.68828)\n",
       "15    POINT (-121.51728 39.64356)\n",
       "16    POINT (-121.76197 39.78443)\n",
       "17    POINT (-121.64941 39.80657)\n",
       "18    POINT (-121.66526 39.78723)\n",
       "19    POINT (-121.75386 39.75774)\n",
       "dtype: geometry"
      ]
     },
     "execution_count": 13,
     "metadata": {},
     "output_type": "execute_result"
    }
   ],
   "source": [
    "gdf_points = gpd.GeoSeries(gpd.points_from_xy(x, y))\n",
    "gdf_points"
   ]
  },
  {
   "cell_type": "markdown",
   "id": "bba81724",
   "metadata": {},
   "source": [
    "We check whether these points belong to the fire perimeter"
   ]
  },
  {
   "cell_type": "code",
   "execution_count": 15,
   "id": "54395e99",
   "metadata": {},
   "outputs": [
    {
     "data": {
      "text/plain": [
       "1     POINT (-121.56627 39.74749)\n",
       "3     POINT (-121.55566 39.82890)\n",
       "5     POINT (-121.52073 39.83708)\n",
       "6     POINT (-121.65871 39.65508)\n",
       "7     POINT (-121.70094 39.76059)\n",
       "8     POINT (-121.74242 39.66537)\n",
       "13    POINT (-121.55871 39.73622)\n",
       "dtype: geometry"
      ]
     },
     "execution_count": 15,
     "metadata": {},
     "output_type": "execute_result"
    }
   ],
   "source": [
    "gdf_points = gdf_points[gdf_points.within(gdf_polygons.unary_union)]\n",
    "gdf_points"
   ]
  },
  {
   "cell_type": "markdown",
   "id": "21404463",
   "metadata": {},
   "source": [
    "Once we have the dots we plot both the perimeter and the location of the dots. "
   ]
  },
  {
   "cell_type": "code",
   "execution_count": 17,
   "id": "185a87eb",
   "metadata": {},
   "outputs": [
    {
     "data": {
      "text/plain": [
       "<AxesSubplot:>"
      ]
     },
     "execution_count": 17,
     "metadata": {},
     "output_type": "execute_result"
    },
    {
     "data": {
      "image/png": "[encoded data removed]",
      "text/plain": [
       "<Figure size 1080x1080 with 1 Axes>"
      ]
     },
     "metadata": {
      "needs_background": "light"
     },
     "output_type": "display_data"
    }
   ],
   "source": [
    "fig, ax = plt.subplots(figsize=(15, 15))\n",
    "gdf_polygons.plot(ax=ax, color='grey')\n",
    "gdf_points.plot(ax=ax,color='k', markersize=120)"
   ]
  }
 ],
 "metadata": {
  "kernelspec": {
   "display_name": "Python 3 (ipykernel)",
   "language": "python",
   "name": "python3"
  },
  "language_info": {
   "codemirror_mode": {
    "name": "ipython",
    "version": 3
   },
   "file_extension": ".py",
   "mimetype": "text/x-python",
   "name": "python",
   "nbconvert_exporter": "python",
   "pygments_lexer": "ipython3",
   "version": "3.10.4"
  }
 },
 "nbformat": 4,
 "nbformat_minor": 5
}
