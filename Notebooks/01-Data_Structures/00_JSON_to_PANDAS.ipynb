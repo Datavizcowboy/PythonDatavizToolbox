{
 "cells": [
  {
   "cell_type": "markdown",
   "metadata": {},
   "source": [
    "# Read JSON file and convert it to Pandas dataframe"
   ]
  },
  {
   "cell_type": "markdown",
   "metadata": {},
   "source": [
    "In this notebook an input JSON file with data containing date and losses associated with volcano eruptions among many other variables is first read and then stored into a Pandas dataframe. "
   ]
  },
  {
   "cell_type": "markdown",
   "metadata": {},
   "source": [
    "We first import the necessary libraries"
   ]
  },
  {
   "cell_type": "code",
   "execution_count": 1,
   "metadata": {},
   "outputs": [],
   "source": [
    "import numpy as np\n",
    "import pandas as pd\n",
    "import json"
   ]
  },
  {
   "cell_type": "markdown",
   "metadata": {},
   "source": [
    "The data we read is the volcano eruptions database from the DATA folder"
   ]
  },
  {
   "cell_type": "code",
   "execution_count": 2,
   "metadata": {},
   "outputs": [],
   "source": [
    "data_path = '../../DATA/volcanic-eruption-database.json'"
   ]
  },
  {
   "cell_type": "markdown",
   "metadata": {},
   "source": [
    "We use the .load function in the json library"
   ]
  },
  {
   "cell_type": "code",
   "execution_count": 6,
   "metadata": {},
   "outputs": [],
   "source": [
    "with open(data_path) as f:\n",
    "    data = json.load(f)"
   ]
  },
  {
   "cell_type": "markdown",
   "metadata": {},
   "source": [
    "The data is now stored as an array. We can check out the content of the first element here: "
   ]
  },
  {
   "cell_type": "code",
   "execution_count": 9,
   "metadata": {},
   "outputs": [
    {
     "data": {
      "text/plain": [
       "{'year': 2010,\n",
       " 'month': '07',\n",
       " 'day': '03',\n",
       " 'tsu': None,\n",
       " 'eq': None,\n",
       " 'name': 'Stromboli',\n",
       " 'location': 'Italy',\n",
       " 'country': 'Italy',\n",
       " 'elevation': 926,\n",
       " 'type': 'Stratovolcano',\n",
       " 'status': 'Historical',\n",
       " 'vei': 2,\n",
       " 'deaths': 1,\n",
       " 'deaths_description': 'Few (~1 to 50 deaths)',\n",
       " 'missing': None,\n",
       " 'missing_description': None,\n",
       " 'injuries': 1.0,\n",
       " 'injuries_description': 'Few (~1 to 50 deaths)',\n",
       " 'damage_millions_dollars': None,\n",
       " 'damage_description': None,\n",
       " 'houses_destroyed': None,\n",
       " 'houses_destroyed_description': None,\n",
       " 'total_deaths': 1,\n",
       " 'total_deaths_description': 'Few (~1 to 50 deaths)',\n",
       " 'total_missing': None,\n",
       " 'total_missing_description': None,\n",
       " 'total_injuries': 1.0,\n",
       " 'total_injuries_description': 'Few (~1 to 50 deaths)',\n",
       " 'total_damage_millions_dollars': 5,\n",
       " 'total_damage_description': None,\n",
       " 'total_houses_destroyed': None,\n",
       " 'total_houses_destroyed_description': None,\n",
       " 'coordinates': {'lon': 15.213, 'lat': 38.789},\n",
       " 'houses_damaged_description': None,\n",
       " 'total_houses_damaged_description': None}"
      ]
     },
     "execution_count": 9,
     "metadata": {},
     "output_type": "execute_result"
    }
   ],
   "source": [
    "data[0]"
   ]
  },
  {
   "cell_type": "markdown",
   "metadata": {},
   "source": [
    "We now create a dataframe in Pandas and assign the desired JSON fields to Pandas columns"
   ]
  },
  {
   "cell_type": "code",
   "execution_count": 4,
   "metadata": {},
   "outputs": [
    {
     "data": {
      "text/html": [
       "<div>\n",
       "<style scoped>\n",
       "    .dataframe tbody tr th:only-of-type {\n",
       "        vertical-align: middle;\n",
       "    }\n",
       "\n",
       "    .dataframe tbody tr th {\n",
       "        vertical-align: top;\n",
       "    }\n",
       "\n",
       "    .dataframe thead th {\n",
       "        text-align: right;\n",
       "    }\n",
       "</style>\n",
       "<table border=\"1\" class=\"dataframe\">\n",
       "  <thead>\n",
       "    <tr style=\"text-align: right;\">\n",
       "      <th></th>\n",
       "      <th>year</th>\n",
       "      <th>name</th>\n",
       "      <th>loss</th>\n",
       "    </tr>\n",
       "  </thead>\n",
       "  <tbody>\n",
       "    <tr>\n",
       "      <th>0</th>\n",
       "      <td>2010</td>\n",
       "      <td>Stromboli</td>\n",
       "      <td>5</td>\n",
       "    </tr>\n",
       "    <tr>\n",
       "      <th>1</th>\n",
       "      <td>2010</td>\n",
       "      <td>Bromo</td>\n",
       "      <td>5.55</td>\n",
       "    </tr>\n",
       "    <tr>\n",
       "      <th>2</th>\n",
       "      <td>2010</td>\n",
       "      <td>Tunguruhua</td>\n",
       "      <td>160.22</td>\n",
       "    </tr>\n",
       "    <tr>\n",
       "      <th>3</th>\n",
       "      <td>1982</td>\n",
       "      <td>Galanggung</td>\n",
       "      <td>100</td>\n",
       "    </tr>\n",
       "    <tr>\n",
       "      <th>4</th>\n",
       "      <td>1990</td>\n",
       "      <td>Kilauea</td>\n",
       "      <td>100.5</td>\n",
       "    </tr>\n",
       "    <tr>\n",
       "      <th>...</th>\n",
       "      <td>...</td>\n",
       "      <td>...</td>\n",
       "      <td>...</td>\n",
       "    </tr>\n",
       "    <tr>\n",
       "      <th>843</th>\n",
       "      <td>2006</td>\n",
       "      <td>Soufriere Hills</td>\n",
       "      <td>None</td>\n",
       "    </tr>\n",
       "    <tr>\n",
       "      <th>844</th>\n",
       "      <td>2015</td>\n",
       "      <td>Calbuco</td>\n",
       "      <td>None</td>\n",
       "    </tr>\n",
       "    <tr>\n",
       "      <th>845</th>\n",
       "      <td>2017</td>\n",
       "      <td>Campi Flegrei</td>\n",
       "      <td>None</td>\n",
       "    </tr>\n",
       "    <tr>\n",
       "      <th>846</th>\n",
       "      <td>2018</td>\n",
       "      <td>Kadovar</td>\n",
       "      <td>None</td>\n",
       "    </tr>\n",
       "    <tr>\n",
       "      <th>847</th>\n",
       "      <td>2018</td>\n",
       "      <td>Ijen</td>\n",
       "      <td>None</td>\n",
       "    </tr>\n",
       "  </tbody>\n",
       "</table>\n",
       "<p>848 rows × 3 columns</p>\n",
       "</div>"
      ],
      "text/plain": [
       "     year             name    loss\n",
       "0    2010        Stromboli       5\n",
       "1    2010            Bromo    5.55\n",
       "2    2010       Tunguruhua  160.22\n",
       "3    1982       Galanggung     100\n",
       "4    1990          Kilauea   100.5\n",
       "..    ...              ...     ...\n",
       "843  2006  Soufriere Hills    None\n",
       "844  2015          Calbuco    None\n",
       "845  2017    Campi Flegrei    None\n",
       "846  2018          Kadovar    None\n",
       "847  2018             Ijen    None\n",
       "\n",
       "[848 rows x 3 columns]"
      ]
     },
     "execution_count": 4,
     "metadata": {},
     "output_type": "execute_result"
    }
   ],
   "source": [
    "content = pd.DataFrame()\n",
    "content['year']=list(map(lambda data: data['year'], data))\n",
    "content['name']=list(map(lambda data: data['name'], data))\n",
    "content['loss']=list(map(lambda data: data['total_damage_millions_dollars'], data))\n",
    "content"
   ]
  },
  {
   "cell_type": "markdown",
   "metadata": {},
   "source": [
    "The output shows the original JSON data structured into Pandas with the column names we have defined. "
   ]
  }
 ],
 "metadata": {
  "kernelspec": {
   "display_name": "Python 3 (ipykernel)",
   "language": "python",
   "name": "python3"
  },
  "language_info": {
   "codemirror_mode": {
    "name": "ipython",
    "version": 3
   },
   "file_extension": ".py",
   "mimetype": "text/x-python",
   "name": "python",
   "nbconvert_exporter": "python",
   "pygments_lexer": "ipython3",
   "version": "3.10.4"
  }
 },
 "nbformat": 4,
 "nbformat_minor": 4
}
