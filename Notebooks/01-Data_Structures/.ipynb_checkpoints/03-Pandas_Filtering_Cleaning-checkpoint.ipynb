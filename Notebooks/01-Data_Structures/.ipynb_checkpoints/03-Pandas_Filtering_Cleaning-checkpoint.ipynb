{
 "cells": [
  {
   "cell_type": "markdown",
   "metadata": {},
   "source": [
    "# Read CSV file and convert into Pandas dataframe"
   ]
  },
  {
   "cell_type": "markdown",
   "metadata": {},
   "source": [
    "Libraries we need are imported first"
   ]
  },
  {
   "cell_type": "code",
   "execution_count": 1,
   "metadata": {},
   "outputs": [],
   "source": [
    "import numpy as np\n",
    "import pandas as pd"
   ]
  },
  {
   "cell_type": "markdown",
   "metadata": {},
   "source": [
    "Data used in this exercise is from worldwide airport locations and details"
   ]
  },
  {
   "cell_type": "code",
   "execution_count": 12,
   "metadata": {},
   "outputs": [],
   "source": [
    "data_path = '../../DATA/airports.csv'"
   ]
  },
  {
   "cell_type": "markdown",
   "metadata": {},
   "source": [
    "The dataframe is created using the .read_csv function "
   ]
  },
  {
   "cell_type": "code",
   "execution_count": 13,
   "metadata": {},
   "outputs": [
    {
     "data": {
      "text/html": [
       "<div>\n",
       "<style scoped>\n",
       "    .dataframe tbody tr th:only-of-type {\n",
       "        vertical-align: middle;\n",
       "    }\n",
       "\n",
       "    .dataframe tbody tr th {\n",
       "        vertical-align: top;\n",
       "    }\n",
       "\n",
       "    .dataframe thead th {\n",
       "        text-align: right;\n",
       "    }\n",
       "</style>\n",
       "<table border=\"1\" class=\"dataframe\">\n",
       "  <thead>\n",
       "    <tr style=\"text-align: right;\">\n",
       "      <th></th>\n",
       "      <th>icao</th>\n",
       "      <th>iata</th>\n",
       "      <th>name</th>\n",
       "      <th>lat</th>\n",
       "      <th>lon</th>\n",
       "      <th>elev</th>\n",
       "      <th>tz</th>\n",
       "      <th>name_ext</th>\n",
       "      <th>city</th>\n",
       "      <th>region</th>\n",
       "      <th>country</th>\n",
       "    </tr>\n",
       "  </thead>\n",
       "  <tbody>\n",
       "    <tr>\n",
       "      <th>0</th>\n",
       "      <td>AYGA</td>\n",
       "      <td>GKA</td>\n",
       "      <td>Goroka</td>\n",
       "      <td>-6.081689</td>\n",
       "      <td>145.391881</td>\n",
       "      <td>1566.0</td>\n",
       "      <td>Pacific/Port_Moresby</td>\n",
       "      <td>Goroka Airport</td>\n",
       "      <td>Goroka</td>\n",
       "      <td>NaN</td>\n",
       "      <td>Papua New Guinea</td>\n",
       "    </tr>\n",
       "    <tr>\n",
       "      <th>1</th>\n",
       "      <td>AYMD</td>\n",
       "      <td>MAG</td>\n",
       "      <td>Madang</td>\n",
       "      <td>-5.207083</td>\n",
       "      <td>145.788700</td>\n",
       "      <td>8.0</td>\n",
       "      <td>Pacific/Port_Moresby</td>\n",
       "      <td>Madang Airport</td>\n",
       "      <td>Madang</td>\n",
       "      <td>NaN</td>\n",
       "      <td>Papua New Guinea</td>\n",
       "    </tr>\n",
       "    <tr>\n",
       "      <th>2</th>\n",
       "      <td>AYMH</td>\n",
       "      <td>HGU</td>\n",
       "      <td>Mount Hagen</td>\n",
       "      <td>-5.826789</td>\n",
       "      <td>144.295861</td>\n",
       "      <td>1636.0</td>\n",
       "      <td>Pacific/Port_Moresby</td>\n",
       "      <td>Mount Hagen Airport</td>\n",
       "      <td>Mount Hagen</td>\n",
       "      <td>NaN</td>\n",
       "      <td>Papua New Guinea</td>\n",
       "    </tr>\n",
       "    <tr>\n",
       "      <th>3</th>\n",
       "      <td>AYNZ</td>\n",
       "      <td>LAE</td>\n",
       "      <td>Nadzab</td>\n",
       "      <td>-6.569828</td>\n",
       "      <td>146.726242</td>\n",
       "      <td>65.0</td>\n",
       "      <td>Pacific/Port_Moresby</td>\n",
       "      <td>Lae Nadzab Airport</td>\n",
       "      <td>Lae</td>\n",
       "      <td>NaN</td>\n",
       "      <td>Papua New Guinea</td>\n",
       "    </tr>\n",
       "    <tr>\n",
       "      <th>4</th>\n",
       "      <td>AYPY</td>\n",
       "      <td>POM</td>\n",
       "      <td>Port Moresby Jacksons Intl</td>\n",
       "      <td>-9.443383</td>\n",
       "      <td>147.220050</td>\n",
       "      <td>50.0</td>\n",
       "      <td>Pacific/Port_Moresby</td>\n",
       "      <td>Jacksons International Airport</td>\n",
       "      <td>Port Moresby</td>\n",
       "      <td>NaN</td>\n",
       "      <td>Papua New Guinea</td>\n",
       "    </tr>\n",
       "    <tr>\n",
       "      <th>...</th>\n",
       "      <td>...</td>\n",
       "      <td>...</td>\n",
       "      <td>...</td>\n",
       "      <td>...</td>\n",
       "      <td>...</td>\n",
       "      <td>...</td>\n",
       "      <td>...</td>\n",
       "      <td>...</td>\n",
       "      <td>...</td>\n",
       "      <td>...</td>\n",
       "      <td>...</td>\n",
       "    </tr>\n",
       "    <tr>\n",
       "      <th>8887</th>\n",
       "      <td>LFPQ</td>\n",
       "      <td>NaN</td>\n",
       "      <td>Fontenay Tresigny</td>\n",
       "      <td>48.707222</td>\n",
       "      <td>2.904444</td>\n",
       "      <td>98.0</td>\n",
       "      <td>Europe/Paris</td>\n",
       "      <td>NaN</td>\n",
       "      <td>NaN</td>\n",
       "      <td>NaN</td>\n",
       "      <td>NaN</td>\n",
       "    </tr>\n",
       "    <tr>\n",
       "      <th>8888</th>\n",
       "      <td>KASY</td>\n",
       "      <td>ASY</td>\n",
       "      <td>ASHLEY MUNI</td>\n",
       "      <td>46.024951</td>\n",
       "      <td>-99.351260</td>\n",
       "      <td>615.0</td>\n",
       "      <td>America/Chicago</td>\n",
       "      <td>Ashley Municipal Airport</td>\n",
       "      <td>Ashley</td>\n",
       "      <td>North Dakota</td>\n",
       "      <td>United States</td>\n",
       "    </tr>\n",
       "    <tr>\n",
       "      <th>8889</th>\n",
       "      <td>LFDR</td>\n",
       "      <td>NaN</td>\n",
       "      <td>La Reole Floudes</td>\n",
       "      <td>44.568054</td>\n",
       "      <td>-0.056111</td>\n",
       "      <td>20.0</td>\n",
       "      <td>Europe/Paris</td>\n",
       "      <td>NaN</td>\n",
       "      <td>NaN</td>\n",
       "      <td>NaN</td>\n",
       "      <td>NaN</td>\n",
       "    </tr>\n",
       "    <tr>\n",
       "      <th>8890</th>\n",
       "      <td>SDDR</td>\n",
       "      <td>NaN</td>\n",
       "      <td>Dracena</td>\n",
       "      <td>-21.460511</td>\n",
       "      <td>-51.606898</td>\n",
       "      <td>365.0</td>\n",
       "      <td>America/Sao_Paulo</td>\n",
       "      <td>NaN</td>\n",
       "      <td>NaN</td>\n",
       "      <td>NaN</td>\n",
       "      <td>NaN</td>\n",
       "    </tr>\n",
       "    <tr>\n",
       "      <th>8891</th>\n",
       "      <td>SLAS</td>\n",
       "      <td>ASC</td>\n",
       "      <td>Ascension De Guarayos</td>\n",
       "      <td>-15.719167</td>\n",
       "      <td>-63.091946</td>\n",
       "      <td>217.0</td>\n",
       "      <td>America/La_Paz</td>\n",
       "      <td>Ascención de Guarayos Airport</td>\n",
       "      <td>Ascención de Guarayos</td>\n",
       "      <td>NaN</td>\n",
       "      <td>Bolivia</td>\n",
       "    </tr>\n",
       "  </tbody>\n",
       "</table>\n",
       "<p>8892 rows × 11 columns</p>\n",
       "</div>"
      ],
      "text/plain": [
       "      icao iata                        name        lat         lon    elev  \\\n",
       "0     AYGA  GKA                      Goroka  -6.081689  145.391881  1566.0   \n",
       "1     AYMD  MAG                      Madang  -5.207083  145.788700     8.0   \n",
       "2     AYMH  HGU                 Mount Hagen  -5.826789  144.295861  1636.0   \n",
       "3     AYNZ  LAE                      Nadzab  -6.569828  146.726242    65.0   \n",
       "4     AYPY  POM  Port Moresby Jacksons Intl  -9.443383  147.220050    50.0   \n",
       "...    ...  ...                         ...        ...         ...     ...   \n",
       "8887  LFPQ  NaN           Fontenay Tresigny  48.707222    2.904444    98.0   \n",
       "8888  KASY  ASY                 ASHLEY MUNI  46.024951  -99.351260   615.0   \n",
       "8889  LFDR  NaN            La Reole Floudes  44.568054   -0.056111    20.0   \n",
       "8890  SDDR  NaN                     Dracena -21.460511  -51.606898   365.0   \n",
       "8891  SLAS  ASC       Ascension De Guarayos -15.719167  -63.091946   217.0   \n",
       "\n",
       "                        tz                        name_ext  \\\n",
       "0     Pacific/Port_Moresby                  Goroka Airport   \n",
       "1     Pacific/Port_Moresby                  Madang Airport   \n",
       "2     Pacific/Port_Moresby             Mount Hagen Airport   \n",
       "3     Pacific/Port_Moresby              Lae Nadzab Airport   \n",
       "4     Pacific/Port_Moresby  Jacksons International Airport   \n",
       "...                    ...                             ...   \n",
       "8887          Europe/Paris                             NaN   \n",
       "8888       America/Chicago        Ashley Municipal Airport   \n",
       "8889          Europe/Paris                             NaN   \n",
       "8890     America/Sao_Paulo                             NaN   \n",
       "8891        America/La_Paz   Ascención de Guarayos Airport   \n",
       "\n",
       "                       city         region            country  \n",
       "0                    Goroka            NaN   Papua New Guinea  \n",
       "1                    Madang            NaN   Papua New Guinea  \n",
       "2               Mount Hagen            NaN   Papua New Guinea  \n",
       "3                       Lae            NaN   Papua New Guinea  \n",
       "4              Port Moresby            NaN   Papua New Guinea  \n",
       "...                     ...            ...                ...  \n",
       "8887                    NaN            NaN                NaN  \n",
       "8888                 Ashley   North Dakota      United States  \n",
       "8889                    NaN            NaN                NaN  \n",
       "8890                    NaN            NaN                NaN  \n",
       "8891  Ascención de Guarayos            NaN            Bolivia  \n",
       "\n",
       "[8892 rows x 11 columns]"
      ]
     },
     "execution_count": 13,
     "metadata": {},
     "output_type": "execute_result"
    }
   ],
   "source": [
    "content = pd.read_csv(data_path)\n",
    "content"
   ]
  },
  {
   "cell_type": "markdown",
   "metadata": {},
   "source": [
    "The original CSV file is structured as a dataframe with the corresponding categories"
   ]
  },
  {
   "cell_type": "markdown",
   "metadata": {},
   "source": [
    "Dropping by category"
   ]
  },
  {
   "cell_type": "code",
   "execution_count": 1,
   "metadata": {},
   "outputs": [
    {
     "ename": "NameError",
     "evalue": "name 'mypanda' is not defined",
     "output_type": "error",
     "traceback": [
      "\u001b[0;31m---------------------------------------------------------------------------\u001b[0m",
      "\u001b[0;31mNameError\u001b[0m                                 Traceback (most recent call last)",
      "\u001b[0;32m/var/folders/5k/mjzbrl8j1773drpygwd3n0mm0000gn/T/ipykernel_36675/3285907084.py\u001b[0m in \u001b[0;36m<cell line: 1>\u001b[0;34m()\u001b[0m\n\u001b[0;32m----> 1\u001b[0;31m \u001b[0mmyboat\u001b[0m\u001b[0;34m=\u001b[0m \u001b[0mmypanda\u001b[0m\u001b[0;34m.\u001b[0m\u001b[0mdrop\u001b[0m\u001b[0;34m(\u001b[0m\u001b[0mmypanda\u001b[0m\u001b[0;34m[\u001b[0m\u001b[0mmypanda\u001b[0m\u001b[0;34m.\u001b[0m\u001b[0memb\u001b[0m \u001b[0;34m==\u001b[0m \u001b[0;34m'NA'\u001b[0m\u001b[0;34m]\u001b[0m\u001b[0;34m.\u001b[0m\u001b[0mindex\u001b[0m\u001b[0;34m)\u001b[0m\u001b[0;34m\u001b[0m\u001b[0;34m\u001b[0m\u001b[0m\n\u001b[0m\u001b[1;32m      2\u001b[0m \u001b[0mmyboat\u001b[0m\u001b[0;34m=\u001b[0m \u001b[0mmyboat\u001b[0m\u001b[0;34m.\u001b[0m\u001b[0mdrop\u001b[0m\u001b[0;34m(\u001b[0m\u001b[0mmyboat\u001b[0m\u001b[0;34m[\u001b[0m\u001b[0mmyboat\u001b[0m\u001b[0;34m.\u001b[0m\u001b[0memb\u001b[0m \u001b[0;34m==\u001b[0m \u001b[0;34m'ND'\u001b[0m\u001b[0;34m]\u001b[0m\u001b[0;34m.\u001b[0m\u001b[0mindex\u001b[0m\u001b[0;34m)\u001b[0m\u001b[0;34m\u001b[0m\u001b[0;34m\u001b[0m\u001b[0m\n\u001b[1;32m      3\u001b[0m \u001b[0mmypesc\u001b[0m\u001b[0;34m=\u001b[0m\u001b[0mmypanda\u001b[0m\u001b[0;34m.\u001b[0m\u001b[0mdrop\u001b[0m\u001b[0;34m(\u001b[0m\u001b[0mmypanda\u001b[0m\u001b[0;34m[\u001b[0m\u001b[0mmypanda\u001b[0m\u001b[0;34m.\u001b[0m\u001b[0mpesc\u001b[0m \u001b[0;34m==\u001b[0m \u001b[0;34m'ND'\u001b[0m\u001b[0;34m]\u001b[0m\u001b[0;34m.\u001b[0m\u001b[0mindex\u001b[0m\u001b[0;34m)\u001b[0m\u001b[0;34m\u001b[0m\u001b[0;34m\u001b[0m\u001b[0m\n\u001b[1;32m      4\u001b[0m \u001b[0mmycapt\u001b[0m\u001b[0;34m=\u001b[0m\u001b[0mmypanda\u001b[0m\u001b[0;34m.\u001b[0m\u001b[0mdrop\u001b[0m\u001b[0;34m(\u001b[0m\u001b[0mmypanda\u001b[0m\u001b[0;34m[\u001b[0m\u001b[0mmypanda\u001b[0m\u001b[0;34m.\u001b[0m\u001b[0mcapt\u001b[0m \u001b[0;34m==\u001b[0m \u001b[0;34m'ND'\u001b[0m\u001b[0;34m]\u001b[0m\u001b[0;34m.\u001b[0m\u001b[0mindex\u001b[0m\u001b[0;34m)\u001b[0m\u001b[0;34m\u001b[0m\u001b[0;34m\u001b[0m\u001b[0m\n",
      "\u001b[0;31mNameError\u001b[0m: name 'mypanda' is not defined"
     ]
    }
   ],
   "source": [
    "myboat= mypanda.drop(mypanda[mypanda.emb == 'NA'].index)"
   ]
  },
  {
   "cell_type": "markdown",
   "metadata": {},
   "source": [
    "To Numeric format"
   ]
  },
  {
   "cell_type": "code",
   "execution_count": null,
   "metadata": {},
   "outputs": [],
   "source": [
    "mycapt[\"capt\"] = pd.to_numeric(mycapt[\"capt\"])"
   ]
  },
  {
   "cell_type": "markdown",
   "metadata": {},
   "source": [
    "Display column value"
   ]
  },
  {
   "cell_type": "code",
   "execution_count": null,
   "metadata": {},
   "outputs": [],
   "source": [
    "capturas = mycapt[[\"capt\"]].values"
   ]
  }
 ],
 "metadata": {
  "kernelspec": {
   "display_name": "Python 3 (ipykernel)",
   "language": "python",
   "name": "python3"
  },
  "language_info": {
   "codemirror_mode": {
    "name": "ipython",
    "version": 3
   },
   "file_extension": ".py",
   "mimetype": "text/x-python",
   "name": "python",
   "nbconvert_exporter": "python",
   "pygments_lexer": "ipython3",
   "version": "3.10.4"
  }
 },
 "nbformat": 4,
 "nbformat_minor": 4
}
