{
 "cells": [
  {
   "cell_type": "markdown",
   "metadata": {},
   "source": [
    "# Read CSV file and convert it into JSON file with Parent/Child structure"
   ]
  },
  {
   "cell_type": "markdown",
   "metadata": {},
   "source": [
    "In this notebook the input CSV file data is structured as a dictionary, aiming at an output in JSON format but this time embedded into a parent/child format. This is useful for some D3.js data visualization techniques that require the parent/child structure to display the data. "
   ]
  },
  {
   "cell_type": "markdown",
   "metadata": {},
   "source": [
    "We first load the necessary python libraries"
   ]
  },
  {
   "cell_type": "code",
   "execution_count": 8,
   "metadata": {},
   "outputs": [],
   "source": [
    "import json"
   ]
  },
  {
   "cell_type": "markdown",
   "metadata": {},
   "source": [
    "Data is retrieved from the worldwide airport data stored in the DATA folder"
   ]
  },
  {
   "cell_type": "code",
   "execution_count": 9,
   "metadata": {},
   "outputs": [],
   "source": [
    "data_path = '../../DATA/airports.csv'\n",
    "output_path = '../../OUTPUT/'"
   ]
  },
  {
   "cell_type": "markdown",
   "metadata": {},
   "source": [
    "Empty arrays are defined to store the variables of interest contained in the CSV file. In this particular case we will just fetch latitude and longitude as an example. "
   ]
  },
  {
   "cell_type": "code",
   "execution_count": 10,
   "metadata": {},
   "outputs": [],
   "source": [
    "lat=[]\n",
    "lon=[]\n",
    "tuple_list = []"
   ]
  },
  {
   "cell_type": "markdown",
   "metadata": {},
   "source": [
    "The CSV is read line by line, storing the data split by commas into the arrays"
   ]
  },
  {
   "cell_type": "code",
   "execution_count": 11,
   "metadata": {},
   "outputs": [],
   "source": [
    "fp = open(data_path, 'r')  \n",
    "\n",
    "for g in fp.readlines()[1:]:\n",
    "    line =g.strip()\n",
    "    data=line.split(',')\n",
    "    lat.append(float(data[3]))\n",
    "    lon.append(float(data[4]))\n",
    "fp.close()"
   ]
  },
  {
   "cell_type": "markdown",
   "metadata": {},
   "source": [
    "We check the output in the form of array for one of the variables by looking at the first five elements of the array. String data has been converted to float types so we obtain a series of numbers. "
   ]
  },
  {
   "cell_type": "code",
   "execution_count": 14,
   "metadata": {},
   "outputs": [
    {
     "data": {
      "text/plain": [
       "[-6.081689, -5.207083, -5.826789, -6.569828, -9.443383]"
      ]
     },
     "execution_count": 14,
     "metadata": {},
     "output_type": "execute_result"
    }
   ],
   "source": [
    "lat[0:5]"
   ]
  },
  {
   "cell_type": "markdown",
   "metadata": {},
   "source": [
    "We create a tuple that contains the coordinate pairs first. "
   ]
  },
  {
   "cell_type": "code",
   "execution_count": 16,
   "metadata": {},
   "outputs": [],
   "source": [
    "for i in range(0,len(lat)):\n",
    "    tuple_list.append([lat[i],lon[i]])"
   ]
  },
  {
   "cell_type": "markdown",
   "metadata": {},
   "source": [
    "We check the structure of this tuple list for the first five elements, just pairs of latitude and longitude coordinates."
   ]
  },
  {
   "cell_type": "code",
   "execution_count": 18,
   "metadata": {},
   "outputs": [
    {
     "data": {
      "text/plain": [
       "[[-6.081689, 145.391881],\n",
       " [-5.207083, 145.7887],\n",
       " [-5.826789, 144.295861],\n",
       " [-6.569828, 146.72624199999996],\n",
       " [-9.443383, 147.22005]]"
      ]
     },
     "execution_count": 18,
     "metadata": {},
     "output_type": "execute_result"
    }
   ],
   "source": [
    "tuple_list[0:5]"
   ]
  },
  {
   "cell_type": "markdown",
   "metadata": {},
   "source": [
    "We now create a dictionary where each pair is associated with two categories, \"lat\" and \"lon\""
   ]
  },
  {
   "cell_type": "code",
   "execution_count": 19,
   "metadata": {},
   "outputs": [],
   "source": [
    "tuple_dict = [dict(zip((\"lat\", \"lon\"), x)) for x in tuple_list]"
   ]
  },
  {
   "cell_type": "markdown",
   "metadata": {},
   "source": [
    "We check the output of this dictionary for the first five elements"
   ]
  },
  {
   "cell_type": "code",
   "execution_count": 22,
   "metadata": {},
   "outputs": [
    {
     "data": {
      "text/plain": [
       "[{'lat': -6.081689, 'lon': 145.391881},\n",
       " {'lat': -5.207083, 'lon': 145.7887},\n",
       " {'lat': -5.826789, 'lon': 144.295861},\n",
       " {'lat': -6.569828, 'lon': 146.72624199999996},\n",
       " {'lat': -9.443383, 'lon': 147.22005}]"
      ]
     },
     "execution_count": 22,
     "metadata": {},
     "output_type": "execute_result"
    }
   ],
   "source": [
    "tuple_dict[0:5]"
   ]
  },
  {
   "cell_type": "markdown",
   "metadata": {},
   "source": [
    "We now create the output structure in the form of a JSON file, where we embed the dictionary we have created. "
   ]
  },
  {
   "cell_type": "code",
   "execution_count": 23,
   "metadata": {},
   "outputs": [],
   "source": [
    "output_dict = {\n",
    " \"name\": \"airports\",\n",
    " \"children\": [\n",
    "  {\n",
    "   \"name\": \"locations\",\n",
    "   \"children\": tuple_dict}]}"
   ]
  },
  {
   "cell_type": "markdown",
   "metadata": {},
   "source": [
    "We finally save the output using JSON dump function into a JSON file. "
   ]
  },
  {
   "cell_type": "code",
   "execution_count": 25,
   "metadata": {},
   "outputs": [],
   "source": [
    "with open(output_path+\"airports_output_dictionary.json\", \"w\") as f:\n",
    "    json.dump(output_dict, f)"
   ]
  }
 ],
 "metadata": {
  "kernelspec": {
   "display_name": "Python 3 (ipykernel)",
   "language": "python",
   "name": "python3"
  },
  "language_info": {
   "codemirror_mode": {
    "name": "ipython",
    "version": 3
   },
   "file_extension": ".py",
   "mimetype": "text/x-python",
   "name": "python",
   "nbconvert_exporter": "python",
   "pygments_lexer": "ipython3",
   "version": "3.10.4"
  }
 },
 "nbformat": 4,
 "nbformat_minor": 4
}
